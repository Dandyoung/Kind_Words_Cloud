{
 "cells": [
  {
   "cell_type": "code",
   "execution_count": 5,
   "metadata": {},
   "outputs": [],
   "source": [
    "from pydub import *\n",
    "import os\n",
    "from random import randint"
   ]
  },
  {
   "cell_type": "code",
   "execution_count": 6,
   "metadata": {},
   "outputs": [
    {
     "name": "stdout",
     "output_type": "stream",
     "text": [
      "['background_0.wav']\n"
     ]
    }
   ],
   "source": [
    "files = []\n",
    "for file in os.listdir(os.path.join('.', 'data', 'audio_label_clip','background')):\n",
    "    if \"background\" in file:\n",
    "        files.append(file)\n",
    "print(files)"
   ]
  },
  {
   "cell_type": "code",
   "execution_count": 7,
   "metadata": {},
   "outputs": [],
   "source": [
    "for i in range(20):\n",
    "    rand_list = []\n",
    "    rand_list.append(randint(0, len(files)-1))\n",
    "    total_audio = AudioSegment.from_wav(os.path.join('.','data','audio_label_clip','background', files[rand_list[0]]))\n",
    "    while(len(total_audio)<(10*1000)): #10초\n",
    "        temp=randint(0, len(files)-1)\n",
    "        if temp in rand_list:\n",
    "            while temp not in rand_list:\n",
    "                temp=randint(0, len(files)-1)\n",
    "        rand_list.append(temp)\n",
    "        total_audio += AudioSegment.from_wav(os.path.join('.','data','audio_label_clip','background', files[rand_list[-1]]))\n",
    "    total_audio = total_audio[:(10 * 1000)]\n",
    "    name = \"background_\" + str(i) + \".wav\"\n",
    "    total_audio.export(os.path.join('.','data','audio_label_clip','background', name), format=\"wav\")"
   ]
  }
 ],
 "metadata": {
  "kernelspec": {
   "display_name": "Python 3",
   "language": "python",
   "name": "python3"
  },
  "language_info": {
   "codemirror_mode": {
    "name": "ipython",
    "version": 3
   },
   "file_extension": ".py",
   "mimetype": "text/x-python",
   "name": "python",
   "nbconvert_exporter": "python",
   "pygments_lexer": "ipython3",
   "version": "3.7.16"
  }
 },
 "nbformat": 4,
 "nbformat_minor": 2
}
