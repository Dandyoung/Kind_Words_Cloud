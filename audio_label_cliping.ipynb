{
 "cells": [
  {
   "cell_type": "code",
   "execution_count": 11,
   "metadata": {},
   "outputs": [],
   "source": [
    "## pip install moviepy==1.0.0\n",
    "\n",
    "import os\n",
    "import librosa\n",
    "import pandas as pd\n",
    "from moviepy.editor import *\n",
    "from tqdm import tqdm_notebook\n",
    "import numpy as np\n",
    "import re"
   ]
  },
  {
   "cell_type": "code",
   "execution_count": 12,
   "metadata": {},
   "outputs": [],
   "source": [
    "#from utils import make_dir\n",
    "def make_dir(dir_):\n",
    "    if not os.path.isdir(dir_):\n",
    "        os.mkdir(dir_)"
   ]
  },
  {
   "cell_type": "code",
   "execution_count": 13,
   "metadata": {},
   "outputs": [],
   "source": [
    "background_dir = './data/audio_label_clip/background'  # 배경 디렉터리 경로\n",
    "os.makedirs(background_dir, exist_ok=True)  # 배경 디렉터리 생성\n",
    "\n",
    "activate_dir = './data/audio_label_clip/activate'  # 배경 디렉터리 경로\n",
    "os.makedirs(activate_dir, exist_ok=True)  # 배경 디렉터리 생성\n",
    "\n",
    "negative_dir = './data/audio_label_clip/negative'  # 배경 디렉터리 경로\n",
    "os.makedirs(negative_dir, exist_ok=True)  # 배경 디렉터리 생성"
   ]
  },
  {
   "cell_type": "code",
   "execution_count": 14,
   "metadata": {},
   "outputs": [],
   "source": [
    "audio_label_clip_dir = os.path.join('.', 'data', 'audio_label_clip')\n",
    "make_dir(audio_label_clip_dir)"
   ]
  },
  {
   "cell_type": "code",
   "execution_count": 15,
   "metadata": {},
   "outputs": [],
   "source": [
    "def save(audios, label):\n",
    "    data = pd.DataFrame({\n",
    "        'audios':audios, 'label':label })\n",
    "    data.to_csv(audio_label_clip_dir+'/audio_label_clip.csv', index=False, encoding='euc-kr')"
   ]
  },
  {
   "cell_type": "code",
   "execution_count": 16,
   "metadata": {},
   "outputs": [
    {
     "name": "stdout",
     "output_type": "stream",
     "text": [
      "['2-6xb9sJT9s_0', '2-6xb9sJT9s_1', '2-6xb9sJT9s_2', '2-6xb9sJT9s_3', '2-6xb9sJT9s_4', '2-6xb9sJT9s_5', '2-6xb9sJT9s_6', '2-6xb9sJT9s_7', '2-6xb9sJT9s_8', '6io5HgRyGDU_0', '6io5HgRyGDU_1', '6io5HgRyGDU_2', '6io5HgRyGDU_3', '6io5HgRyGDU_4', '80LNjK_RQT4_0', '80LNjK_RQT4_1', '80LNjK_RQT4_2', '80LNjK_RQT4_3', '8CKFwKEDKII_0', '8CKFwKEDKII_1', '8CKFwKEDKII_2', '8CKFwKEDKII_3', '8CKFwKEDKII_4', '8CKFwKEDKII_5', '8CKFwKEDKII_6', 'aGY7n53AlB8_0', 'aGY7n53AlB8_1', 'aGY7n53AlB8_2', 'aGY7n53AlB8_3', 'aGY7n53AlB8_4', 'aGY7n53AlB8_5', 'aGY7n53AlB8_6', 'aGY7n53AlB8_7', 'aGY7n53AlB8_8', 'aiF9Lrgt5Xc_0', 'aiF9Lrgt5Xc_1', 'aiF9Lrgt5Xc_10', 'aiF9Lrgt5Xc_11', 'aiF9Lrgt5Xc_2', 'aiF9Lrgt5Xc_3', 'aiF9Lrgt5Xc_4', 'aiF9Lrgt5Xc_5', 'aiF9Lrgt5Xc_6', 'aiF9Lrgt5Xc_7', 'aiF9Lrgt5Xc_8', 'aiF9Lrgt5Xc_9', 'b270wrAtGAQ_0', 'b270wrAtGAQ_1', 'b270wrAtGAQ_10', 'b270wrAtGAQ_11', 'b270wrAtGAQ_2', 'b270wrAtGAQ_3', 'b270wrAtGAQ_4', 'b270wrAtGAQ_5', 'b270wrAtGAQ_6', 'b270wrAtGAQ_7', 'b270wrAtGAQ_8', 'b270wrAtGAQ_9', 'B3ah0WR4e9E_0', 'B3ah0WR4e9E_1', 'B3ah0WR4e9E_10', 'B3ah0WR4e9E_11', 'B3ah0WR4e9E_12', 'B3ah0WR4e9E_13', 'B3ah0WR4e9E_14', 'B3ah0WR4e9E_15', 'B3ah0WR4e9E_2', 'B3ah0WR4e9E_3', 'B3ah0WR4e9E_4', 'B3ah0WR4e9E_5', 'B3ah0WR4e9E_6', 'B3ah0WR4e9E_7', 'B3ah0WR4e9E_8', 'B3ah0WR4e9E_9', 'bGFkdfYPPAo_0', 'bGFkdfYPPAo_1', 'bGFkdfYPPAo_10', 'bGFkdfYPPAo_11', 'bGFkdfYPPAo_12', 'bGFkdfYPPAo_13', 'bGFkdfYPPAo_14', 'bGFkdfYPPAo_15', 'bGFkdfYPPAo_2', 'bGFkdfYPPAo_3', 'bGFkdfYPPAo_4', 'bGFkdfYPPAo_5', 'bGFkdfYPPAo_6', 'bGFkdfYPPAo_7', 'bGFkdfYPPAo_8', 'bGFkdfYPPAo_9', 'Ci_KihazlPI_0', 'Ci_KihazlPI_1', 'Ci_KihazlPI_10', 'Ci_KihazlPI_11', 'Ci_KihazlPI_12', 'Ci_KihazlPI_13', 'Ci_KihazlPI_2', 'Ci_KihazlPI_3', 'Ci_KihazlPI_4', 'Ci_KihazlPI_5', 'Ci_KihazlPI_6', 'Ci_KihazlPI_7', 'Ci_KihazlPI_8', 'Ci_KihazlPI_9', 'DaiuEzbidpw_0', 'DaiuEzbidpw_1', 'DaiuEzbidpw_10', 'DaiuEzbidpw_11', 'DaiuEzbidpw_12', 'DaiuEzbidpw_13', 'DaiuEzbidpw_14', 'DaiuEzbidpw_15', 'DaiuEzbidpw_16', 'DaiuEzbidpw_2', 'DaiuEzbidpw_3', 'DaiuEzbidpw_4', 'DaiuEzbidpw_5', 'DaiuEzbidpw_6', 'DaiuEzbidpw_7', 'DaiuEzbidpw_8', 'DaiuEzbidpw_9', 'dFCEjR9fb1M_0', 'dFCEjR9fb1M_1', 'dFCEjR9fb1M_2', 'dFCEjR9fb1M_3', 'dFCEjR9fb1M_4', 'dFCEjR9fb1M_5', 'dFCEjR9fb1M_6', 'dNsVyX8LBhk_0', 'dNsVyX8LBhk_1', 'dNsVyX8LBhk_10', 'dNsVyX8LBhk_11', 'dNsVyX8LBhk_12', 'dNsVyX8LBhk_13', 'dNsVyX8LBhk_14', 'dNsVyX8LBhk_15', 'dNsVyX8LBhk_16', 'dNsVyX8LBhk_17', 'dNsVyX8LBhk_18', 'dNsVyX8LBhk_19', 'dNsVyX8LBhk_2', 'dNsVyX8LBhk_3', 'dNsVyX8LBhk_4', 'dNsVyX8LBhk_5', 'dNsVyX8LBhk_6', 'dNsVyX8LBhk_7', 'dNsVyX8LBhk_8', 'dNsVyX8LBhk_9', 'dof8M5K11Ls_0', 'dof8M5K11Ls_1', 'dof8M5K11Ls_2', 'dof8M5K11Ls_3', 'dof8M5K11Ls_4', 'dof8M5K11Ls_5', 'dof8M5K11Ls_6', 'dof8M5K11Ls_7', 'dof8M5K11Ls_8', 'dof8M5K11Ls_9', 'fIyVx_OmugI_0', 'fIyVx_OmugI_1', 'fIyVx_OmugI_10', 'fIyVx_OmugI_2', 'fIyVx_OmugI_3', 'fIyVx_OmugI_4', 'fIyVx_OmugI_5', 'fIyVx_OmugI_6', 'fIyVx_OmugI_7', 'fIyVx_OmugI_8', 'fIyVx_OmugI_9', 'gFJ-E3e_NAY_0', 'gFJ-E3e_NAY_1', 'gFJ-E3e_NAY_2', 'gFJ-E3e_NAY_3', 'gFJ-E3e_NAY_4', 'gFJ-E3e_NAY_5', 'gFJ-E3e_NAY_6', 'gFJ-E3e_NAY_7', 'gFJ-E3e_NAY_8', 'gFJ-E3e_NAY_9', 'hGDZf125bQc_0', 'hGDZf125bQc_1', 'hGDZf125bQc_10', 'hGDZf125bQc_11', 'hGDZf125bQc_12', 'hGDZf125bQc_13', 'hGDZf125bQc_14', 'hGDZf125bQc_15', 'hGDZf125bQc_16', 'hGDZf125bQc_17', 'hGDZf125bQc_2', 'hGDZf125bQc_3', 'hGDZf125bQc_4', 'hGDZf125bQc_5', 'hGDZf125bQc_6', 'hGDZf125bQc_7', 'hGDZf125bQc_8', 'hGDZf125bQc_9', 'hLgF4_J0N_s_0', 'hv8C40AA64M_0', 'hv8C40AA64M_1', 'hv8C40AA64M_10', 'hv8C40AA64M_11', 'hv8C40AA64M_2', 'hv8C40AA64M_3', 'hv8C40AA64M_4', 'hv8C40AA64M_5', 'hv8C40AA64M_6', 'hv8C40AA64M_7', 'hv8C40AA64M_8', 'hv8C40AA64M_9', 'j1N-vAPn4y8_0', 'j1N-vAPn4y8_1', 'j1N-vAPn4y8_10', 'j1N-vAPn4y8_11', 'j1N-vAPn4y8_12', 'j1N-vAPn4y8_13', 'j1N-vAPn4y8_2', 'j1N-vAPn4y8_3', 'j1N-vAPn4y8_4', 'j1N-vAPn4y8_5', 'j1N-vAPn4y8_6', 'j1N-vAPn4y8_7', 'j1N-vAPn4y8_8', 'j1N-vAPn4y8_9', 'JDy-dj61fzA_0', 'JDy-dj61fzA_1', 'JDy-dj61fzA_10', 'JDy-dj61fzA_11', 'JDy-dj61fzA_12', 'JDy-dj61fzA_13', 'JDy-dj61fzA_14', 'JDy-dj61fzA_15', 'JDy-dj61fzA_16', 'JDy-dj61fzA_2', 'JDy-dj61fzA_3', 'JDy-dj61fzA_4', 'JDy-dj61fzA_5', 'JDy-dj61fzA_6', 'JDy-dj61fzA_7', 'JDy-dj61fzA_8', 'JDy-dj61fzA_9', 'jQ7SQXCcEhs_0', 'jQ7SQXCcEhs_1', 'jQ7SQXCcEhs_10', 'jQ7SQXCcEhs_11', 'jQ7SQXCcEhs_12', 'jQ7SQXCcEhs_13', 'jQ7SQXCcEhs_2', 'jQ7SQXCcEhs_3', 'jQ7SQXCcEhs_4', 'jQ7SQXCcEhs_5', 'jQ7SQXCcEhs_6', 'jQ7SQXCcEhs_7', 'jQ7SQXCcEhs_8', 'jQ7SQXCcEhs_9', 'kYmxpumtQDw_0', 'kYmxpumtQDw_1', 'kYmxpumtQDw_10', 'kYmxpumtQDw_2', 'kYmxpumtQDw_3', 'kYmxpumtQDw_4', 'kYmxpumtQDw_5', 'kYmxpumtQDw_6', 'kYmxpumtQDw_7', 'kYmxpumtQDw_8', 'kYmxpumtQDw_9', 'lNi-7heGSFE_0', 'lNi-7heGSFE_1', 'lNi-7heGSFE_2', 'lNi-7heGSFE_3', 'lNi-7heGSFE_4', 'lNi-7heGSFE_5', 'lNi-7heGSFE_6', 'lNi-7heGSFE_7', 'lNi-7heGSFE_8', 'lqKwKmtMf2A_0', 'lqKwKmtMf2A_1', 'lqKwKmtMf2A_2', 'lqKwKmtMf2A_3', 'lqKwKmtMf2A_4', 'lqKwKmtMf2A_5', 'lqKwKmtMf2A_6', 'lqKwKmtMf2A_7', 'lqKwKmtMf2A_8', 'lqKwKmtMf2A_9', 'MAm2XT9ouWg_0', 'Nl5i5RyAKyU_0', 'Nl5i5RyAKyU_1', 'Nl5i5RyAKyU_10', 'Nl5i5RyAKyU_11', 'Nl5i5RyAKyU_12', 'Nl5i5RyAKyU_13', 'Nl5i5RyAKyU_14', 'Nl5i5RyAKyU_15', 'Nl5i5RyAKyU_16', 'Nl5i5RyAKyU_17', 'Nl5i5RyAKyU_18', 'Nl5i5RyAKyU_19', 'Nl5i5RyAKyU_2', 'Nl5i5RyAKyU_20', 'Nl5i5RyAKyU_3', 'Nl5i5RyAKyU_4', 'Nl5i5RyAKyU_5', 'Nl5i5RyAKyU_6', 'Nl5i5RyAKyU_7', 'Nl5i5RyAKyU_8', 'Nl5i5RyAKyU_9', 'nYBERR1xr1E_0', 'nYBERR1xr1E_1', 'nYBERR1xr1E_2', 'nYBERR1xr1E_3', 'nYBERR1xr1E_4', 'nYBERR1xr1E_5', 'nYBERR1xr1E_6', 'o4nZ4672fU8_0', 'o4nZ4672fU8_1', 'o4nZ4672fU8_2', 'o4nZ4672fU8_3', 'o4nZ4672fU8_4', 'o4nZ4672fU8_5', 'o4nZ4672fU8_6', 'o7X_jwhBFpI_0', 'o7X_jwhBFpI_1', 'o7X_jwhBFpI_10', 'o7X_jwhBFpI_11', 'o7X_jwhBFpI_12', 'o7X_jwhBFpI_13', 'o7X_jwhBFpI_2', 'o7X_jwhBFpI_3', 'o7X_jwhBFpI_4', 'o7X_jwhBFpI_5', 'o7X_jwhBFpI_6', 'o7X_jwhBFpI_7', 'o7X_jwhBFpI_8', 'o7X_jwhBFpI_9', 'oZeVVcBgM_s_0', 'oZeVVcBgM_s_1', 'oZeVVcBgM_s_10', 'oZeVVcBgM_s_11', 'oZeVVcBgM_s_12', 'oZeVVcBgM_s_2', 'oZeVVcBgM_s_3', 'oZeVVcBgM_s_4', 'oZeVVcBgM_s_5', 'oZeVVcBgM_s_6', 'oZeVVcBgM_s_7', 'oZeVVcBgM_s_8', 'oZeVVcBgM_s_9', 'shCGuP1ugjE_0', 'shCGuP1ugjE_1', 'shCGuP1ugjE_10', 'shCGuP1ugjE_11', 'shCGuP1ugjE_12', 'shCGuP1ugjE_13', 'shCGuP1ugjE_14', 'shCGuP1ugjE_15', 'shCGuP1ugjE_16', 'shCGuP1ugjE_17', 'shCGuP1ugjE_18', 'shCGuP1ugjE_19', 'shCGuP1ugjE_2', 'shCGuP1ugjE_20', 'shCGuP1ugjE_21', 'shCGuP1ugjE_22', 'shCGuP1ugjE_23', 'shCGuP1ugjE_24', 'shCGuP1ugjE_3', 'shCGuP1ugjE_4', 'shCGuP1ugjE_5', 'shCGuP1ugjE_6', 'shCGuP1ugjE_7', 'shCGuP1ugjE_8', 'shCGuP1ugjE_9', 't7aJ1WvVCCI_0', 't7aJ1WvVCCI_1', 't7aJ1WvVCCI_10', 't7aJ1WvVCCI_11', 't7aJ1WvVCCI_12', 't7aJ1WvVCCI_13', 't7aJ1WvVCCI_14', 't7aJ1WvVCCI_15', 't7aJ1WvVCCI_16', 't7aJ1WvVCCI_17', 't7aJ1WvVCCI_2', 't7aJ1WvVCCI_3', 't7aJ1WvVCCI_4', 't7aJ1WvVCCI_5', 't7aJ1WvVCCI_6', 't7aJ1WvVCCI_7', 't7aJ1WvVCCI_8', 't7aJ1WvVCCI_9', 'tI5t7NT3cRg_0', 'tI5t7NT3cRg_1', 'tI5t7NT3cRg_2', 'tI5t7NT3cRg_3', 'tI5t7NT3cRg_4', 'tI5t7NT3cRg_5', 'tI5t7NT3cRg_6', 'tI5t7NT3cRg_7', 'tI5t7NT3cRg_8', 'V-90ygneGqE_0', 'V-90ygneGqE_1', 'V-90ygneGqE_10', 'V-90ygneGqE_2', 'V-90ygneGqE_3', 'V-90ygneGqE_4', 'V-90ygneGqE_5', 'V-90ygneGqE_6', 'V-90ygneGqE_7', 'V-90ygneGqE_8', 'V-90ygneGqE_9', 'VaKEgsQRiFw_0', 'VaKEgsQRiFw_1', 'VaKEgsQRiFw_2', 'VaKEgsQRiFw_3', 'VaKEgsQRiFw_4', 'VaKEgsQRiFw_5', 'VdAp0DZPXUw_0', 'VdAp0DZPXUw_1', 'VdAp0DZPXUw_2', 'VdAp0DZPXUw_3', 'VdAp0DZPXUw_4', 'VdAp0DZPXUw_5', 'veulI_9pqqA_0', 'veulI_9pqqA_1', 'veulI_9pqqA_10', 'veulI_9pqqA_11', 'veulI_9pqqA_12', 'veulI_9pqqA_2', 'veulI_9pqqA_3', 'veulI_9pqqA_4', 'veulI_9pqqA_5', 'veulI_9pqqA_6', 'veulI_9pqqA_7', 'veulI_9pqqA_8', 'veulI_9pqqA_9', 'VJnyEKMcVUs_0', 'VJnyEKMcVUs_1', 'VJnyEKMcVUs_10', 'VJnyEKMcVUs_11', 'VJnyEKMcVUs_12', 'VJnyEKMcVUs_2', 'VJnyEKMcVUs_3', 'VJnyEKMcVUs_4', 'VJnyEKMcVUs_5', 'VJnyEKMcVUs_6', 'VJnyEKMcVUs_7', 'VJnyEKMcVUs_8', 'VJnyEKMcVUs_9', 'vUKL5L3UzFA_0', 'vUKL5L3UzFA_1', 'vUKL5L3UzFA_2', 'vUKL5L3UzFA_3', 'vUKL5L3UzFA_4', 'vUKL5L3UzFA_5', 'vUKL5L3UzFA_6', 'vUKL5L3UzFA_7', 'vUKL5L3UzFA_8', 'vzoLGaCpn9U_0', 'vzoLGaCpn9U_1', 'vzoLGaCpn9U_10', 'vzoLGaCpn9U_11', 'vzoLGaCpn9U_12', 'vzoLGaCpn9U_13', 'vzoLGaCpn9U_14', 'vzoLGaCpn9U_15', 'vzoLGaCpn9U_2', 'vzoLGaCpn9U_3', 'vzoLGaCpn9U_4', 'vzoLGaCpn9U_5', 'vzoLGaCpn9U_6', 'vzoLGaCpn9U_7', 'vzoLGaCpn9U_8', 'vzoLGaCpn9U_9', 'WVEOnGRNi3M_0', 'WVEOnGRNi3M_1', 'WVEOnGRNi3M_10', 'WVEOnGRNi3M_11', 'WVEOnGRNi3M_12', 'WVEOnGRNi3M_2', 'WVEOnGRNi3M_3', 'WVEOnGRNi3M_4', 'WVEOnGRNi3M_5', 'WVEOnGRNi3M_6', 'WVEOnGRNi3M_7', 'WVEOnGRNi3M_8', 'WVEOnGRNi3M_9', 'xEk7ltQ-Eek_0', 'xEk7ltQ-Eek_1', 'xEk7ltQ-Eek_10', 'xEk7ltQ-Eek_11', 'xEk7ltQ-Eek_2', 'xEk7ltQ-Eek_3', 'xEk7ltQ-Eek_4', 'xEk7ltQ-Eek_5', 'xEk7ltQ-Eek_6', 'xEk7ltQ-Eek_7', 'xEk7ltQ-Eek_8', 'xEk7ltQ-Eek_9', 'xH5ANOiuoZg_0', 'xH5ANOiuoZg_1', 'xH5ANOiuoZg_2', 'xH5ANOiuoZg_3', 'xH5ANOiuoZg_4', 'xH5ANOiuoZg_5', 'xH5ANOiuoZg_6', 'xH5ANOiuoZg_7', 'xH5ANOiuoZg_8']\n"
     ]
    }
   ],
   "source": [
    "## 레이블링 데이터 위치 : ./data/label\n",
    "files = []\n",
    "for file in os.listdir(os.path.join('.', 'data', 'label')):\n",
    "    _, file_id = os.path.split(file)\n",
    "    if file_id.endswith('txt'):\n",
    "        name = file_id.split(\".\")[0]\n",
    "        if(name not in files):\n",
    "            files.append(name)\n",
    "print(files)\n",
    "\n",
    "background_dir = './data/audio_label_clip/background'  # 배경 디렉터리 경로\n",
    "os.makedirs(background_dir, exist_ok=True)  # 배경 디렉터리 생성\n",
    "\n",
    "activate_dir = './data/audio_label_clip/activate'  # 배경 디렉터리 경로\n",
    "os.makedirs(activate_dir, exist_ok=True)  # 배경 디렉터리 생성\n",
    "\n",
    "negative_dir = './data/audio_label_clip/negative'  # 배경 디렉터리 경로\n",
    "os.makedirs(negative_dir, exist_ok=True)  # 배경 디렉터리 생성print(files)\n"
   ]
  },
  {
   "cell_type": "code",
   "execution_count": 6,
   "metadata": {},
   "outputs": [],
   "source": [
    "background_dir = './data/audio_label_clip_for_test/background'  # 배경 디렉터리 경로\n",
    "os.makedirs(background_dir, exist_ok=True)  # 배경 디렉터리 생성\n",
    "\n",
    "activate_dir = './data/audio_label_clip_for_test/activate'  # 배경 디렉터리 경로\n",
    "os.makedirs(activate_dir, exist_ok=True)  # 배경 디렉터리 생성\n",
    "\n",
    "negative_dir = './data/audio_label_clip_for_test/negative'  # 배경 디렉터리 경로\n",
    "os.makedirs(negative_dir, exist_ok=True)  # 배경 디렉터리 생성print(files)"
   ]
  },
  {
   "cell_type": "code",
   "execution_count": 17,
   "metadata": {
    "scrolled": true
   },
   "outputs": [
    {
     "name": "stdout",
     "output_type": "stream",
     "text": [
      "file name:2-6xb9sJT9s_0\n",
      "read new file\n",
      "   start  end  label\n",
      "0    0.0  1.2      0\n",
      "0.0 1.2 0\n",
      "MoviePy - Writing audio in ./data/audio_label_clip/negative\\negative_0.wav\n"
     ]
    },
    {
     "name": "stderr",
     "output_type": "stream",
     "text": [
      "                                                               "
     ]
    },
    {
     "name": "stdout",
     "output_type": "stream",
     "text": [
      "MoviePy - Done.\n",
      "완료됬습니다.\n",
      "file name:2-6xb9sJT9s_1\n",
      "read new file\n",
      "   start   end  label\n",
      "0   2.68  3.57     10\n",
      "2.68 3.57 10\n"
     ]
    },
    {
     "name": "stderr",
     "output_type": "stream",
     "text": [
      "\r"
     ]
    },
    {
     "name": "stdout",
     "output_type": "stream",
     "text": [
      "MoviePy - Writing audio in ./data/audio_label_clip/activate\\shi_0.wav\n"
     ]
    },
    {
     "name": "stderr",
     "output_type": "stream",
     "text": [
      "                                                               "
     ]
    },
    {
     "name": "stdout",
     "output_type": "stream",
     "text": [
      "MoviePy - Done.\n",
      "완료됬습니다.\n",
      "file name:2-6xb9sJT9s_2\n",
      "read new file\n",
      "   start  end  label\n",
      "0   3.74  4.7      0\n",
      "3.74 4.7 0\n"
     ]
    },
    {
     "name": "stderr",
     "output_type": "stream",
     "text": [
      "\r"
     ]
    },
    {
     "name": "stdout",
     "output_type": "stream",
     "text": [
      "MoviePy - Writing audio in ./data/audio_label_clip/negative\\negative_1.wav\n"
     ]
    },
    {
     "name": "stderr",
     "output_type": "stream",
     "text": [
      "                                                               "
     ]
    },
    {
     "name": "stdout",
     "output_type": "stream",
     "text": [
      "MoviePy - Done.\n",
      "완료됬습니다.\n",
      "file name:2-6xb9sJT9s_3\n",
      "read new file\n"
     ]
    },
    {
     "name": "stderr",
     "output_type": "stream",
     "text": [
      "\r"
     ]
    },
    {
     "name": "stdout",
     "output_type": "stream",
     "text": [
      "   start  end  label\n",
      "0   5.06  5.8      8\n",
      "5.06 5.8 8\n",
      "file name:2-6xb9sJT9s_4\n",
      "read new file\n",
      "   start     end  label\n",
      "0   8.28  10.139      0\n",
      "8.28 10.139 0\n",
      "MoviePy - Writing audio in ./data/audio_label_clip/negative\\negative_2.wav\n"
     ]
    },
    {
     "name": "stderr",
     "output_type": "stream",
     "text": [
      "                                                               "
     ]
    },
    {
     "name": "stdout",
     "output_type": "stream",
     "text": [
      "MoviePy - Done.\n",
      "완료됬습니다.\n",
      "file name:2-6xb9sJT9s_5\n",
      "read new file\n",
      "    start   end  label\n",
      "0  10.139  13.4      0\n",
      "10.139 13.4 0\n"
     ]
    },
    {
     "name": "stderr",
     "output_type": "stream",
     "text": [
      "\r"
     ]
    },
    {
     "name": "stdout",
     "output_type": "stream",
     "text": [
      "MoviePy - Writing audio in ./data/audio_label_clip/negative\\negative_3.wav\n"
     ]
    },
    {
     "name": "stderr",
     "output_type": "stream",
     "text": [
      "                                                               \r"
     ]
    },
    {
     "name": "stdout",
     "output_type": "stream",
     "text": [
      "MoviePy - Done.\n",
      "완료됬습니다.\n",
      "file name:2-6xb9sJT9s_6\n",
      "read new file\n",
      "   start     end  label\n",
      "0  14.66  18.379      0\n",
      "14.66 18.379 0\n",
      "MoviePy - Writing audio in ./data/audio_label_clip/negative\\negative_4.wav\n"
     ]
    },
    {
     "name": "stderr",
     "output_type": "stream",
     "text": [
      "                                                               \r"
     ]
    },
    {
     "name": "stdout",
     "output_type": "stream",
     "text": [
      "MoviePy - Done.\n",
      "완료됬습니다.\n",
      "file name:2-6xb9sJT9s_7\n",
      "read new file\n",
      "   start    end  label\n",
      "0  21.18  24.08      0\n",
      "21.18 24.08 0\n",
      "MoviePy - Writing audio in ./data/audio_label_clip/negative\\negative_5.wav\n"
     ]
    },
    {
     "name": "stderr",
     "output_type": "stream",
     "text": [
      "                                                               \r"
     ]
    },
    {
     "name": "stdout",
     "output_type": "stream",
     "text": [
      "MoviePy - Done.\n",
      "완료됬습니다.\n",
      "file name:2-6xb9sJT9s_8\n",
      "read new file\n",
      "   start    end  label\n",
      "0   24.6  26.84      0\n",
      "24.6 26.84 0\n",
      "MoviePy - Writing audio in ./data/audio_label_clip/negative\\negative_6.wav\n"
     ]
    },
    {
     "name": "stderr",
     "output_type": "stream",
     "text": [
      "                                                               \r"
     ]
    },
    {
     "name": "stdout",
     "output_type": "stream",
     "text": [
      "MoviePy - Done.\n",
      "완료됬습니다.\n",
      "file name:6io5HgRyGDU_0\n",
      "read new file\n",
      "   start   end  label\n",
      "0   5.22  8.24      0\n",
      "5.22 8.24 0\n",
      "MoviePy - Writing audio in ./data/audio_label_clip/negative\\negative_7.wav\n"
     ]
    },
    {
     "name": "stderr",
     "output_type": "stream",
     "text": [
      "                                                               "
     ]
    },
    {
     "name": "stdout",
     "output_type": "stream",
     "text": [
      "MoviePy - Done.\n",
      "완료됬습니다.\n",
      "file name:6io5HgRyGDU_1\n",
      "read new file\n"
     ]
    },
    {
     "name": "stderr",
     "output_type": "stream",
     "text": [
      "\r"
     ]
    },
    {
     "name": "stdout",
     "output_type": "stream",
     "text": [
      "   start     end  label\n",
      "0   8.82  11.179      0\n",
      "8.82 11.179 0\n",
      "MoviePy - Writing audio in ./data/audio_label_clip/negative\\negative_8.wav\n"
     ]
    },
    {
     "name": "stderr",
     "output_type": "stream",
     "text": [
      "                                                               \r"
     ]
    },
    {
     "name": "stdout",
     "output_type": "stream",
     "text": [
      "MoviePy - Done.\n",
      "완료됬습니다.\n",
      "file name:6io5HgRyGDU_2\n",
      "read new file\n",
      "    start    end  label\n",
      "0  11.639  13.86      0\n",
      "11.639 13.86 0\n",
      "MoviePy - Writing audio in ./data/audio_label_clip/negative\\negative_9.wav\n"
     ]
    },
    {
     "name": "stderr",
     "output_type": "stream",
     "text": [
      "                                                               "
     ]
    },
    {
     "name": "stdout",
     "output_type": "stream",
     "text": [
      "MoviePy - Done.\n",
      "완료됬습니다.\n",
      "file name:6io5HgRyGDU_3\n",
      "read new file\n"
     ]
    },
    {
     "name": "stderr",
     "output_type": "stream",
     "text": [
      "\r"
     ]
    },
    {
     "name": "stdout",
     "output_type": "stream",
     "text": [
      "   start     end  label\n",
      "0  13.86  17.519      0\n",
      "13.86 17.519 0\n",
      "MoviePy - Writing audio in ./data/audio_label_clip/negative\\negative_10.wav\n"
     ]
    },
    {
     "name": "stderr",
     "output_type": "stream",
     "text": [
      "                                                               \r"
     ]
    },
    {
     "name": "stdout",
     "output_type": "stream",
     "text": [
      "MoviePy - Done.\n",
      "완료됬습니다.\n",
      "file name:6io5HgRyGDU_4\n",
      "read new file\n",
      "   start     end  label\n",
      "0  27.48  30.019      0\n",
      "27.48 30.019 0\n",
      "MoviePy - Writing audio in ./data/audio_label_clip/negative\\negative_11.wav\n"
     ]
    },
    {
     "name": "stderr",
     "output_type": "stream",
     "text": [
      "                                                               \r"
     ]
    },
    {
     "name": "stdout",
     "output_type": "stream",
     "text": [
      "MoviePy - Done.\n",
      "완료됬습니다.\n",
      "file name:80LNjK_RQT4_0\n",
      "read new file\n",
      "   start   end  label\n",
      "0    2.5  3.23     13\n",
      "2.5 3.23 13\n",
      "MoviePy - Writing audio in ./data/audio_label_clip/activate\\byoung_0.wav\n"
     ]
    },
    {
     "name": "stderr",
     "output_type": "stream",
     "text": [
      "                                                               "
     ]
    },
    {
     "name": "stdout",
     "output_type": "stream",
     "text": [
      "MoviePy - Done.\n",
      "완료됬습니다.\n",
      "file name:80LNjK_RQT4_1\n",
      "read new file\n",
      "   start   end  label\n",
      "0   5.46  8.37      0\n",
      "5.46 8.37 0\n"
     ]
    },
    {
     "name": "stderr",
     "output_type": "stream",
     "text": [
      "\r"
     ]
    },
    {
     "name": "stdout",
     "output_type": "stream",
     "text": [
      "MoviePy - Writing audio in ./data/audio_label_clip/negative\\negative_12.wav\n"
     ]
    },
    {
     "name": "stderr",
     "output_type": "stream",
     "text": [
      "                                                               \r"
     ]
    },
    {
     "name": "stdout",
     "output_type": "stream",
     "text": [
      "MoviePy - Done.\n",
      "완료됬습니다.\n",
      "file name:80LNjK_RQT4_2\n",
      "read new file\n",
      "   start    end  label\n",
      "0   8.37  11.42      0\n",
      "8.37 11.42 0\n",
      "MoviePy - Writing audio in ./data/audio_label_clip/negative\\negative_13.wav\n"
     ]
    },
    {
     "name": "stderr",
     "output_type": "stream",
     "text": [
      "                                                               \r"
     ]
    },
    {
     "name": "stdout",
     "output_type": "stream",
     "text": [
      "MoviePy - Done.\n",
      "완료됬습니다.\n",
      "file name:80LNjK_RQT4_3\n",
      "read new file\n",
      "   start    end  label\n",
      "0  13.85  14.26     10\n",
      "13.85 14.26 10\n",
      "MoviePy - Writing audio in ./data/audio_label_clip/activate\\shi_1.wav\n"
     ]
    },
    {
     "name": "stderr",
     "output_type": "stream",
     "text": [
      "                                                               "
     ]
    },
    {
     "name": "stdout",
     "output_type": "stream",
     "text": [
      "MoviePy - Done.\n",
      "완료됬습니다.\n",
      "file name:8CKFwKEDKII_0\n",
      "read new file\n",
      "   start   end  label\n",
      "0    0.0  4.45      0\n",
      "0.0 4.45 0\n"
     ]
    },
    {
     "name": "stderr",
     "output_type": "stream",
     "text": [
      "\r"
     ]
    },
    {
     "name": "stdout",
     "output_type": "stream",
     "text": [
      "MoviePy - Writing audio in ./data/audio_label_clip/negative\\negative_14.wav\n"
     ]
    },
    {
     "name": "stderr",
     "output_type": "stream",
     "text": [
      "                                                               \r"
     ]
    },
    {
     "name": "stdout",
     "output_type": "stream",
     "text": [
      "MoviePy - Done.\n",
      "완료됬습니다.\n",
      "file name:8CKFwKEDKII_1\n",
      "read new file\n",
      "   start   end  label\n",
      "0   5.19  5.86     10\n",
      "5.19 5.86 10\n",
      "MoviePy - Writing audio in ./data/audio_label_clip/activate\\shi_2.wav\n"
     ]
    },
    {
     "name": "stderr",
     "output_type": "stream",
     "text": [
      "                                                               "
     ]
    },
    {
     "name": "stdout",
     "output_type": "stream",
     "text": [
      "MoviePy - Done.\n",
      "완료됬습니다.\n",
      "file name:8CKFwKEDKII_2\n",
      "read new file\n",
      "   start   end  label\n",
      "0   5.86  6.39     11\n",
      "5.86 6.39 11\n"
     ]
    },
    {
     "name": "stderr",
     "output_type": "stream",
     "text": [
      "\r"
     ]
    },
    {
     "name": "stdout",
     "output_type": "stream",
     "text": [
      "MoviePy - Writing audio in ./data/audio_label_clip/activate\\jon_0.wav\n"
     ]
    },
    {
     "name": "stderr",
     "output_type": "stream",
     "text": [
      "                                                               "
     ]
    },
    {
     "name": "stdout",
     "output_type": "stream",
     "text": [
      "MoviePy - Done.\n",
      "완료됬습니다.\n",
      "file name:8CKFwKEDKII_3\n",
      "read new file\n",
      "   start   end  label\n",
      "0    7.2  9.77      0\n",
      "7.2 9.77 0\n"
     ]
    },
    {
     "name": "stderr",
     "output_type": "stream",
     "text": [
      "\r"
     ]
    },
    {
     "name": "stdout",
     "output_type": "stream",
     "text": [
      "MoviePy - Writing audio in ./data/audio_label_clip/negative\\negative_15.wav\n"
     ]
    },
    {
     "name": "stderr",
     "output_type": "stream",
     "text": [
      "                                                               \r"
     ]
    },
    {
     "name": "stdout",
     "output_type": "stream",
     "text": [
      "MoviePy - Done.\n",
      "완료됬습니다.\n",
      "file name:8CKFwKEDKII_4\n",
      "read new file\n",
      "   start    end  label\n",
      "0  15.65  15.83     10\n",
      "15.65 15.83 10\n",
      "MoviePy - Writing audio in ./data/audio_label_clip/activate\\shi_3.wav\n"
     ]
    },
    {
     "name": "stderr",
     "output_type": "stream",
     "text": [
      "                                                              "
     ]
    },
    {
     "name": "stdout",
     "output_type": "stream",
     "text": [
      "MoviePy - Done.\n",
      "완료됬습니다.\n",
      "file name:8CKFwKEDKII_5\n",
      "read new file\n",
      "    start    end  label\n",
      "0  25.019  28.58      0\n",
      "25.019 28.58 0\n"
     ]
    },
    {
     "name": "stderr",
     "output_type": "stream",
     "text": [
      "\r"
     ]
    },
    {
     "name": "stdout",
     "output_type": "stream",
     "text": [
      "MoviePy - Writing audio in ./data/audio_label_clip/negative\\negative_16.wav\n"
     ]
    },
    {
     "name": "stderr",
     "output_type": "stream",
     "text": [
      "                                                               \r"
     ]
    },
    {
     "name": "stdout",
     "output_type": "stream",
     "text": [
      "MoviePy - Done.\n",
      "완료됬습니다.\n",
      "file name:8CKFwKEDKII_6\n",
      "read new file\n",
      "   start    end  label\n",
      "0  37.52  42.26      0\n",
      "37.52 42.26 0\n",
      "MoviePy - Writing audio in ./data/audio_label_clip/negative\\negative_17.wav\n"
     ]
    },
    {
     "name": "stderr",
     "output_type": "stream",
     "text": [
      "                                                                \r"
     ]
    },
    {
     "name": "stdout",
     "output_type": "stream",
     "text": [
      "MoviePy - Done.\n",
      "완료됬습니다.\n",
      "file name:aGY7n53AlB8_0\n",
      "read new file\n",
      "   start  end  label\n",
      "0   0.51  1.2     10\n",
      "0.51 1.2 10\n",
      "MoviePy - Writing audio in ./data/audio_label_clip/activate\\shi_4.wav\n"
     ]
    },
    {
     "name": "stderr",
     "output_type": "stream",
     "text": [
      "                                                               "
     ]
    },
    {
     "name": "stdout",
     "output_type": "stream",
     "text": [
      "MoviePy - Done.\n",
      "완료됬습니다.\n",
      "file name:aGY7n53AlB8_1\n",
      "read new file\n",
      "   start  end  label\n",
      "0   4.48  8.7      0\n",
      "4.48 8.7 0\n"
     ]
    },
    {
     "name": "stderr",
     "output_type": "stream",
     "text": [
      "\r"
     ]
    },
    {
     "name": "stdout",
     "output_type": "stream",
     "text": [
      "MoviePy - Writing audio in ./data/audio_label_clip/negative\\negative_18.wav\n"
     ]
    },
    {
     "name": "stderr",
     "output_type": "stream",
     "text": [
      "                                                               \r"
     ]
    },
    {
     "name": "stdout",
     "output_type": "stream",
     "text": [
      "MoviePy - Done.\n",
      "완료됬습니다.\n",
      "file name:aGY7n53AlB8_2\n",
      "read new file\n",
      "   start    end  label\n",
      "0   8.75  10.43      0\n",
      "8.75 10.43 0\n",
      "MoviePy - Writing audio in ./data/audio_label_clip/negative\\negative_19.wav\n"
     ]
    },
    {
     "name": "stderr",
     "output_type": "stream",
     "text": [
      "                                                               \r"
     ]
    },
    {
     "name": "stdout",
     "output_type": "stream",
     "text": [
      "MoviePy - Done.\n",
      "완료됬습니다.\n",
      "file name:aGY7n53AlB8_3\n",
      "read new file\n",
      "   start    end  label\n",
      "0  10.43  13.05      0\n",
      "10.43 13.05 0\n",
      "MoviePy - Writing audio in ./data/audio_label_clip/negative\\negative_20.wav\n"
     ]
    },
    {
     "name": "stderr",
     "output_type": "stream",
     "text": [
      "                                                               \r"
     ]
    },
    {
     "name": "stdout",
     "output_type": "stream",
     "text": [
      "MoviePy - Done.\n",
      "완료됬습니다.\n",
      "file name:aGY7n53AlB8_4\n",
      "read new file\n",
      "   start    end  label\n",
      "0  18.04  18.73     17\n",
      "18.04 18.73 17\n",
      "MoviePy - Writing audio in ./data/audio_label_clip/activate\\gae_0.wav\n"
     ]
    },
    {
     "name": "stderr",
     "output_type": "stream",
     "text": [
      "                                                               "
     ]
    },
    {
     "name": "stdout",
     "output_type": "stream",
     "text": [
      "MoviePy - Done."
     ]
    },
    {
     "name": "stderr",
     "output_type": "stream",
     "text": [
      "\r"
     ]
    },
    {
     "name": "stdout",
     "output_type": "stream",
     "text": [
      "\n",
      "완료됬습니다.\n",
      "file name:aGY7n53AlB8_5\n",
      "read new file\n",
      "   start    end  label\n",
      "0  19.47  20.15     10\n",
      "19.47 20.15 10\n",
      "MoviePy - Writing audio in ./data/audio_label_clip/activate\\shi_5.wav\n"
     ]
    },
    {
     "name": "stderr",
     "output_type": "stream",
     "text": [
      "                                                               "
     ]
    },
    {
     "name": "stdout",
     "output_type": "stream",
     "text": [
      "MoviePy - Done.\n",
      "완료됬습니다.\n",
      "file name:aGY7n53AlB8_6\n",
      "read new file\n",
      "   start   end  label\n",
      "0  23.54  26.6      0\n",
      "23.54 26.6 0\n"
     ]
    },
    {
     "name": "stderr",
     "output_type": "stream",
     "text": [
      "\r"
     ]
    },
    {
     "name": "stdout",
     "output_type": "stream",
     "text": [
      "MoviePy - Writing audio in ./data/audio_label_clip/negative\\negative_21.wav\n"
     ]
    },
    {
     "name": "stderr",
     "output_type": "stream",
     "text": [
      "                                                               \r"
     ]
    },
    {
     "name": "stdout",
     "output_type": "stream",
     "text": [
      "MoviePy - Done.\n",
      "완료됬습니다.\n",
      "file name:aGY7n53AlB8_7\n",
      "read new file\n",
      "   start    end  label\n",
      "0  27.07  27.31     10\n",
      "27.07 27.31 10\n",
      "MoviePy - Writing audio in ./data/audio_label_clip/activate\\shi_6.wav\n"
     ]
    },
    {
     "name": "stderr",
     "output_type": "stream",
     "text": [
      "                                                              "
     ]
    },
    {
     "name": "stdout",
     "output_type": "stream",
     "text": [
      "MoviePy - Done."
     ]
    },
    {
     "name": "stderr",
     "output_type": "stream",
     "text": [
      "\r"
     ]
    },
    {
     "name": "stdout",
     "output_type": "stream",
     "text": [
      "\n",
      "완료됬습니다.\n",
      "file name:aGY7n53AlB8_8\n",
      "read new file\n",
      "   start   end  label\n",
      "0  29.27  29.5     10\n",
      "29.27 29.5 10\n",
      "MoviePy - Writing audio in ./data/audio_label_clip/activate\\shi_7.wav\n"
     ]
    },
    {
     "name": "stderr",
     "output_type": "stream",
     "text": [
      "                                                              "
     ]
    },
    {
     "name": "stdout",
     "output_type": "stream",
     "text": [
      "MoviePy - Done.\n",
      "완료됬습니다.\n",
      "file name:aiF9Lrgt5Xc_0\n",
      "read new file\n",
      "   start  end  label\n",
      "0    0.0  2.7      0\n",
      "0.0 2.7 0\n"
     ]
    },
    {
     "name": "stderr",
     "output_type": "stream",
     "text": [
      "\r"
     ]
    },
    {
     "name": "stdout",
     "output_type": "stream",
     "text": [
      "MoviePy - Writing audio in ./data/audio_label_clip/negative\\negative_22.wav\n"
     ]
    },
    {
     "name": "stderr",
     "output_type": "stream",
     "text": [
      "                                                               \r"
     ]
    },
    {
     "name": "stdout",
     "output_type": "stream",
     "text": [
      "MoviePy - Done.\n",
      "완료됬습니다.\n",
      "file name:aiF9Lrgt5Xc_1\n",
      "read new file\n",
      "   start   end  label\n",
      "0    2.7  5.83      0\n",
      "2.7 5.83 0\n",
      "MoviePy - Writing audio in ./data/audio_label_clip/negative\\negative_23.wav\n"
     ]
    },
    {
     "name": "stderr",
     "output_type": "stream",
     "text": [
      "                                                               "
     ]
    },
    {
     "name": "stdout",
     "output_type": "stream",
     "text": [
      "MoviePy - Done.\n",
      "완료됬습니다.\n",
      "file name:aiF9Lrgt5Xc_10\n",
      "read new file\n"
     ]
    },
    {
     "name": "stderr",
     "output_type": "stream",
     "text": [
      "\r"
     ]
    },
    {
     "name": "stdout",
     "output_type": "stream",
     "text": [
      "   start    end  label\n",
      "0  39.14  47.04      0\n",
      "39.14 47.04 0\n",
      "MoviePy - Writing audio in ./data/audio_label_clip/negative\\negative_24.wav\n"
     ]
    },
    {
     "name": "stderr",
     "output_type": "stream",
     "text": [
      "                                                                   \r"
     ]
    },
    {
     "name": "stdout",
     "output_type": "stream",
     "text": [
      "MoviePy - Done.\n",
      "완료됬습니다.\n",
      "file name:aiF9Lrgt5Xc_11\n",
      "read new file\n",
      "   start    end  label\n",
      "0  47.46  54.33      0\n",
      "47.46 54.33 0\n",
      "MoviePy - Writing audio in ./data/audio_label_clip/negative\\negative_25.wav\n"
     ]
    },
    {
     "name": "stderr",
     "output_type": "stream",
     "text": [
      "                                                                \r"
     ]
    },
    {
     "name": "stdout",
     "output_type": "stream",
     "text": [
      "MoviePy - Done.\n",
      "완료됬습니다.\n",
      "file name:aiF9Lrgt5Xc_2\n",
      "read new file\n",
      "   start    end  label\n",
      "0   6.11  8.039      0\n",
      "6.11 8.039 0\n",
      "MoviePy - Writing audio in ./data/audio_label_clip/negative\\negative_26.wav\n"
     ]
    },
    {
     "name": "stderr",
     "output_type": "stream",
     "text": [
      "                                                               "
     ]
    },
    {
     "name": "stdout",
     "output_type": "stream",
     "text": [
      "MoviePy - Done.\n",
      "완료됬습니다.\n",
      "file name:aiF9Lrgt5Xc_3\n",
      "read new file\n"
     ]
    },
    {
     "name": "stderr",
     "output_type": "stream",
     "text": [
      "\r"
     ]
    },
    {
     "name": "stdout",
     "output_type": "stream",
     "text": [
      "   start    end  label\n",
      "0  8.039  10.32      0\n",
      "8.039 10.32 0\n",
      "MoviePy - Writing audio in ./data/audio_label_clip/negative\\negative_27.wav\n"
     ]
    },
    {
     "name": "stderr",
     "output_type": "stream",
     "text": [
      "                                                               "
     ]
    },
    {
     "name": "stdout",
     "output_type": "stream",
     "text": [
      "MoviePy - Done.\n",
      "완료됬습니다.\n",
      "file name:aiF9Lrgt5Xc_4\n",
      "read new file\n"
     ]
    },
    {
     "name": "stderr",
     "output_type": "stream",
     "text": [
      "\r"
     ]
    },
    {
     "name": "stdout",
     "output_type": "stream",
     "text": [
      "   start     end  label\n",
      "0  10.32  12.259      0\n",
      "10.32 12.259 0\n",
      "MoviePy - Writing audio in ./data/audio_label_clip/negative\\negative_28.wav\n"
     ]
    },
    {
     "name": "stderr",
     "output_type": "stream",
     "text": [
      "                                                               \r"
     ]
    },
    {
     "name": "stdout",
     "output_type": "stream",
     "text": [
      "MoviePy - Done.\n",
      "완료됬습니다.\n",
      "file name:aiF9Lrgt5Xc_5\n",
      "read new file\n",
      "    start    end  label\n",
      "0  12.259  21.96      0\n",
      "12.259 21.96 0\n",
      "MoviePy - Writing audio in ./data/audio_label_clip/negative\\negative_29.wav\n"
     ]
    },
    {
     "name": "stderr",
     "output_type": "stream",
     "text": [
      "                                                                   \r"
     ]
    },
    {
     "name": "stdout",
     "output_type": "stream",
     "text": [
      "MoviePy - Done.\n",
      "완료됬습니다.\n",
      "file name:aiF9Lrgt5Xc_6\n",
      "read new file\n",
      "   start    end  label\n",
      "0  26.38  27.45      0\n",
      "26.38 27.45 0\n",
      "MoviePy - Writing audio in ./data/audio_label_clip/negative\\negative_30.wav\n"
     ]
    },
    {
     "name": "stderr",
     "output_type": "stream",
     "text": [
      "                                                               "
     ]
    },
    {
     "name": "stdout",
     "output_type": "stream",
     "text": [
      "MoviePy - Done.\n",
      "완료됬습니다.\n",
      "file name:aiF9Lrgt5Xc_7\n",
      "read new file\n",
      "   start    end  label\n",
      "0  28.68  31.23      0\n",
      "28.68 31.23 0\n"
     ]
    },
    {
     "name": "stderr",
     "output_type": "stream",
     "text": [
      "\r"
     ]
    },
    {
     "name": "stdout",
     "output_type": "stream",
     "text": [
      "MoviePy - Writing audio in ./data/audio_label_clip/negative\\negative_31.wav\n"
     ]
    },
    {
     "name": "stderr",
     "output_type": "stream",
     "text": [
      "                                                               "
     ]
    },
    {
     "name": "stdout",
     "output_type": "stream",
     "text": [
      "MoviePy - Done."
     ]
    },
    {
     "name": "stderr",
     "output_type": "stream",
     "text": [
      "\r"
     ]
    },
    {
     "name": "stdout",
     "output_type": "stream",
     "text": [
      "\n",
      "완료됬습니다.\n",
      "file name:aiF9Lrgt5Xc_8\n",
      "read new file\n",
      "   start    end  label\n",
      "0  31.51  31.89     10\n",
      "31.51 31.89 10\n",
      "MoviePy - Writing audio in ./data/audio_label_clip/activate\\shi_8.wav\n"
     ]
    },
    {
     "name": "stderr",
     "output_type": "stream",
     "text": [
      "                                                              "
     ]
    },
    {
     "name": "stdout",
     "output_type": "stream",
     "text": [
      "MoviePy - Done.\n",
      "완료됬습니다.\n",
      "file name:aiF9Lrgt5Xc_9\n",
      "read new file\n"
     ]
    },
    {
     "name": "stderr",
     "output_type": "stream",
     "text": [
      "\r"
     ]
    },
    {
     "name": "stdout",
     "output_type": "stream",
     "text": [
      "   start    end  label\n",
      "0  37.83  38.07     12\n",
      "37.83 38.07 12\n",
      "MoviePy - Writing audio in ./data/audio_label_clip/activate\\sha_0.wav\n"
     ]
    },
    {
     "name": "stderr",
     "output_type": "stream",
     "text": [
      "                                                              \r"
     ]
    },
    {
     "name": "stdout",
     "output_type": "stream",
     "text": [
      "MoviePy - Done.\n",
      "완료됬습니다.\n",
      "file name:b270wrAtGAQ_0\n",
      "read new file\n",
      "   start   end  label\n",
      "0    0.0  2.43      0\n",
      "0.0 2.43 0\n",
      "MoviePy - Writing audio in ./data/audio_label_clip/negative\\negative_32.wav\n"
     ]
    },
    {
     "name": "stderr",
     "output_type": "stream",
     "text": [
      "                                                               "
     ]
    },
    {
     "name": "stdout",
     "output_type": "stream",
     "text": [
      "MoviePy - Done."
     ]
    },
    {
     "name": "stderr",
     "output_type": "stream",
     "text": [
      "\r"
     ]
    },
    {
     "name": "stdout",
     "output_type": "stream",
     "text": [
      "\n",
      "완료됬습니다.\n",
      "file name:b270wrAtGAQ_1\n",
      "read new file\n",
      "   start   end  label\n",
      "0    3.4  3.76     10\n",
      "3.4 3.76 10\n",
      "MoviePy - Writing audio in ./data/audio_label_clip/activate\\shi_9.wav\n"
     ]
    },
    {
     "name": "stderr",
     "output_type": "stream",
     "text": [
      "                                                              "
     ]
    },
    {
     "name": "stdout",
     "output_type": "stream",
     "text": [
      "MoviePy - Done.\n",
      "완료됬습니다.\n",
      "file name:b270wrAtGAQ_10\n",
      "read new file\n",
      "   start    end  label\n",
      "0  38.46  43.68      0\n",
      "38.46 43.68 0\n"
     ]
    },
    {
     "name": "stderr",
     "output_type": "stream",
     "text": [
      "\r"
     ]
    },
    {
     "name": "stdout",
     "output_type": "stream",
     "text": [
      "MoviePy - Writing audio in ./data/audio_label_clip/negative\\negative_33.wav\n"
     ]
    },
    {
     "name": "stderr",
     "output_type": "stream",
     "text": [
      "                                                                \r"
     ]
    },
    {
     "name": "stdout",
     "output_type": "stream",
     "text": [
      "MoviePy - Done.\n",
      "완료됬습니다.\n",
      "file name:b270wrAtGAQ_11\n",
      "read new file\n",
      "   start    end  label\n",
      "0   51.6  57.97      0\n",
      "51.6 57.97 0\n",
      "MoviePy - Writing audio in ./data/audio_label_clip/negative\\negative_34.wav\n"
     ]
    },
    {
     "name": "stderr",
     "output_type": "stream",
     "text": [
      "                                                                \r"
     ]
    },
    {
     "name": "stdout",
     "output_type": "stream",
     "text": [
      "MoviePy - Done.\n",
      "완료됬습니다.\n",
      "file name:b270wrAtGAQ_2\n",
      "read new file\n",
      "   start   end  label\n",
      "0   3.89  8.26      0\n",
      "3.89 8.26 0\n",
      "MoviePy - Writing audio in ./data/audio_label_clip/negative\\negative_35.wav\n"
     ]
    },
    {
     "name": "stderr",
     "output_type": "stream",
     "text": [
      "                                                               \r"
     ]
    },
    {
     "name": "stdout",
     "output_type": "stream",
     "text": [
      "MoviePy - Done.\n",
      "완료됬습니다.\n",
      "file name:b270wrAtGAQ_3\n",
      "read new file\n",
      "   start   end  label\n",
      "0   9.16  9.74     10\n",
      "9.16 9.74 10\n",
      "MoviePy - Writing audio in ./data/audio_label_clip/activate\\shi_10.wav\n"
     ]
    },
    {
     "name": "stderr",
     "output_type": "stream",
     "text": [
      "                                                               "
     ]
    },
    {
     "name": "stdout",
     "output_type": "stream",
     "text": [
      "MoviePy - Done.\n",
      "완료됬습니다.\n",
      "file name:b270wrAtGAQ_4\n",
      "read new file\n",
      "   start    end  label\n",
      "0  11.25  13.77      0\n",
      "11.25 13.77 0\n"
     ]
    },
    {
     "name": "stderr",
     "output_type": "stream",
     "text": [
      "\r"
     ]
    },
    {
     "name": "stdout",
     "output_type": "stream",
     "text": [
      "MoviePy - Writing audio in ./data/audio_label_clip/negative\\negative_36.wav\n"
     ]
    },
    {
     "name": "stderr",
     "output_type": "stream",
     "text": [
      "                                                               "
     ]
    },
    {
     "name": "stdout",
     "output_type": "stream",
     "text": [
      "MoviePy - Done.\n",
      "완료됬습니다.\n",
      "file name:b270wrAtGAQ_5\n",
      "read new file\n"
     ]
    },
    {
     "name": "stderr",
     "output_type": "stream",
     "text": [
      "\r"
     ]
    },
    {
     "name": "stdout",
     "output_type": "stream",
     "text": [
      "   start    end  label\n",
      "0  13.77  14.22     10\n",
      "13.77 14.22 10\n",
      "MoviePy - Writing audio in ./data/audio_label_clip/activate\\shi_11.wav\n"
     ]
    },
    {
     "name": "stderr",
     "output_type": "stream",
     "text": [
      "                                                               "
     ]
    },
    {
     "name": "stdout",
     "output_type": "stream",
     "text": [
      "MoviePy - Done.\n",
      "완료됬습니다.\n",
      "file name:b270wrAtGAQ_6\n",
      "read new file\n",
      "   start    end  label\n",
      "0   15.8  17.53      0\n",
      "15.8 17.53 0\n"
     ]
    },
    {
     "name": "stderr",
     "output_type": "stream",
     "text": [
      "\r"
     ]
    },
    {
     "name": "stdout",
     "output_type": "stream",
     "text": [
      "MoviePy - Writing audio in ./data/audio_label_clip/negative\\negative_37.wav\n"
     ]
    },
    {
     "name": "stderr",
     "output_type": "stream",
     "text": [
      "                                                               "
     ]
    },
    {
     "name": "stdout",
     "output_type": "stream",
     "text": [
      "MoviePy - Done.\n",
      "완료됬습니다.\n",
      "file name:b270wrAtGAQ_7\n",
      "read new file\n"
     ]
    },
    {
     "name": "stderr",
     "output_type": "stream",
     "text": [
      "\r"
     ]
    },
    {
     "name": "stdout",
     "output_type": "stream",
     "text": [
      "   start    end  label\n",
      "0  18.99  26.82      0\n",
      "18.99 26.82 0\n",
      "MoviePy - Writing audio in ./data/audio_label_clip/negative\\negative_38.wav\n"
     ]
    },
    {
     "name": "stderr",
     "output_type": "stream",
     "text": [
      "                                                                   \r"
     ]
    },
    {
     "name": "stdout",
     "output_type": "stream",
     "text": [
      "MoviePy - Done.\n",
      "완료됬습니다.\n",
      "file name:b270wrAtGAQ_8\n",
      "read new file\n",
      "   start    end  label\n",
      "0  28.58  29.46     10\n",
      "28.58 29.46 10\n",
      "MoviePy - Writing audio in ./data/audio_label_clip/activate\\shi_12.wav\n"
     ]
    },
    {
     "name": "stderr",
     "output_type": "stream",
     "text": [
      "                                                               "
     ]
    },
    {
     "name": "stdout",
     "output_type": "stream",
     "text": [
      "MoviePy - Done.\n",
      "완료됬습니다.\n",
      "file name:b270wrAtGAQ_9\n",
      "read new file\n",
      "   start    end  label\n",
      "0  34.53  37.89      0\n",
      "34.53 37.89 0\n"
     ]
    },
    {
     "name": "stderr",
     "output_type": "stream",
     "text": [
      "\r"
     ]
    },
    {
     "name": "stdout",
     "output_type": "stream",
     "text": [
      "MoviePy - Writing audio in ./data/audio_label_clip/negative\\negative_39.wav\n"
     ]
    },
    {
     "name": "stderr",
     "output_type": "stream",
     "text": [
      "                                                               \r"
     ]
    },
    {
     "name": "stdout",
     "output_type": "stream",
     "text": [
      "MoviePy - Done.\n",
      "완료됬습니다.\n",
      "file name:B3ah0WR4e9E_0\n",
      "read new file\n",
      "   start   end  label\n",
      "0    0.0  0.43     10\n",
      "0.0 0.43 10\n",
      "MoviePy - Writing audio in ./data/audio_label_clip/activate\\shi_13.wav\n"
     ]
    },
    {
     "name": "stderr",
     "output_type": "stream",
     "text": [
      "                                                               "
     ]
    },
    {
     "name": "stdout",
     "output_type": "stream",
     "text": [
      "MoviePy - Done.\n",
      "완료됬습니다.\n",
      "file name:B3ah0WR4e9E_1\n",
      "read new file\n",
      "   start  end  label\n",
      "0   1.74  3.2      0\n",
      "1.74 3.2 0\n"
     ]
    },
    {
     "name": "stderr",
     "output_type": "stream",
     "text": [
      "\r"
     ]
    },
    {
     "name": "stdout",
     "output_type": "stream",
     "text": [
      "MoviePy - Writing audio in ./data/audio_label_clip/negative\\negative_40.wav\n"
     ]
    },
    {
     "name": "stderr",
     "output_type": "stream",
     "text": [
      "                                                               "
     ]
    },
    {
     "name": "stdout",
     "output_type": "stream",
     "text": [
      "MoviePy - Done.\n",
      "완료됬습니다.\n",
      "file name:B3ah0WR4e9E_10\n",
      "read new file\n",
      "   start    end  label\n",
      "0  21.66  22.92      0\n",
      "21.66 22.92 0\n"
     ]
    },
    {
     "name": "stderr",
     "output_type": "stream",
     "text": [
      "\r"
     ]
    },
    {
     "name": "stdout",
     "output_type": "stream",
     "text": [
      "MoviePy - Writing audio in ./data/audio_label_clip/negative\\negative_41.wav\n"
     ]
    },
    {
     "name": "stderr",
     "output_type": "stream",
     "text": [
      "                                                               "
     ]
    },
    {
     "name": "stdout",
     "output_type": "stream",
     "text": [
      "MoviePy - Done.\n",
      "완료됬습니다.\n",
      "file name:B3ah0WR4e9E_11\n",
      "read new file\n",
      "   start   end  label\n",
      "0  22.92  24.9      0\n",
      "22.92 24.9 0\n"
     ]
    },
    {
     "name": "stderr",
     "output_type": "stream",
     "text": [
      "\r"
     ]
    },
    {
     "name": "stdout",
     "output_type": "stream",
     "text": [
      "MoviePy - Writing audio in ./data/audio_label_clip/negative\\negative_42.wav\n"
     ]
    },
    {
     "name": "stderr",
     "output_type": "stream",
     "text": [
      "                                                               \r"
     ]
    },
    {
     "name": "stdout",
     "output_type": "stream",
     "text": [
      "MoviePy - Done.\n",
      "완료됬습니다.\n",
      "file name:B3ah0WR4e9E_12\n",
      "read new file\n",
      "   start    end  label\n",
      "0   24.9  27.13      0\n",
      "24.9 27.13 0\n",
      "MoviePy - Writing audio in ./data/audio_label_clip/negative\\negative_43.wav\n"
     ]
    },
    {
     "name": "stderr",
     "output_type": "stream",
     "text": [
      "                                                               "
     ]
    },
    {
     "name": "stdout",
     "output_type": "stream",
     "text": [
      "MoviePy - Done."
     ]
    },
    {
     "name": "stderr",
     "output_type": "stream",
     "text": [
      "\r"
     ]
    },
    {
     "name": "stdout",
     "output_type": "stream",
     "text": [
      "\n",
      "완료됬습니다.\n",
      "file name:B3ah0WR4e9E_13\n",
      "read new file\n",
      "   start   end  label\n",
      "0  27.13  29.4      0\n",
      "27.13 29.4 0\n",
      "MoviePy - Writing audio in ./data/audio_label_clip/negative\\negative_44.wav\n"
     ]
    },
    {
     "name": "stderr",
     "output_type": "stream",
     "text": [
      "                                                               \r"
     ]
    },
    {
     "name": "stdout",
     "output_type": "stream",
     "text": [
      "MoviePy - Done.\n",
      "완료됬습니다.\n",
      "file name:B3ah0WR4e9E_14\n",
      "read new file\n",
      "   start    end  label\n",
      "0   29.4  32.55      0\n",
      "29.4 32.55 0\n",
      "MoviePy - Writing audio in ./data/audio_label_clip/negative\\negative_45.wav\n"
     ]
    },
    {
     "name": "stderr",
     "output_type": "stream",
     "text": [
      "                                                               \r"
     ]
    },
    {
     "name": "stdout",
     "output_type": "stream",
     "text": [
      "MoviePy - Done.\n",
      "완료됬습니다.\n",
      "file name:B3ah0WR4e9E_15\n",
      "read new file\n",
      "   start    end  label\n",
      "0  32.58  37.18      0\n",
      "32.58 37.18 0\n",
      "MoviePy - Writing audio in ./data/audio_label_clip/negative\\negative_46.wav\n"
     ]
    },
    {
     "name": "stderr",
     "output_type": "stream",
     "text": [
      "                                                                \r"
     ]
    },
    {
     "name": "stdout",
     "output_type": "stream",
     "text": [
      "MoviePy - Done.\n",
      "완료됬습니다.\n",
      "file name:B3ah0WR4e9E_2\n",
      "read new file\n",
      "   start   end  label\n",
      "0    3.4  5.58      0\n",
      "3.4 5.58 0\n",
      "MoviePy - Writing audio in ./data/audio_label_clip/negative\\negative_47.wav\n"
     ]
    },
    {
     "name": "stderr",
     "output_type": "stream",
     "text": [
      "                                                               "
     ]
    },
    {
     "name": "stdout",
     "output_type": "stream",
     "text": [
      "MoviePy - Done.\n",
      "완료됬습니다.\n",
      "file name:B3ah0WR4e9E_3\n",
      "read new file\n",
      "   start   end  label\n",
      "0   6.17  6.38     10\n",
      "6.17 6.38 10\n"
     ]
    },
    {
     "name": "stderr",
     "output_type": "stream",
     "text": [
      "\r"
     ]
    },
    {
     "name": "stdout",
     "output_type": "stream",
     "text": [
      "MoviePy - Writing audio in ./data/audio_label_clip/activate\\shi_14.wav\n"
     ]
    },
    {
     "name": "stderr",
     "output_type": "stream",
     "text": [
      "                                                              "
     ]
    },
    {
     "name": "stdout",
     "output_type": "stream",
     "text": [
      "MoviePy - Done.\n",
      "완료됬습니다.\n",
      "file name:B3ah0WR4e9E_4\n",
      "read new file\n",
      "   start     end  label\n",
      "0   8.83  10.679      0\n",
      "8.83 10.679 0\n"
     ]
    },
    {
     "name": "stderr",
     "output_type": "stream",
     "text": [
      "\r"
     ]
    },
    {
     "name": "stdout",
     "output_type": "stream",
     "text": [
      "MoviePy - Writing audio in ./data/audio_label_clip/negative\\negative_48.wav\n"
     ]
    },
    {
     "name": "stderr",
     "output_type": "stream",
     "text": [
      "                                                               "
     ]
    },
    {
     "name": "stdout",
     "output_type": "stream",
     "text": [
      "MoviePy - Done.\n",
      "완료됬습니다.\n",
      "file name:B3ah0WR4e9E_5\n",
      "read new file\n",
      "    start    end  label\n",
      "0  10.679  12.24      0\n",
      "10.679 12.24 0\n"
     ]
    },
    {
     "name": "stderr",
     "output_type": "stream",
     "text": [
      "\r"
     ]
    },
    {
     "name": "stdout",
     "output_type": "stream",
     "text": [
      "MoviePy - Writing audio in ./data/audio_label_clip/negative\\negative_49.wav\n"
     ]
    },
    {
     "name": "stderr",
     "output_type": "stream",
     "text": [
      "                                                               \r"
     ]
    },
    {
     "name": "stdout",
     "output_type": "stream",
     "text": [
      "MoviePy - Done.\n",
      "완료됬습니다.\n",
      "file name:B3ah0WR4e9E_6\n",
      "read new file\n",
      "   start    end  label\n",
      "0  12.24  13.98      0\n",
      "12.24 13.98 0\n",
      "MoviePy - Writing audio in ./data/audio_label_clip/negative\\negative_50.wav\n"
     ]
    },
    {
     "name": "stderr",
     "output_type": "stream",
     "text": [
      "                                                               "
     ]
    },
    {
     "name": "stdout",
     "output_type": "stream",
     "text": [
      "MoviePy - Done."
     ]
    },
    {
     "name": "stderr",
     "output_type": "stream",
     "text": [
      "\r"
     ]
    },
    {
     "name": "stdout",
     "output_type": "stream",
     "text": [
      "\n",
      "완료됬습니다.\n",
      "file name:B3ah0WR4e9E_7\n",
      "read new file\n",
      "   start     end  label\n",
      "0  13.98  17.719      0\n",
      "13.98 17.719 0\n",
      "MoviePy - Writing audio in ./data/audio_label_clip/negative\\negative_51.wav\n"
     ]
    },
    {
     "name": "stderr",
     "output_type": "stream",
     "text": [
      "                                                               \r"
     ]
    },
    {
     "name": "stdout",
     "output_type": "stream",
     "text": [
      "MoviePy - Done.\n",
      "완료됬습니다.\n",
      "file name:B3ah0WR4e9E_8\n",
      "read new file\n",
      "   start    end  label\n",
      "0  17.88  20.34      0\n",
      "17.88 20.34 0\n",
      "MoviePy - Writing audio in ./data/audio_label_clip/negative\\negative_52.wav\n"
     ]
    },
    {
     "name": "stderr",
     "output_type": "stream",
     "text": [
      "                                                               \r"
     ]
    },
    {
     "name": "stdout",
     "output_type": "stream",
     "text": [
      "MoviePy - Done.\n",
      "완료됬습니다.\n",
      "file name:B3ah0WR4e9E_9\n",
      "read new file\n",
      "   start    end  label\n",
      "0  20.34  21.66      0\n",
      "20.34 21.66 0\n",
      "MoviePy - Writing audio in ./data/audio_label_clip/negative\\negative_53.wav\n"
     ]
    },
    {
     "name": "stderr",
     "output_type": "stream",
     "text": [
      "                                                               "
     ]
    },
    {
     "name": "stdout",
     "output_type": "stream",
     "text": [
      "MoviePy - Done.\n",
      "완료됬습니다.\n",
      "file name:bGFkdfYPPAo_0\n",
      "read new file\n",
      "   start   end  label\n",
      "0   1.33  1.72     15\n",
      "1.33 1.72 15\n"
     ]
    },
    {
     "name": "stderr",
     "output_type": "stream",
     "text": [
      "\r"
     ]
    },
    {
     "name": "stdout",
     "output_type": "stream",
     "text": [
      "MoviePy - Writing audio in ./data/audio_label_clip/activate\\sang_0.wav\n"
     ]
    },
    {
     "name": "stderr",
     "output_type": "stream",
     "text": [
      "                                                              "
     ]
    },
    {
     "name": "stdout",
     "output_type": "stream",
     "text": [
      "MoviePy - Done.\n",
      "완료됬습니다.\n",
      "file name:bGFkdfYPPAo_1\n",
      "read new file\n",
      "   start   end  label\n",
      "0   2.21  2.55     15\n",
      "2.21 2.55 15\n"
     ]
    },
    {
     "name": "stderr",
     "output_type": "stream",
     "text": [
      "\r"
     ]
    },
    {
     "name": "stdout",
     "output_type": "stream",
     "text": [
      "MoviePy - Writing audio in ./data/audio_label_clip/activate\\sang_1.wav\n"
     ]
    },
    {
     "name": "stderr",
     "output_type": "stream",
     "text": [
      "                                                              "
     ]
    },
    {
     "name": "stdout",
     "output_type": "stream",
     "text": [
      "MoviePy - Done.\n",
      "완료됬습니다.\n",
      "file name:bGFkdfYPPAo_10\n",
      "read new file\n",
      "   start    end  label\n",
      "0  29.67  30.11     10\n",
      "29.67 30.11 10\n"
     ]
    },
    {
     "name": "stderr",
     "output_type": "stream",
     "text": [
      "\r"
     ]
    },
    {
     "name": "stdout",
     "output_type": "stream",
     "text": [
      "MoviePy - Writing audio in ./data/audio_label_clip/activate\\shi_15.wav\n"
     ]
    },
    {
     "name": "stderr",
     "output_type": "stream",
     "text": [
      "                                                               \r"
     ]
    },
    {
     "name": "stdout",
     "output_type": "stream",
     "text": [
      "MoviePy - Done.\n",
      "완료됬습니다.\n",
      "file name:bGFkdfYPPAo_11\n",
      "read new file\n",
      "   start    end  label\n",
      "0  30.91  31.49     16\n",
      "30.91 31.49 16\n",
      "MoviePy - Writing audio in ./data/audio_label_clip/activate\\mi_0.wav\n"
     ]
    },
    {
     "name": "stderr",
     "output_type": "stream",
     "text": [
      "                                                               "
     ]
    },
    {
     "name": "stdout",
     "output_type": "stream",
     "text": [
      "MoviePy - Done.\n",
      "완료됬습니다.\n",
      "file name:bGFkdfYPPAo_12\n",
      "read new file\n"
     ]
    },
    {
     "name": "stderr",
     "output_type": "stream",
     "text": [
      "\r"
     ]
    },
    {
     "name": "stdout",
     "output_type": "stream",
     "text": [
      "   start    end  label\n",
      "0  31.97  32.79     18\n",
      "31.97 32.79 18\n",
      "MoviePy - Writing audio in ./data/audio_label_clip/activate\\jot_0.wav\n"
     ]
    },
    {
     "name": "stderr",
     "output_type": "stream",
     "text": [
      "                                                               \r"
     ]
    },
    {
     "name": "stdout",
     "output_type": "stream",
     "text": [
      "MoviePy - Done.\n",
      "완료됬습니다.\n",
      "file name:bGFkdfYPPAo_13\n",
      "read new file\n",
      "   start    end  label\n",
      "0  35.01  35.45     10\n",
      "35.01 35.45 10\n",
      "MoviePy - Writing audio in ./data/audio_label_clip/activate\\shi_16.wav\n"
     ]
    },
    {
     "name": "stderr",
     "output_type": "stream",
     "text": [
      "                                                               "
     ]
    },
    {
     "name": "stdout",
     "output_type": "stream",
     "text": [
      "MoviePy - Done."
     ]
    },
    {
     "name": "stderr",
     "output_type": "stream",
     "text": [
      "\r"
     ]
    },
    {
     "name": "stdout",
     "output_type": "stream",
     "text": [
      "\n",
      "완료됬습니다.\n",
      "file name:bGFkdfYPPAo_14\n",
      "read new file\n",
      "   start    end  label\n",
      "0  39.05  39.49     10\n",
      "39.05 39.49 10\n",
      "MoviePy - Writing audio in ./data/audio_label_clip/activate\\shi_17.wav\n"
     ]
    },
    {
     "name": "stderr",
     "output_type": "stream",
     "text": [
      "                                                               \r"
     ]
    },
    {
     "name": "stdout",
     "output_type": "stream",
     "text": [
      "MoviePy - Done.\n",
      "완료됬습니다.\n",
      "file name:bGFkdfYPPAo_15\n",
      "read new file\n",
      "   start    end  label\n",
      "0  41.51  42.53     10\n",
      "41.51 42.53 10\n",
      "MoviePy - Writing audio in ./data/audio_label_clip/activate\\shi_18.wav\n"
     ]
    },
    {
     "name": "stderr",
     "output_type": "stream",
     "text": [
      "                                                               \r"
     ]
    },
    {
     "name": "stdout",
     "output_type": "stream",
     "text": [
      "MoviePy - Done.\n",
      "완료됬습니다.\n",
      "file name:bGFkdfYPPAo_2\n",
      "read new file\n",
      "   start   end  label\n",
      "0   4.73  5.06     15\n",
      "4.73 5.06 15\n",
      "MoviePy - Writing audio in ./data/audio_label_clip/activate\\sang_2.wav\n"
     ]
    },
    {
     "name": "stderr",
     "output_type": "stream",
     "text": [
      "                                                              "
     ]
    },
    {
     "name": "stdout",
     "output_type": "stream",
     "text": [
      "MoviePy - Done.\n",
      "완료됬습니다.\n",
      "file name:bGFkdfYPPAo_3\n",
      "read new file\n",
      "   start   end  label\n",
      "0    5.5  5.74      8\n",
      "5.5 5.74 8\n"
     ]
    },
    {
     "name": "stderr",
     "output_type": "stream",
     "text": [
      "\r"
     ]
    },
    {
     "name": "stdout",
     "output_type": "stream",
     "text": [
      "file name:bGFkdfYPPAo_4\n",
      "read new file\n",
      "   start   end  label\n",
      "0   6.78  7.59     10\n",
      "6.78 7.59 10\n",
      "MoviePy - Writing audio in ./data/audio_label_clip/activate\\shi_19.wav\n"
     ]
    },
    {
     "name": "stderr",
     "output_type": "stream",
     "text": [
      "                                                               "
     ]
    },
    {
     "name": "stdout",
     "output_type": "stream",
     "text": [
      "MoviePy - Done."
     ]
    },
    {
     "name": "stderr",
     "output_type": "stream",
     "text": [
      "\r"
     ]
    },
    {
     "name": "stdout",
     "output_type": "stream",
     "text": [
      "\n",
      "완료됬습니다.\n",
      "file name:bGFkdfYPPAo_5\n",
      "read new file\n",
      "   start    end  label\n",
      "0    7.7  13.42      0\n",
      "7.7 13.42 0\n",
      "MoviePy - Writing audio in ./data/audio_label_clip/negative\\negative_54.wav\n"
     ]
    },
    {
     "name": "stderr",
     "output_type": "stream",
     "text": [
      "                                                                \r"
     ]
    },
    {
     "name": "stdout",
     "output_type": "stream",
     "text": [
      "MoviePy - Done.\n",
      "완료됬습니다.\n",
      "file name:bGFkdfYPPAo_6\n",
      "read new file\n",
      "   start    end  label\n",
      "0   13.6  22.14      0\n",
      "13.6 22.14 0\n",
      "MoviePy - Writing audio in ./data/audio_label_clip/negative\\negative_55.wav\n"
     ]
    },
    {
     "name": "stderr",
     "output_type": "stream",
     "text": [
      "                                                                   \r"
     ]
    },
    {
     "name": "stdout",
     "output_type": "stream",
     "text": [
      "MoviePy - Done.\n",
      "완료됬습니다.\n",
      "file name:bGFkdfYPPAo_7\n",
      "read new file\n",
      "   start    end  label\n",
      "0  22.35  23.09      8\n",
      "22.35 23.09 8\n",
      "file name:bGFkdfYPPAo_8\n",
      "read new file\n",
      "   start    end  label\n",
      "0  27.59  28.33     10\n",
      "27.59 28.33 10\n",
      "MoviePy - Writing audio in ./data/audio_label_clip/activate\\shi_20.wav\n"
     ]
    },
    {
     "name": "stderr",
     "output_type": "stream",
     "text": [
      "                                                               "
     ]
    },
    {
     "name": "stdout",
     "output_type": "stream",
     "text": [
      "MoviePy - Done.\n",
      "완료됬습니다.\n",
      "file name:bGFkdfYPPAo_9\n",
      "read new file\n",
      "   start    end  label\n",
      "0  28.68  29.46     16\n",
      "28.68 29.46 16\n"
     ]
    },
    {
     "name": "stderr",
     "output_type": "stream",
     "text": [
      "\r"
     ]
    },
    {
     "name": "stdout",
     "output_type": "stream",
     "text": [
      "MoviePy - Writing audio in ./data/audio_label_clip/activate\\mi_1.wav\n"
     ]
    },
    {
     "name": "stderr",
     "output_type": "stream",
     "text": [
      "                                                               "
     ]
    },
    {
     "name": "stdout",
     "output_type": "stream",
     "text": [
      "MoviePy - Done.\n",
      "완료됬습니다.\n",
      "file name:Ci_KihazlPI_0\n",
      "read new file\n",
      "   start   end  label\n",
      "0   3.56  5.27      0\n",
      "3.56 5.27 0\n"
     ]
    },
    {
     "name": "stderr",
     "output_type": "stream",
     "text": [
      "\r"
     ]
    },
    {
     "name": "stdout",
     "output_type": "stream",
     "text": [
      "MoviePy - Writing audio in ./data/audio_label_clip/negative\\negative_56.wav\n"
     ]
    },
    {
     "name": "stderr",
     "output_type": "stream",
     "text": [
      "                                                               "
     ]
    },
    {
     "name": "stdout",
     "output_type": "stream",
     "text": [
      "MoviePy - Done.\n",
      "완료됬습니다.\n",
      "file name:Ci_KihazlPI_1\n",
      "read new file\n",
      "   start   end  label\n",
      "0   5.71  5.95     12\n",
      "5.71 5.95 12\n"
     ]
    },
    {
     "name": "stderr",
     "output_type": "stream",
     "text": [
      "\r"
     ]
    },
    {
     "name": "stdout",
     "output_type": "stream",
     "text": [
      "MoviePy - Writing audio in ./data/audio_label_clip/activate\\sha_1.wav\n"
     ]
    },
    {
     "name": "stderr",
     "output_type": "stream",
     "text": [
      "                                                              "
     ]
    },
    {
     "name": "stdout",
     "output_type": "stream",
     "text": [
      "MoviePy - Done.\n",
      "완료됬습니다.\n",
      "file name:Ci_KihazlPI_10\n",
      "read new file\n",
      "   start    end  label\n",
      "0  38.54  39.53      8\n",
      "38.54 39.53 8\n"
     ]
    },
    {
     "name": "stderr",
     "output_type": "stream",
     "text": [
      "\r"
     ]
    },
    {
     "name": "stdout",
     "output_type": "stream",
     "text": [
      "file name:Ci_KihazlPI_11\n",
      "read new file\n",
      "   start    end  label\n",
      "0   42.0  42.72     17\n",
      "42.0 42.72 17\n",
      "MoviePy - Writing audio in ./data/audio_label_clip/activate\\gae_1.wav\n"
     ]
    },
    {
     "name": "stderr",
     "output_type": "stream",
     "text": [
      "                                                               "
     ]
    },
    {
     "name": "stdout",
     "output_type": "stream",
     "text": [
      "MoviePy - Done."
     ]
    },
    {
     "name": "stderr",
     "output_type": "stream",
     "text": [
      "\r"
     ]
    },
    {
     "name": "stdout",
     "output_type": "stream",
     "text": [
      "\n",
      "완료됬습니다.\n",
      "file name:Ci_KihazlPI_12\n",
      "read new file\n",
      "   start    end  label\n",
      "0  42.86  43.55     10\n",
      "42.86 43.55 10\n",
      "MoviePy - Writing audio in ./data/audio_label_clip/activate\\shi_21.wav\n"
     ]
    },
    {
     "name": "stderr",
     "output_type": "stream",
     "text": [
      "                                                               \r"
     ]
    },
    {
     "name": "stdout",
     "output_type": "stream",
     "text": [
      "MoviePy - Done.\n",
      "완료됬습니다.\n",
      "file name:Ci_KihazlPI_13\n",
      "read new file\n",
      "   start    end  label\n",
      "0   53.0  54.89      0\n",
      "53.0 54.89 0\n",
      "MoviePy - Writing audio in ./data/audio_label_clip/negative\\negative_57.wav\n"
     ]
    },
    {
     "name": "stderr",
     "output_type": "stream",
     "text": [
      "                                                               \r"
     ]
    },
    {
     "name": "stdout",
     "output_type": "stream",
     "text": [
      "MoviePy - Done.\n",
      "완료됬습니다.\n",
      "file name:Ci_KihazlPI_2\n",
      "read new file\n",
      "   start   end  label\n",
      "0   14.3  15.5      0\n",
      "14.3 15.5 0\n",
      "MoviePy - Writing audio in ./data/audio_label_clip/negative\\negative_58.wav\n"
     ]
    },
    {
     "name": "stderr",
     "output_type": "stream",
     "text": [
      "                                                               "
     ]
    },
    {
     "name": "stdout",
     "output_type": "stream",
     "text": [
      "MoviePy - Done.\n",
      "완료됬습니다.\n",
      "file name:Ci_KihazlPI_3\n",
      "read new file\n",
      "   start    end  label\n",
      "0  18.84  22.48      0\n",
      "18.84 22.48 0\n"
     ]
    },
    {
     "name": "stderr",
     "output_type": "stream",
     "text": [
      "\r"
     ]
    },
    {
     "name": "stdout",
     "output_type": "stream",
     "text": [
      "MoviePy - Writing audio in ./data/audio_label_clip/negative\\negative_59.wav\n"
     ]
    },
    {
     "name": "stderr",
     "output_type": "stream",
     "text": [
      "                                                               \r"
     ]
    },
    {
     "name": "stdout",
     "output_type": "stream",
     "text": [
      "MoviePy - Done.\n",
      "완료됬습니다.\n",
      "file name:Ci_KihazlPI_4\n",
      "read new file\n",
      "   start    end  label\n",
      "0  22.48  23.71      0\n",
      "22.48 23.71 0\n",
      "MoviePy - Writing audio in ./data/audio_label_clip/negative\\negative_60.wav\n"
     ]
    },
    {
     "name": "stderr",
     "output_type": "stream",
     "text": [
      "                                                               "
     ]
    },
    {
     "name": "stdout",
     "output_type": "stream",
     "text": [
      "MoviePy - Done.\n",
      "완료됬습니다.\n",
      "file name:Ci_KihazlPI_5\n",
      "read new file\n",
      "   start    end  label\n",
      "0  23.71  26.74      0\n",
      "23.71 26.74 0\n"
     ]
    },
    {
     "name": "stderr",
     "output_type": "stream",
     "text": [
      "\r"
     ]
    },
    {
     "name": "stdout",
     "output_type": "stream",
     "text": [
      "MoviePy - Writing audio in ./data/audio_label_clip/negative\\negative_61.wav\n"
     ]
    },
    {
     "name": "stderr",
     "output_type": "stream",
     "text": [
      "                                                               \r"
     ]
    },
    {
     "name": "stdout",
     "output_type": "stream",
     "text": [
      "MoviePy - Done.\n",
      "완료됬습니다.\n",
      "file name:Ci_KihazlPI_6\n",
      "read new file\n",
      "   start    end  label\n",
      "0  26.74  27.58      0\n",
      "26.74 27.58 0\n",
      "MoviePy - Writing audio in ./data/audio_label_clip/negative\\negative_62.wav\n"
     ]
    },
    {
     "name": "stderr",
     "output_type": "stream",
     "text": [
      "                                                               "
     ]
    },
    {
     "name": "stdout",
     "output_type": "stream",
     "text": [
      "MoviePy - Done.\n",
      "완료됬습니다.\n",
      "file name:Ci_KihazlPI_7\n",
      "read new file\n",
      "   start    end  label\n",
      "0  27.97  31.68      0\n",
      "27.97 31.68 0\n"
     ]
    },
    {
     "name": "stderr",
     "output_type": "stream",
     "text": [
      "\r"
     ]
    },
    {
     "name": "stdout",
     "output_type": "stream",
     "text": [
      "MoviePy - Writing audio in ./data/audio_label_clip/negative\\negative_63.wav\n"
     ]
    },
    {
     "name": "stderr",
     "output_type": "stream",
     "text": [
      "                                                               \r"
     ]
    },
    {
     "name": "stdout",
     "output_type": "stream",
     "text": [
      "MoviePy - Done.\n",
      "완료됬습니다.\n",
      "file name:Ci_KihazlPI_8\n",
      "read new file\n",
      "   start   end  label\n",
      "0  34.56  35.2     12\n",
      "34.56 35.2 12\n",
      "MoviePy - Writing audio in ./data/audio_label_clip/activate\\sha_2.wav\n"
     ]
    },
    {
     "name": "stderr",
     "output_type": "stream",
     "text": [
      "                                                               \r"
     ]
    },
    {
     "name": "stdout",
     "output_type": "stream",
     "text": [
      "MoviePy - Done.\n",
      "완료됬습니다.\n",
      "file name:Ci_KihazlPI_9\n",
      "read new file\n",
      "   start    end  label\n",
      "0  37.13  37.77     10\n",
      "37.13 37.77 10\n",
      "MoviePy - Writing audio in ./data/audio_label_clip/activate\\shi_22.wav\n"
     ]
    },
    {
     "name": "stderr",
     "output_type": "stream",
     "text": [
      "                                                               \r"
     ]
    },
    {
     "name": "stdout",
     "output_type": "stream",
     "text": [
      "MoviePy - Done.\n",
      "완료됬습니다.\n",
      "file name:DaiuEzbidpw_0\n",
      "read new file\n",
      "   start   end  label\n",
      "0   0.62  5.37      0\n",
      "0.62 5.37 0\n",
      "MoviePy - Writing audio in ./data/audio_label_clip/negative\\negative_64.wav\n"
     ]
    },
    {
     "name": "stderr",
     "output_type": "stream",
     "text": [
      "                                                                \r"
     ]
    },
    {
     "name": "stdout",
     "output_type": "stream",
     "text": [
      "MoviePy - Done.\n",
      "완료됬습니다.\n",
      "file name:DaiuEzbidpw_1\n",
      "read new file\n",
      "   start   end  label\n",
      "0   5.85  7.14      0\n",
      "5.85 7.14 0\n",
      "MoviePy - Writing audio in ./data/audio_label_clip/negative\\negative_65.wav\n"
     ]
    },
    {
     "name": "stderr",
     "output_type": "stream",
     "text": [
      "                                                               "
     ]
    },
    {
     "name": "stdout",
     "output_type": "stream",
     "text": [
      "MoviePy - Done.\n",
      "완료됬습니다.\n",
      "file name:DaiuEzbidpw_10\n",
      "read new file\n",
      "   start    end  label\n",
      "0  46.28  47.85      0\n",
      "46.28 47.85 0\n"
     ]
    },
    {
     "name": "stderr",
     "output_type": "stream",
     "text": [
      "\r"
     ]
    },
    {
     "name": "stdout",
     "output_type": "stream",
     "text": [
      "MoviePy - Writing audio in ./data/audio_label_clip/negative\\negative_66.wav\n"
     ]
    },
    {
     "name": "stderr",
     "output_type": "stream",
     "text": [
      "                                                               \r"
     ]
    },
    {
     "name": "stdout",
     "output_type": "stream",
     "text": [
      "MoviePy - Done.\n",
      "완료됬습니다.\n",
      "file name:DaiuEzbidpw_11\n",
      "read new file\n",
      "   start    end  label\n",
      "0  48.16  48.59     17\n",
      "48.16 48.59 17\n",
      "MoviePy - Writing audio in ./data/audio_label_clip/activate\\gae_2.wav\n"
     ]
    },
    {
     "name": "stderr",
     "output_type": "stream",
     "text": [
      "                                                               \r"
     ]
    },
    {
     "name": "stdout",
     "output_type": "stream",
     "text": [
      "MoviePy - Done.\n",
      "완료됬습니다.\n",
      "file name:DaiuEzbidpw_12\n",
      "read new file\n",
      "   start    end  label\n",
      "0  49.76  50.09     17\n",
      "49.76 50.09 17\n",
      "MoviePy - Writing audio in ./data/audio_label_clip/activate\\gae_3.wav\n"
     ]
    },
    {
     "name": "stderr",
     "output_type": "stream",
     "text": [
      "                                                              "
     ]
    },
    {
     "name": "stdout",
     "output_type": "stream",
     "text": [
      "MoviePy - Done.\n",
      "완료됬습니다.\n",
      "file name:DaiuEzbidpw_13\n",
      "read new file\n"
     ]
    },
    {
     "name": "stderr",
     "output_type": "stream",
     "text": [
      "\r"
     ]
    },
    {
     "name": "stdout",
     "output_type": "stream",
     "text": [
      "   start   end  label\n",
      "0  51.54  52.4     17\n",
      "51.54 52.4 17\n",
      "MoviePy - Writing audio in ./data/audio_label_clip/activate\\gae_4.wav\n"
     ]
    },
    {
     "name": "stderr",
     "output_type": "stream",
     "text": [
      "                                                               \r"
     ]
    },
    {
     "name": "stdout",
     "output_type": "stream",
     "text": [
      "MoviePy - Done.\n",
      "완료됬습니다.\n",
      "file name:DaiuEzbidpw_14\n",
      "read new file\n",
      "   start    end  label\n",
      "0  53.27  54.14     17\n",
      "53.27 54.14 17\n",
      "MoviePy - Writing audio in ./data/audio_label_clip/activate\\gae_5.wav\n"
     ]
    },
    {
     "name": "stderr",
     "output_type": "stream",
     "text": [
      "                                                               \r"
     ]
    },
    {
     "name": "stdout",
     "output_type": "stream",
     "text": [
      "MoviePy - Done.\n",
      "완료됬습니다.\n",
      "file name:DaiuEzbidpw_15\n",
      "read new file\n",
      "   start    end  label\n",
      "0  54.82  55.25     17\n",
      "54.82 55.25 17\n",
      "MoviePy - Writing audio in ./data/audio_label_clip/activate\\gae_6.wav\n"
     ]
    },
    {
     "name": "stderr",
     "output_type": "stream",
     "text": [
      "                                                               \r"
     ]
    },
    {
     "name": "stdout",
     "output_type": "stream",
     "text": [
      "MoviePy - Done.\n",
      "완료됬습니다.\n",
      "file name:DaiuEzbidpw_16\n",
      "read new file\n",
      "   start   end  label\n",
      "0  56.53  57.5     17\n",
      "56.53 57.5 17\n",
      "MoviePy - Writing audio in ./data/audio_label_clip/activate\\gae_7.wav\n"
     ]
    },
    {
     "name": "stderr",
     "output_type": "stream",
     "text": [
      "                                                               \r"
     ]
    },
    {
     "name": "stdout",
     "output_type": "stream",
     "text": [
      "MoviePy - Done.\n",
      "완료됬습니다.\n",
      "file name:DaiuEzbidpw_2\n",
      "read new file\n",
      "   start    end  label\n",
      "0   7.14  11.01      0\n",
      "7.14 11.01 0\n",
      "MoviePy - Writing audio in ./data/audio_label_clip/negative\\negative_67.wav\n"
     ]
    },
    {
     "name": "stderr",
     "output_type": "stream",
     "text": [
      "                                                               \r"
     ]
    },
    {
     "name": "stdout",
     "output_type": "stream",
     "text": [
      "MoviePy - Done.\n",
      "완료됬습니다.\n",
      "file name:DaiuEzbidpw_3\n",
      "read new file\n",
      "   start    end  label\n",
      "0  11.05  11.51     10\n",
      "11.05 11.51 10\n",
      "MoviePy - Writing audio in ./data/audio_label_clip/activate\\shi_23.wav\n"
     ]
    },
    {
     "name": "stderr",
     "output_type": "stream",
     "text": [
      "                                                               "
     ]
    },
    {
     "name": "stdout",
     "output_type": "stream",
     "text": [
      "MoviePy - Done.\n",
      "완료됬습니다.\n",
      "file name:DaiuEzbidpw_4\n",
      "read new file\n",
      "   start    end  label\n",
      "0  11.51  11.82     11\n",
      "11.51 11.82 11\n"
     ]
    },
    {
     "name": "stderr",
     "output_type": "stream",
     "text": [
      "\r"
     ]
    },
    {
     "name": "stdout",
     "output_type": "stream",
     "text": [
      "MoviePy - Writing audio in ./data/audio_label_clip/activate\\jon_1.wav\n"
     ]
    },
    {
     "name": "stderr",
     "output_type": "stream",
     "text": [
      "                                                              "
     ]
    },
    {
     "name": "stdout",
     "output_type": "stream",
     "text": [
      "MoviePy - Done.\n",
      "완료됬습니다.\n",
      "file name:DaiuEzbidpw_5\n",
      "read new file\n",
      "   start    end  label\n",
      "0  15.77  16.11     13\n",
      "15.77 16.11 13\n"
     ]
    },
    {
     "name": "stderr",
     "output_type": "stream",
     "text": [
      "\r"
     ]
    },
    {
     "name": "stdout",
     "output_type": "stream",
     "text": [
      "MoviePy - Writing audio in ./data/audio_label_clip/activate\\byoung_1.wav\n"
     ]
    },
    {
     "name": "stderr",
     "output_type": "stream",
     "text": [
      "                                                              "
     ]
    },
    {
     "name": "stdout",
     "output_type": "stream",
     "text": [
      "MoviePy - Done.\n",
      "완료됬습니다.\n",
      "file name:DaiuEzbidpw_6\n",
      "read new file\n",
      "   start    end  label\n",
      "0  19.08  21.15      0\n",
      "19.08 21.15 0\n"
     ]
    },
    {
     "name": "stderr",
     "output_type": "stream",
     "text": [
      "\r"
     ]
    },
    {
     "name": "stdout",
     "output_type": "stream",
     "text": [
      "MoviePy - Writing audio in ./data/audio_label_clip/negative\\negative_68.wav\n"
     ]
    },
    {
     "name": "stderr",
     "output_type": "stream",
     "text": [
      "                                                               \r"
     ]
    },
    {
     "name": "stdout",
     "output_type": "stream",
     "text": [
      "MoviePy - Done.\n",
      "완료됬습니다.\n",
      "file name:DaiuEzbidpw_7\n",
      "read new file\n",
      "   start    end  label\n",
      "0  27.48  28.27     13\n",
      "27.48 28.27 13\n",
      "MoviePy - Writing audio in ./data/audio_label_clip/activate\\byoung_2.wav\n"
     ]
    },
    {
     "name": "stderr",
     "output_type": "stream",
     "text": [
      "                                                               "
     ]
    },
    {
     "name": "stdout",
     "output_type": "stream",
     "text": [
      "MoviePy - Done.\n",
      "완료됬습니다.\n",
      "file name:DaiuEzbidpw_8\n",
      "read new file\n",
      "   start    end  label\n",
      "0  37.04  41.36      0\n",
      "37.04 41.36 0\n"
     ]
    },
    {
     "name": "stderr",
     "output_type": "stream",
     "text": [
      "\r"
     ]
    },
    {
     "name": "stdout",
     "output_type": "stream",
     "text": [
      "MoviePy - Writing audio in ./data/audio_label_clip/negative\\negative_69.wav\n"
     ]
    },
    {
     "name": "stderr",
     "output_type": "stream",
     "text": [
      "                                                               \r"
     ]
    },
    {
     "name": "stdout",
     "output_type": "stream",
     "text": [
      "MoviePy - Done.\n",
      "완료됬습니다.\n",
      "file name:DaiuEzbidpw_9\n",
      "read new file\n",
      "   start    end  label\n",
      "0  41.36  42.98      0\n",
      "41.36 42.98 0\n",
      "MoviePy - Writing audio in ./data/audio_label_clip/negative\\negative_70.wav\n"
     ]
    },
    {
     "name": "stderr",
     "output_type": "stream",
     "text": [
      "                                                               \r"
     ]
    },
    {
     "name": "stdout",
     "output_type": "stream",
     "text": [
      "MoviePy - Done.\n",
      "완료됬습니다.\n",
      "file name:dFCEjR9fb1M_0\n",
      "read new file\n",
      "   start   end  label\n",
      "0    3.6  4.98      0\n",
      "3.6 4.98 0\n",
      "MoviePy - Writing audio in ./data/audio_label_clip/negative\\negative_71.wav\n"
     ]
    },
    {
     "name": "stderr",
     "output_type": "stream",
     "text": [
      "                                                               \r"
     ]
    },
    {
     "name": "stdout",
     "output_type": "stream",
     "text": [
      "MoviePy - Done.\n",
      "완료됬습니다.\n",
      "file name:dFCEjR9fb1M_1\n",
      "read new file\n",
      "   start  end  label\n",
      "0   4.98  7.4      0\n",
      "4.98 7.4 0\n",
      "MoviePy - Writing audio in ./data/audio_label_clip/negative\\negative_72.wav\n"
     ]
    },
    {
     "name": "stderr",
     "output_type": "stream",
     "text": [
      "                                                               \r"
     ]
    },
    {
     "name": "stdout",
     "output_type": "stream",
     "text": [
      "MoviePy - Done.\n",
      "완료됬습니다.\n",
      "file name:dFCEjR9fb1M_2\n",
      "read new file\n",
      "   start   end  label\n",
      "0    7.9  8.22     16\n",
      "7.9 8.22 16\n",
      "MoviePy - Writing audio in ./data/audio_label_clip/activate\\mi_2.wav\n"
     ]
    },
    {
     "name": "stderr",
     "output_type": "stream",
     "text": [
      "                                                              "
     ]
    },
    {
     "name": "stdout",
     "output_type": "stream",
     "text": [
      "MoviePy - Done.\n",
      "완료됬습니다.\n",
      "file name:dFCEjR9fb1M_3\n",
      "read new file\n",
      "   start    end  label\n",
      "0    8.8  13.69      0\n",
      "8.8 13.69 0\n"
     ]
    },
    {
     "name": "stderr",
     "output_type": "stream",
     "text": [
      "\r"
     ]
    },
    {
     "name": "stdout",
     "output_type": "stream",
     "text": [
      "MoviePy - Writing audio in ./data/audio_label_clip/negative\\negative_73.wav\n"
     ]
    },
    {
     "name": "stderr",
     "output_type": "stream",
     "text": [
      "                                                                \r"
     ]
    },
    {
     "name": "stdout",
     "output_type": "stream",
     "text": [
      "MoviePy - Done.\n",
      "완료됬습니다.\n",
      "file name:dFCEjR9fb1M_4\n",
      "read new file\n",
      "   start    end  label\n",
      "0  18.92  19.12      8\n",
      "18.92 19.12 8\n",
      "file name:dFCEjR9fb1M_5\n",
      "read new file\n",
      "   start    end  label\n",
      "0  23.86  24.15     12\n",
      "23.86 24.15 12\n",
      "MoviePy - Writing audio in ./data/audio_label_clip/activate\\sha_3.wav\n"
     ]
    },
    {
     "name": "stderr",
     "output_type": "stream",
     "text": [
      "                                                              "
     ]
    },
    {
     "name": "stdout",
     "output_type": "stream",
     "text": [
      "MoviePy - Done.\n",
      "완료됬습니다.\n",
      "file name:dFCEjR9fb1M_6\n",
      "read new file\n",
      "   start    end  label\n",
      "0  30.76  31.25     10\n",
      "30.76 31.25 10\n"
     ]
    },
    {
     "name": "stderr",
     "output_type": "stream",
     "text": [
      "\r"
     ]
    },
    {
     "name": "stdout",
     "output_type": "stream",
     "text": [
      "MoviePy - Writing audio in ./data/audio_label_clip/activate\\shi_24.wav\n"
     ]
    },
    {
     "name": "stderr",
     "output_type": "stream",
     "text": [
      "                                                               \r"
     ]
    },
    {
     "name": "stdout",
     "output_type": "stream",
     "text": [
      "MoviePy - Done.\n",
      "완료됬습니다.\n",
      "file name:dNsVyX8LBhk_0\n",
      "read new file\n",
      "   start   end  label\n",
      "0  0.359  3.38      0\n",
      "0.359 3.38 0\n",
      "MoviePy - Writing audio in ./data/audio_label_clip/negative\\negative_74.wav\n"
     ]
    },
    {
     "name": "stderr",
     "output_type": "stream",
     "text": [
      "                                                               \r"
     ]
    },
    {
     "name": "stdout",
     "output_type": "stream",
     "text": [
      "MoviePy - Done.\n",
      "완료됬습니다.\n",
      "file name:dNsVyX8LBhk_1\n",
      "read new file\n",
      "   start   end  label\n",
      "0    3.6  4.98      0\n",
      "3.6 4.98 0\n",
      "MoviePy - Writing audio in ./data/audio_label_clip/negative\\negative_75.wav\n"
     ]
    },
    {
     "name": "stderr",
     "output_type": "stream",
     "text": [
      "                                                               "
     ]
    },
    {
     "name": "stdout",
     "output_type": "stream",
     "text": [
      "MoviePy - Done.\n",
      "완료됬습니다.\n",
      "file name:dNsVyX8LBhk_10\n",
      "read new file\n",
      "   start    end  label\n",
      "0  29.38  29.94      0\n",
      "29.38 29.94 0\n"
     ]
    },
    {
     "name": "stderr",
     "output_type": "stream",
     "text": [
      "\r"
     ]
    },
    {
     "name": "stdout",
     "output_type": "stream",
     "text": [
      "MoviePy - Writing audio in ./data/audio_label_clip/negative\\negative_76.wav\n"
     ]
    },
    {
     "name": "stderr",
     "output_type": "stream",
     "text": [
      "                                                               "
     ]
    },
    {
     "name": "stdout",
     "output_type": "stream",
     "text": [
      "MoviePy - Done.\n",
      "완료됬습니다.\n",
      "file name:dNsVyX8LBhk_11\n",
      "read new file\n",
      "    start    end  label\n",
      "0  30.199  32.88      0\n",
      "30.199 32.88 0\n"
     ]
    },
    {
     "name": "stderr",
     "output_type": "stream",
     "text": [
      "\r"
     ]
    },
    {
     "name": "stdout",
     "output_type": "stream",
     "text": [
      "MoviePy - Writing audio in ./data/audio_label_clip/negative\\negative_77.wav\n"
     ]
    },
    {
     "name": "stderr",
     "output_type": "stream",
     "text": [
      "                                                               \r"
     ]
    },
    {
     "name": "stdout",
     "output_type": "stream",
     "text": [
      "MoviePy - Done.\n",
      "완료됬습니다.\n",
      "file name:dNsVyX8LBhk_12\n",
      "read new file\n",
      "   start    end  label\n",
      "0   33.7  33.94     12\n",
      "33.7 33.94 12\n",
      "MoviePy - Writing audio in ./data/audio_label_clip/activate\\sha_4.wav\n"
     ]
    },
    {
     "name": "stderr",
     "output_type": "stream",
     "text": [
      "                                                              "
     ]
    },
    {
     "name": "stdout",
     "output_type": "stream",
     "text": [
      "MoviePy - Done."
     ]
    },
    {
     "name": "stderr",
     "output_type": "stream",
     "text": [
      "\r"
     ]
    },
    {
     "name": "stdout",
     "output_type": "stream",
     "text": [
      "\n",
      "완료됬습니다.\n",
      "file name:dNsVyX8LBhk_13\n",
      "read new file\n",
      "   start    end  label\n",
      "0  35.03  38.11      0\n",
      "35.03 38.11 0\n",
      "MoviePy - Writing audio in ./data/audio_label_clip/negative\\negative_78.wav\n"
     ]
    },
    {
     "name": "stderr",
     "output_type": "stream",
     "text": [
      "                                                               \r"
     ]
    },
    {
     "name": "stdout",
     "output_type": "stream",
     "text": [
      "MoviePy - Done.\n",
      "완료됬습니다.\n",
      "file name:dNsVyX8LBhk_14\n",
      "read new file\n",
      "   start    end  label\n",
      "0  41.37  41.82     12\n",
      "41.37 41.82 12\n",
      "MoviePy - Writing audio in ./data/audio_label_clip/activate\\sha_5.wav\n"
     ]
    },
    {
     "name": "stderr",
     "output_type": "stream",
     "text": [
      "                                                               "
     ]
    },
    {
     "name": "stdout",
     "output_type": "stream",
     "text": [
      "MoviePy - Done."
     ]
    },
    {
     "name": "stderr",
     "output_type": "stream",
     "text": [
      "\r"
     ]
    },
    {
     "name": "stdout",
     "output_type": "stream",
     "text": [
      "\n",
      "완료됬습니다.\n",
      "file name:dNsVyX8LBhk_15\n",
      "read new file\n",
      "   start    end  label\n",
      "0  43.07  44.15      0\n",
      "43.07 44.15 0\n",
      "MoviePy - Writing audio in ./data/audio_label_clip/negative\\negative_79.wav\n"
     ]
    },
    {
     "name": "stderr",
     "output_type": "stream",
     "text": [
      "                                                               \r"
     ]
    },
    {
     "name": "stdout",
     "output_type": "stream",
     "text": [
      "MoviePy - Done.\n",
      "완료됬습니다.\n",
      "file name:dNsVyX8LBhk_16\n",
      "read new file\n",
      "   start    end  label\n",
      "0  45.25  45.51     12\n",
      "45.25 45.51 12\n",
      "MoviePy - Writing audio in ./data/audio_label_clip/activate\\sha_6.wav\n"
     ]
    },
    {
     "name": "stderr",
     "output_type": "stream",
     "text": [
      "                                                              \r"
     ]
    },
    {
     "name": "stdout",
     "output_type": "stream",
     "text": [
      "MoviePy - Done.\n",
      "완료됬습니다.\n",
      "file name:dNsVyX8LBhk_17\n",
      "read new file\n",
      "   start    end  label\n",
      "0  49.57  49.89     12\n",
      "49.57 49.89 12\n",
      "MoviePy - Writing audio in ./data/audio_label_clip/activate\\sha_7.wav\n"
     ]
    },
    {
     "name": "stderr",
     "output_type": "stream",
     "text": [
      "                                                              \r"
     ]
    },
    {
     "name": "stdout",
     "output_type": "stream",
     "text": [
      "MoviePy - Done.\n",
      "완료됬습니다.\n",
      "file name:dNsVyX8LBhk_18\n",
      "read new file\n",
      "   start   end  label\n",
      "0  50.85  52.7      0\n",
      "50.85 52.7 0\n",
      "MoviePy - Writing audio in ./data/audio_label_clip/negative\\negative_80.wav\n"
     ]
    },
    {
     "name": "stderr",
     "output_type": "stream",
     "text": [
      "                                                               \r"
     ]
    },
    {
     "name": "stdout",
     "output_type": "stream",
     "text": [
      "MoviePy - Done.\n",
      "완료됬습니다.\n",
      "file name:dNsVyX8LBhk_19\n",
      "read new file\n",
      "   start    end  label\n",
      "0   53.4  56.64      0\n",
      "53.4 56.64 0\n",
      "MoviePy - Writing audio in ./data/audio_label_clip/negative\\negative_81.wav\n"
     ]
    },
    {
     "name": "stderr",
     "output_type": "stream",
     "text": [
      "                                                               \r"
     ]
    },
    {
     "name": "stdout",
     "output_type": "stream",
     "text": [
      "MoviePy - Done.\n",
      "완료됬습니다.\n",
      "file name:dNsVyX8LBhk_2\n",
      "read new file\n",
      "   start   end  label\n",
      "0   5.29  5.79     17\n",
      "5.29 5.79 17\n",
      "MoviePy - Writing audio in ./data/audio_label_clip/activate\\gae_8.wav\n"
     ]
    },
    {
     "name": "stderr",
     "output_type": "stream",
     "text": [
      "                                                               "
     ]
    },
    {
     "name": "stdout",
     "output_type": "stream",
     "text": [
      "MoviePy - Done.\n",
      "완료됬습니다.\n",
      "file name:dNsVyX8LBhk_3\n",
      "read new file\n",
      "   start   end  label\n",
      "0   7.13  7.55     10\n",
      "7.13 7.55 10\n"
     ]
    },
    {
     "name": "stderr",
     "output_type": "stream",
     "text": [
      "\r"
     ]
    },
    {
     "name": "stdout",
     "output_type": "stream",
     "text": [
      "MoviePy - Writing audio in ./data/audio_label_clip/activate\\shi_25.wav\n"
     ]
    },
    {
     "name": "stderr",
     "output_type": "stream",
     "text": [
      "                                                               "
     ]
    },
    {
     "name": "stdout",
     "output_type": "stream",
     "text": [
      "MoviePy - Done.\n",
      "완료됬습니다.\n",
      "file name:dNsVyX8LBhk_4\n",
      "read new file\n",
      "   start    end  label\n",
      "0   9.72  10.11      0\n",
      "9.72 10.11 0\n"
     ]
    },
    {
     "name": "stderr",
     "output_type": "stream",
     "text": [
      "\r"
     ]
    },
    {
     "name": "stdout",
     "output_type": "stream",
     "text": [
      "MoviePy - Writing audio in ./data/audio_label_clip/negative\\negative_82.wav\n"
     ]
    },
    {
     "name": "stderr",
     "output_type": "stream",
     "text": [
      "                                                              "
     ]
    },
    {
     "name": "stdout",
     "output_type": "stream",
     "text": [
      "MoviePy - Done.\n",
      "완료됬습니다.\n",
      "file name:dNsVyX8LBhk_5\n",
      "read new file\n",
      "   start    end  label\n",
      "0  10.75  11.03     12\n",
      "10.75 11.03 12\n"
     ]
    },
    {
     "name": "stderr",
     "output_type": "stream",
     "text": [
      "\r"
     ]
    },
    {
     "name": "stdout",
     "output_type": "stream",
     "text": [
      "MoviePy - Writing audio in ./data/audio_label_clip/activate\\sha_8.wav\n"
     ]
    },
    {
     "name": "stderr",
     "output_type": "stream",
     "text": [
      "                                                              "
     ]
    },
    {
     "name": "stdout",
     "output_type": "stream",
     "text": [
      "MoviePy - Done.\n",
      "완료됬습니다.\n",
      "file name:dNsVyX8LBhk_6\n",
      "read new file\n",
      "   start    end  label\n",
      "0  12.81  14.48      0\n",
      "12.81 14.48 0\n"
     ]
    },
    {
     "name": "stderr",
     "output_type": "stream",
     "text": [
      "\r"
     ]
    },
    {
     "name": "stdout",
     "output_type": "stream",
     "text": [
      "MoviePy - Writing audio in ./data/audio_label_clip/negative\\negative_83.wav\n"
     ]
    },
    {
     "name": "stderr",
     "output_type": "stream",
     "text": [
      "                                                               "
     ]
    },
    {
     "name": "stdout",
     "output_type": "stream",
     "text": [
      "MoviePy - Done.\n",
      "완료됬습니다.\n",
      "file name:dNsVyX8LBhk_7\n",
      "read new file\n",
      "   start   end  label\n",
      "0  18.25  18.5     12\n",
      "18.25 18.5 12\n"
     ]
    },
    {
     "name": "stderr",
     "output_type": "stream",
     "text": [
      "\r"
     ]
    },
    {
     "name": "stdout",
     "output_type": "stream",
     "text": [
      "MoviePy - Writing audio in ./data/audio_label_clip/activate\\sha_9.wav\n"
     ]
    },
    {
     "name": "stderr",
     "output_type": "stream",
     "text": [
      "                                                              "
     ]
    },
    {
     "name": "stdout",
     "output_type": "stream",
     "text": [
      "MoviePy - Done.\n",
      "완료됬습니다.\n",
      "file name:dNsVyX8LBhk_8\n",
      "read new file\n",
      "   start     end  label\n",
      "0   20.2  24.359      0\n",
      "20.2 24.359 0\n"
     ]
    },
    {
     "name": "stderr",
     "output_type": "stream",
     "text": [
      "\r"
     ]
    },
    {
     "name": "stdout",
     "output_type": "stream",
     "text": [
      "MoviePy - Writing audio in ./data/audio_label_clip/negative\\negative_84.wav\n"
     ]
    },
    {
     "name": "stderr",
     "output_type": "stream",
     "text": [
      "                                                               \r"
     ]
    },
    {
     "name": "stdout",
     "output_type": "stream",
     "text": [
      "MoviePy - Done.\n",
      "완료됬습니다.\n",
      "file name:dNsVyX8LBhk_9\n",
      "read new file\n",
      "   start    end  label\n",
      "0   27.0  27.24     12\n",
      "27.0 27.24 12\n",
      "MoviePy - Writing audio in ./data/audio_label_clip/activate\\sha_10.wav\n"
     ]
    },
    {
     "name": "stderr",
     "output_type": "stream",
     "text": [
      "                                                              "
     ]
    },
    {
     "name": "stdout",
     "output_type": "stream",
     "text": [
      "MoviePy - Done.\n",
      "완료됬습니다.\n",
      "file name:dof8M5K11Ls_0\n",
      "read new file\n",
      "   start   end  label\n",
      "0   0.39  6.13      0\n",
      "0.39 6.13 0\n"
     ]
    },
    {
     "name": "stderr",
     "output_type": "stream",
     "text": [
      "\r"
     ]
    },
    {
     "name": "stdout",
     "output_type": "stream",
     "text": [
      "MoviePy - Writing audio in ./data/audio_label_clip/negative\\negative_85.wav\n"
     ]
    },
    {
     "name": "stderr",
     "output_type": "stream",
     "text": [
      "                                                                \r"
     ]
    },
    {
     "name": "stdout",
     "output_type": "stream",
     "text": [
      "MoviePy - Done.\n",
      "완료됬습니다.\n",
      "file name:dof8M5K11Ls_1\n",
      "read new file\n",
      "   start   end  label\n",
      "0    6.6  6.88     12\n",
      "6.6 6.88 12\n",
      "MoviePy - Writing audio in ./data/audio_label_clip/activate\\sha_11.wav\n"
     ]
    },
    {
     "name": "stderr",
     "output_type": "stream",
     "text": [
      "                                                              "
     ]
    },
    {
     "name": "stdout",
     "output_type": "stream",
     "text": [
      "MoviePy - Done.\n",
      "완료됬습니다.\n",
      "file name:dof8M5K11Ls_2\n",
      "read new file\n",
      "   start    end  label\n",
      "0   8.81  17.85      0\n",
      "8.81 17.85 0\n"
     ]
    },
    {
     "name": "stderr",
     "output_type": "stream",
     "text": [
      "\r"
     ]
    },
    {
     "name": "stdout",
     "output_type": "stream",
     "text": [
      "MoviePy - Writing audio in ./data/audio_label_clip/negative\\negative_86.wav\n"
     ]
    },
    {
     "name": "stderr",
     "output_type": "stream",
     "text": [
      "                                                                   \r"
     ]
    },
    {
     "name": "stdout",
     "output_type": "stream",
     "text": [
      "MoviePy - Done.\n",
      "완료됬습니다.\n",
      "file name:dof8M5K11Ls_3\n",
      "read new file\n",
      "   start    end  label\n",
      "0  18.08  19.55      0\n",
      "18.08 19.55 0\n",
      "MoviePy - Writing audio in ./data/audio_label_clip/negative\\negative_87.wav\n"
     ]
    },
    {
     "name": "stderr",
     "output_type": "stream",
     "text": [
      "                                                               "
     ]
    },
    {
     "name": "stdout",
     "output_type": "stream",
     "text": [
      "MoviePy - Done.\n",
      "완료됬습니다.\n",
      "file name:dof8M5K11Ls_4\n",
      "read new file\n"
     ]
    },
    {
     "name": "stderr",
     "output_type": "stream",
     "text": [
      "\r"
     ]
    },
    {
     "name": "stdout",
     "output_type": "stream",
     "text": [
      "   start    end  label\n",
      "0  19.65  25.71      0\n",
      "19.65 25.71 0\n",
      "MoviePy - Writing audio in ./data/audio_label_clip/negative\\negative_88.wav\n"
     ]
    },
    {
     "name": "stderr",
     "output_type": "stream",
     "text": [
      "                                                                   \r"
     ]
    },
    {
     "name": "stdout",
     "output_type": "stream",
     "text": [
      "MoviePy - Done.\n",
      "완료됬습니다.\n",
      "file name:dof8M5K11Ls_5\n",
      "read new file\n",
      "   start    end  label\n",
      "0  27.52  30.72      0\n",
      "27.52 30.72 0\n",
      "MoviePy - Writing audio in ./data/audio_label_clip/negative\\negative_89.wav\n"
     ]
    },
    {
     "name": "stderr",
     "output_type": "stream",
     "text": [
      "                                                               \r"
     ]
    },
    {
     "name": "stdout",
     "output_type": "stream",
     "text": [
      "MoviePy - Done.\n",
      "완료됬습니다.\n",
      "file name:dof8M5K11Ls_6\n",
      "read new file\n",
      "    start    end  label\n",
      "0  32.529  34.53      0\n",
      "32.529 34.53 0\n",
      "MoviePy - Writing audio in ./data/audio_label_clip/negative\\negative_90.wav\n"
     ]
    },
    {
     "name": "stderr",
     "output_type": "stream",
     "text": [
      "                                                               \r"
     ]
    },
    {
     "name": "stdout",
     "output_type": "stream",
     "text": [
      "MoviePy - Done.\n",
      "완료됬습니다.\n",
      "file name:dof8M5K11Ls_7\n",
      "read new file\n",
      "   start    end  label\n",
      "0  37.13  37.86      0\n",
      "37.13 37.86 0\n",
      "MoviePy - Writing audio in ./data/audio_label_clip/negative\\negative_91.wav\n"
     ]
    },
    {
     "name": "stderr",
     "output_type": "stream",
     "text": [
      "                                                               \r"
     ]
    },
    {
     "name": "stdout",
     "output_type": "stream",
     "text": [
      "MoviePy - Done.\n",
      "완료됬습니다.\n",
      "file name:dof8M5K11Ls_8\n",
      "read new file\n",
      "   start     end  label\n",
      "0  40.43  44.449      0\n",
      "40.43 44.449 0\n",
      "MoviePy - Writing audio in ./data/audio_label_clip/negative\\negative_92.wav\n"
     ]
    },
    {
     "name": "stderr",
     "output_type": "stream",
     "text": [
      "                                                               \r"
     ]
    },
    {
     "name": "stdout",
     "output_type": "stream",
     "text": [
      "MoviePy - Done.\n",
      "완료됬습니다.\n",
      "file name:dof8M5K11Ls_9\n",
      "read new file\n",
      "    start    end  label\n",
      "0  44.449  49.28      0\n",
      "44.449 49.28 0\n",
      "MoviePy - Writing audio in ./data/audio_label_clip/negative\\negative_93.wav\n"
     ]
    },
    {
     "name": "stderr",
     "output_type": "stream",
     "text": [
      "                                                                \r"
     ]
    },
    {
     "name": "stdout",
     "output_type": "stream",
     "text": [
      "MoviePy - Done.\n",
      "완료됬습니다.\n",
      "file name:fIyVx_OmugI_0\n",
      "read new file\n",
      "   start   end  label\n",
      "0   0.39  1.41     17\n",
      "0.39 1.41 17\n",
      "MoviePy - Writing audio in ./data/audio_label_clip/activate\\gae_9.wav\n"
     ]
    },
    {
     "name": "stderr",
     "output_type": "stream",
     "text": [
      "                                                               "
     ]
    },
    {
     "name": "stdout",
     "output_type": "stream",
     "text": [
      "MoviePy - Done.\n",
      "완료됬습니다.\n",
      "file name:fIyVx_OmugI_1\n",
      "read new file\n",
      "   start  end  label\n",
      "0   2.35  6.7      0\n",
      "2.35 6.7 0\n"
     ]
    },
    {
     "name": "stderr",
     "output_type": "stream",
     "text": [
      "\r"
     ]
    },
    {
     "name": "stdout",
     "output_type": "stream",
     "text": [
      "MoviePy - Writing audio in ./data/audio_label_clip/negative\\negative_94.wav\n"
     ]
    },
    {
     "name": "stderr",
     "output_type": "stream",
     "text": [
      "                                                               \r"
     ]
    },
    {
     "name": "stdout",
     "output_type": "stream",
     "text": [
      "MoviePy - Done.\n",
      "완료됬습니다.\n",
      "file name:fIyVx_OmugI_10\n",
      "read new file\n",
      "   start    end  label\n",
      "0  51.49  54.07      0\n",
      "51.49 54.07 0\n",
      "MoviePy - Writing audio in ./data/audio_label_clip/negative\\negative_95.wav\n"
     ]
    },
    {
     "name": "stderr",
     "output_type": "stream",
     "text": [
      "                                                               \r"
     ]
    },
    {
     "name": "stdout",
     "output_type": "stream",
     "text": [
      "MoviePy - Done.\n",
      "완료됬습니다.\n",
      "file name:fIyVx_OmugI_2\n",
      "read new file\n",
      "   start   end  label\n",
      "0   6.76  8.94      0\n",
      "6.76 8.94 0\n",
      "MoviePy - Writing audio in ./data/audio_label_clip/negative\\negative_96.wav\n"
     ]
    },
    {
     "name": "stderr",
     "output_type": "stream",
     "text": [
      "                                                               "
     ]
    },
    {
     "name": "stdout",
     "output_type": "stream",
     "text": [
      "MoviePy - Done.\n",
      "완료됬습니다.\n",
      "file name:fIyVx_OmugI_3\n",
      "read new file\n",
      "   start    end  label\n",
      "0  12.11  12.47     10\n",
      "12.11 12.47 10\n"
     ]
    },
    {
     "name": "stderr",
     "output_type": "stream",
     "text": [
      "\r"
     ]
    },
    {
     "name": "stdout",
     "output_type": "stream",
     "text": [
      "MoviePy - Writing audio in ./data/audio_label_clip/activate\\shi_26.wav\n"
     ]
    },
    {
     "name": "stderr",
     "output_type": "stream",
     "text": [
      "                                                              "
     ]
    },
    {
     "name": "stdout",
     "output_type": "stream",
     "text": [
      "MoviePy - Done.\n",
      "완료됬습니다.\n",
      "file name:fIyVx_OmugI_4\n",
      "read new file\n",
      "   start    end  label\n",
      "0  18.48  20.88      0\n",
      "18.48 20.88 0\n"
     ]
    },
    {
     "name": "stderr",
     "output_type": "stream",
     "text": [
      "\r"
     ]
    },
    {
     "name": "stdout",
     "output_type": "stream",
     "text": [
      "MoviePy - Writing audio in ./data/audio_label_clip/negative\\negative_97.wav\n"
     ]
    },
    {
     "name": "stderr",
     "output_type": "stream",
     "text": [
      "                                                               "
     ]
    },
    {
     "name": "stdout",
     "output_type": "stream",
     "text": [
      "MoviePy - Done.\n",
      "완료됬습니다.\n",
      "file name:fIyVx_OmugI_5\n",
      "read new file\n",
      "   start   end  label\n",
      "0   23.1  25.5      0\n",
      "23.1 25.5 0\n"
     ]
    },
    {
     "name": "stderr",
     "output_type": "stream",
     "text": [
      "\r"
     ]
    },
    {
     "name": "stdout",
     "output_type": "stream",
     "text": [
      "MoviePy - Writing audio in ./data/audio_label_clip/negative\\negative_98.wav\n"
     ]
    },
    {
     "name": "stderr",
     "output_type": "stream",
     "text": [
      "                                                               \r"
     ]
    },
    {
     "name": "stdout",
     "output_type": "stream",
     "text": [
      "MoviePy - Done.\n",
      "완료됬습니다.\n",
      "file name:fIyVx_OmugI_6\n",
      "read new file\n",
      "   start    end  label\n",
      "0   25.5  30.36      0\n",
      "25.5 30.36 0\n",
      "MoviePy - Writing audio in ./data/audio_label_clip/negative\\negative_99.wav\n"
     ]
    },
    {
     "name": "stderr",
     "output_type": "stream",
     "text": [
      "                                                                \r"
     ]
    },
    {
     "name": "stdout",
     "output_type": "stream",
     "text": [
      "MoviePy - Done.\n",
      "완료됬습니다.\n",
      "file name:fIyVx_OmugI_7\n",
      "read new file\n",
      "   start    end  label\n",
      "0  33.95  34.69     10\n",
      "33.95 34.69 10\n",
      "MoviePy - Writing audio in ./data/audio_label_clip/activate\\shi_27.wav\n"
     ]
    },
    {
     "name": "stderr",
     "output_type": "stream",
     "text": [
      "                                                               \r"
     ]
    },
    {
     "name": "stdout",
     "output_type": "stream",
     "text": [
      "MoviePy - Done.\n",
      "완료됬습니다.\n",
      "file name:fIyVx_OmugI_8\n",
      "read new file\n",
      "   start    end  label\n",
      "0  37.21  37.68     18\n",
      "37.21 37.68 18\n",
      "MoviePy - Writing audio in ./data/audio_label_clip/activate\\jot_1.wav\n"
     ]
    },
    {
     "name": "stderr",
     "output_type": "stream",
     "text": [
      "                                                               \r"
     ]
    },
    {
     "name": "stdout",
     "output_type": "stream",
     "text": [
      "MoviePy - Done.\n",
      "완료됬습니다.\n",
      "file name:fIyVx_OmugI_9\n",
      "read new file\n",
      "   start    end  label\n",
      "0   44.0  44.99     10\n",
      "44.0 44.99 10\n",
      "MoviePy - Writing audio in ./data/audio_label_clip/activate\\shi_28.wav\n"
     ]
    },
    {
     "name": "stderr",
     "output_type": "stream",
     "text": [
      "                                                               \r"
     ]
    },
    {
     "name": "stdout",
     "output_type": "stream",
     "text": [
      "MoviePy - Done.\n",
      "완료됬습니다.\n",
      "file name:gFJ-E3e_NAY_0\n",
      "read new file\n",
      "   start   end  label\n",
      "0    3.6  6.15      0\n",
      "3.6 6.15 0\n",
      "MoviePy - Writing audio in ./data/audio_label_clip/negative\\negative_100.wav\n"
     ]
    },
    {
     "name": "stderr",
     "output_type": "stream",
     "text": [
      "                                                               \r"
     ]
    },
    {
     "name": "stdout",
     "output_type": "stream",
     "text": [
      "MoviePy - Done.\n",
      "완료됬습니다.\n",
      "file name:gFJ-E3e_NAY_1\n",
      "read new file\n",
      "   start   end  label\n",
      "0   7.51  9.69      0\n",
      "7.51 9.69 0\n",
      "MoviePy - Writing audio in ./data/audio_label_clip/negative\\negative_101.wav\n"
     ]
    },
    {
     "name": "stderr",
     "output_type": "stream",
     "text": [
      "                                                               "
     ]
    },
    {
     "name": "stdout",
     "output_type": "stream",
     "text": [
      "MoviePy - Done."
     ]
    },
    {
     "name": "stderr",
     "output_type": "stream",
     "text": [
      "\r"
     ]
    },
    {
     "name": "stdout",
     "output_type": "stream",
     "text": [
      "\n",
      "완료됬습니다.\n",
      "file name:gFJ-E3e_NAY_2\n",
      "read new file\n",
      "   start    end  label\n",
      "0  10.65  11.34     12\n",
      "10.65 11.34 12\n",
      "MoviePy - Writing audio in ./data/audio_label_clip/activate\\sha_12.wav\n"
     ]
    },
    {
     "name": "stderr",
     "output_type": "stream",
     "text": [
      "                                                               "
     ]
    },
    {
     "name": "stdout",
     "output_type": "stream",
     "text": [
      "MoviePy - Done.\n",
      "완료됬습니다.\n",
      "file name:gFJ-E3e_NAY_3\n",
      "read new file\n",
      "   start    end  label\n",
      "0  13.24  13.56     12\n",
      "13.24 13.56 12\n"
     ]
    },
    {
     "name": "stderr",
     "output_type": "stream",
     "text": [
      "\r"
     ]
    },
    {
     "name": "stdout",
     "output_type": "stream",
     "text": [
      "MoviePy - Writing audio in ./data/audio_label_clip/activate\\sha_13.wav\n"
     ]
    },
    {
     "name": "stderr",
     "output_type": "stream",
     "text": [
      "                                                              "
     ]
    },
    {
     "name": "stdout",
     "output_type": "stream",
     "text": [
      "MoviePy - Done.\n",
      "완료됬습니다.\n",
      "file name:gFJ-E3e_NAY_4\n",
      "read new file\n",
      "   start    end  label\n",
      "0  14.42  17.33      0\n",
      "14.42 17.33 0\n"
     ]
    },
    {
     "name": "stderr",
     "output_type": "stream",
     "text": [
      "\r"
     ]
    },
    {
     "name": "stdout",
     "output_type": "stream",
     "text": [
      "MoviePy - Writing audio in ./data/audio_label_clip/negative\\negative_102.wav\n"
     ]
    },
    {
     "name": "stderr",
     "output_type": "stream",
     "text": [
      "                                                               \r"
     ]
    },
    {
     "name": "stdout",
     "output_type": "stream",
     "text": [
      "MoviePy - Done.\n",
      "완료됬습니다.\n",
      "file name:gFJ-E3e_NAY_5\n",
      "read new file\n",
      "   start   end  label\n",
      "0  18.98  22.1      0\n",
      "18.98 22.1 0\n",
      "MoviePy - Writing audio in ./data/audio_label_clip/negative\\negative_103.wav\n"
     ]
    },
    {
     "name": "stderr",
     "output_type": "stream",
     "text": [
      "                                                               \r"
     ]
    },
    {
     "name": "stdout",
     "output_type": "stream",
     "text": [
      "MoviePy - Done.\n",
      "완료됬습니다.\n",
      "file name:gFJ-E3e_NAY_6\n",
      "read new file\n",
      "   start    end  label\n",
      "0  24.07  24.75     15\n",
      "24.07 24.75 15\n",
      "MoviePy - Writing audio in ./data/audio_label_clip/activate\\sang_3.wav\n"
     ]
    },
    {
     "name": "stderr",
     "output_type": "stream",
     "text": [
      "                                                               "
     ]
    },
    {
     "name": "stdout",
     "output_type": "stream",
     "text": [
      "MoviePy - Done.\n",
      "완료됬습니다.\n",
      "file name:gFJ-E3e_NAY_7\n",
      "read new file\n",
      "   start    end  label\n",
      "0  26.13  29.46      0\n",
      "26.13 29.46 0\n"
     ]
    },
    {
     "name": "stderr",
     "output_type": "stream",
     "text": [
      "\r"
     ]
    },
    {
     "name": "stdout",
     "output_type": "stream",
     "text": [
      "MoviePy - Writing audio in ./data/audio_label_clip/negative\\negative_104.wav\n"
     ]
    },
    {
     "name": "stderr",
     "output_type": "stream",
     "text": [
      "                                                               \r"
     ]
    },
    {
     "name": "stdout",
     "output_type": "stream",
     "text": [
      "MoviePy - Done.\n",
      "완료됬습니다.\n",
      "file name:gFJ-E3e_NAY_8\n",
      "read new file\n",
      "   start    end  label\n",
      "0  30.11  30.46     12\n",
      "30.11 30.46 12\n",
      "MoviePy - Writing audio in ./data/audio_label_clip/activate\\sha_14.wav\n"
     ]
    },
    {
     "name": "stderr",
     "output_type": "stream",
     "text": [
      "                                                              \r"
     ]
    },
    {
     "name": "stdout",
     "output_type": "stream",
     "text": [
      "MoviePy - Done.\n",
      "완료됬습니다.\n",
      "file name:gFJ-E3e_NAY_9\n",
      "read new file\n",
      "   start    end  label\n",
      "0  33.25  38.34      0\n",
      "33.25 38.34 0\n",
      "MoviePy - Writing audio in ./data/audio_label_clip/negative\\negative_105.wav\n"
     ]
    },
    {
     "name": "stderr",
     "output_type": "stream",
     "text": [
      "                                                                \r"
     ]
    },
    {
     "name": "stdout",
     "output_type": "stream",
     "text": [
      "MoviePy - Done.\n",
      "완료됬습니다.\n",
      "file name:hGDZf125bQc_0\n",
      "read new file\n",
      "   start    end  label\n",
      "0   1.09  3.419      0\n",
      "1.09 3.419 0\n",
      "MoviePy - Writing audio in ./data/audio_label_clip/negative\\negative_106.wav\n"
     ]
    },
    {
     "name": "stderr",
     "output_type": "stream",
     "text": [
      "                                                               "
     ]
    },
    {
     "name": "stdout",
     "output_type": "stream",
     "text": [
      "MoviePy - Done.\n",
      "완료됬습니다.\n",
      "file name:hGDZf125bQc_1\n",
      "read new file\n",
      "   start   end  label\n",
      "0  3.419  4.72      0\n",
      "3.419 4.72 0\n"
     ]
    },
    {
     "name": "stderr",
     "output_type": "stream",
     "text": [
      "\r"
     ]
    },
    {
     "name": "stdout",
     "output_type": "stream",
     "text": [
      "MoviePy - Writing audio in ./data/audio_label_clip/negative\\negative_107.wav\n"
     ]
    },
    {
     "name": "stderr",
     "output_type": "stream",
     "text": [
      "                                                               "
     ]
    },
    {
     "name": "stdout",
     "output_type": "stream",
     "text": [
      "MoviePy - Done.\n",
      "완료됬습니다.\n",
      "file name:hGDZf125bQc_10\n",
      "read new file\n"
     ]
    },
    {
     "name": "stderr",
     "output_type": "stream",
     "text": [
      "\r"
     ]
    },
    {
     "name": "stdout",
     "output_type": "stream",
     "text": [
      "   start    end  label\n",
      "0  26.64  27.27     17\n",
      "26.64 27.27 17\n",
      "MoviePy - Writing audio in ./data/audio_label_clip/activate\\gae_10.wav\n"
     ]
    },
    {
     "name": "stderr",
     "output_type": "stream",
     "text": [
      "                                                               "
     ]
    },
    {
     "name": "stdout",
     "output_type": "stream",
     "text": [
      "MoviePy - Done.\n",
      "완료됬습니다.\n",
      "file name:hGDZf125bQc_11\n",
      "read new file\n",
      "   start    end  label\n",
      "0  29.53  30.43     10\n",
      "29.53 30.43 10\n"
     ]
    },
    {
     "name": "stderr",
     "output_type": "stream",
     "text": [
      "\r"
     ]
    },
    {
     "name": "stdout",
     "output_type": "stream",
     "text": [
      "MoviePy - Writing audio in ./data/audio_label_clip/activate\\shi_29.wav\n"
     ]
    },
    {
     "name": "stderr",
     "output_type": "stream",
     "text": [
      "                                                               \r"
     ]
    },
    {
     "name": "stdout",
     "output_type": "stream",
     "text": [
      "MoviePy - Done.\n",
      "완료됬습니다.\n",
      "file name:hGDZf125bQc_12\n",
      "read new file\n",
      "   start    end  label\n",
      "0   33.2  34.19     10\n",
      "33.2 34.19 10\n",
      "MoviePy - Writing audio in ./data/audio_label_clip/activate\\shi_30.wav\n"
     ]
    },
    {
     "name": "stderr",
     "output_type": "stream",
     "text": [
      "                                                               \r"
     ]
    },
    {
     "name": "stdout",
     "output_type": "stream",
     "text": [
      "MoviePy - Done.\n",
      "완료됬습니다.\n",
      "file name:hGDZf125bQc_13\n",
      "read new file\n",
      "   start    end  label\n",
      "0   34.9  35.58     10\n",
      "34.9 35.58 10\n",
      "MoviePy - Writing audio in ./data/audio_label_clip/activate\\shi_31.wav\n"
     ]
    },
    {
     "name": "stderr",
     "output_type": "stream",
     "text": [
      "                                                               \r"
     ]
    },
    {
     "name": "stdout",
     "output_type": "stream",
     "text": [
      "MoviePy - Done.\n",
      "완료됬습니다.\n",
      "file name:hGDZf125bQc_14\n",
      "read new file\n",
      "   start    end  label\n",
      "0  38.09  38.64     10\n",
      "38.09 38.64 10\n",
      "MoviePy - Writing audio in ./data/audio_label_clip/activate\\shi_32.wav\n"
     ]
    },
    {
     "name": "stderr",
     "output_type": "stream",
     "text": [
      "                                                               \r"
     ]
    },
    {
     "name": "stdout",
     "output_type": "stream",
     "text": [
      "MoviePy - Done.\n",
      "완료됬습니다.\n",
      "file name:hGDZf125bQc_15\n",
      "read new file\n",
      "   start    end  label\n",
      "0  38.64  39.27     17\n",
      "38.64 39.27 17\n",
      "MoviePy - Writing audio in ./data/audio_label_clip/activate\\gae_11.wav\n"
     ]
    },
    {
     "name": "stderr",
     "output_type": "stream",
     "text": [
      "                                                               \r"
     ]
    },
    {
     "name": "stdout",
     "output_type": "stream",
     "text": [
      "MoviePy - Done.\n",
      "완료됬습니다.\n",
      "file name:hGDZf125bQc_16\n",
      "read new file\n",
      "   start    end  label\n",
      "0  52.76  55.62      0\n",
      "52.76 55.62 0\n",
      "MoviePy - Writing audio in ./data/audio_label_clip/negative\\negative_108.wav\n"
     ]
    },
    {
     "name": "stderr",
     "output_type": "stream",
     "text": [
      "                                                               \r"
     ]
    },
    {
     "name": "stdout",
     "output_type": "stream",
     "text": [
      "MoviePy - Done.\n",
      "완료됬습니다.\n",
      "file name:hGDZf125bQc_17\n",
      "read new file\n",
      "   start   end  label\n",
      "0  55.62  58.2      0\n",
      "55.62 58.2 0\n",
      "MoviePy - Writing audio in ./data/audio_label_clip/negative\\negative_109.wav\n"
     ]
    },
    {
     "name": "stderr",
     "output_type": "stream",
     "text": [
      "                                                               \r"
     ]
    },
    {
     "name": "stdout",
     "output_type": "stream",
     "text": [
      "MoviePy - Done.\n",
      "완료됬습니다.\n",
      "file name:hGDZf125bQc_2\n",
      "read new file\n",
      "   start   end  label\n",
      "0   7.98  8.85     17\n",
      "7.98 8.85 17\n",
      "MoviePy - Writing audio in ./data/audio_label_clip/activate\\gae_12.wav\n"
     ]
    },
    {
     "name": "stderr",
     "output_type": "stream",
     "text": [
      "                                                               "
     ]
    },
    {
     "name": "stdout",
     "output_type": "stream",
     "text": [
      "MoviePy - Done.\n",
      "완료됬습니다.\n",
      "file name:hGDZf125bQc_3\n",
      "read new file\n",
      "   start    end  label\n",
      "0   9.45  10.21     10\n",
      "9.45 10.21 10\n"
     ]
    },
    {
     "name": "stderr",
     "output_type": "stream",
     "text": [
      "\r"
     ]
    },
    {
     "name": "stdout",
     "output_type": "stream",
     "text": [
      "MoviePy - Writing audio in ./data/audio_label_clip/activate\\shi_33.wav\n"
     ]
    },
    {
     "name": "stderr",
     "output_type": "stream",
     "text": [
      "                                                               \r"
     ]
    },
    {
     "name": "stdout",
     "output_type": "stream",
     "text": [
      "MoviePy - Done.\n",
      "완료됬습니다.\n",
      "file name:hGDZf125bQc_4\n",
      "read new file\n",
      "   start    end  label\n",
      "0  11.32  12.21     10\n",
      "11.32 12.21 10\n",
      "MoviePy - Writing audio in ./data/audio_label_clip/activate\\shi_34.wav\n"
     ]
    },
    {
     "name": "stderr",
     "output_type": "stream",
     "text": [
      "                                                               "
     ]
    },
    {
     "name": "stdout",
     "output_type": "stream",
     "text": [
      "MoviePy - Done.\n",
      "완료됬습니다.\n",
      "file name:hGDZf125bQc_5\n",
      "read new file\n",
      "   start    end  label\n",
      "0  13.91  14.82     10\n",
      "13.91 14.82 10\n"
     ]
    },
    {
     "name": "stderr",
     "output_type": "stream",
     "text": [
      "\r"
     ]
    },
    {
     "name": "stdout",
     "output_type": "stream",
     "text": [
      "MoviePy - Writing audio in ./data/audio_label_clip/activate\\shi_35.wav\n"
     ]
    },
    {
     "name": "stderr",
     "output_type": "stream",
     "text": [
      "                                                               "
     ]
    },
    {
     "name": "stdout",
     "output_type": "stream",
     "text": [
      "MoviePy - Done.\n",
      "완료됬습니다.\n",
      "file name:hGDZf125bQc_6\n",
      "read new file\n",
      "   start    end  label\n",
      "0  15.61  16.45     10\n",
      "15.61 16.45 10\n"
     ]
    },
    {
     "name": "stderr",
     "output_type": "stream",
     "text": [
      "\r"
     ]
    },
    {
     "name": "stdout",
     "output_type": "stream",
     "text": [
      "MoviePy - Writing audio in ./data/audio_label_clip/activate\\shi_36.wav\n"
     ]
    },
    {
     "name": "stderr",
     "output_type": "stream",
     "text": [
      "                                                               "
     ]
    },
    {
     "name": "stdout",
     "output_type": "stream",
     "text": [
      "MoviePy - Done.\n",
      "완료됬습니다.\n",
      "file name:hGDZf125bQc_7\n",
      "read new file\n",
      "   start    end  label\n",
      "0  18.12  19.13     17\n",
      "18.12 19.13 17\n"
     ]
    },
    {
     "name": "stderr",
     "output_type": "stream",
     "text": [
      "\r"
     ]
    },
    {
     "name": "stdout",
     "output_type": "stream",
     "text": [
      "MoviePy - Writing audio in ./data/audio_label_clip/activate\\gae_13.wav\n"
     ]
    },
    {
     "name": "stderr",
     "output_type": "stream",
     "text": [
      "                                                               "
     ]
    },
    {
     "name": "stdout",
     "output_type": "stream",
     "text": [
      "MoviePy - Done.\n",
      "완료됬습니다.\n",
      "file name:hGDZf125bQc_8\n",
      "read new file\n",
      "   start    end  label\n",
      "0  21.12  22.31     10\n",
      "21.12 22.31 10\n"
     ]
    },
    {
     "name": "stderr",
     "output_type": "stream",
     "text": [
      "\r"
     ]
    },
    {
     "name": "stdout",
     "output_type": "stream",
     "text": [
      "MoviePy - Writing audio in ./data/audio_label_clip/activate\\shi_37.wav\n"
     ]
    },
    {
     "name": "stderr",
     "output_type": "stream",
     "text": [
      "                                                               "
     ]
    },
    {
     "name": "stdout",
     "output_type": "stream",
     "text": [
      "MoviePy - Done.\n",
      "완료됬습니다.\n",
      "file name:hGDZf125bQc_9\n",
      "read new file\n",
      "   start    end  label\n",
      "0  23.72  24.73     10\n",
      "23.72 24.73 10\n"
     ]
    },
    {
     "name": "stderr",
     "output_type": "stream",
     "text": [
      "\r"
     ]
    },
    {
     "name": "stdout",
     "output_type": "stream",
     "text": [
      "MoviePy - Writing audio in ./data/audio_label_clip/activate\\shi_38.wav\n"
     ]
    },
    {
     "name": "stderr",
     "output_type": "stream",
     "text": [
      "                                                               \r"
     ]
    },
    {
     "name": "stdout",
     "output_type": "stream",
     "text": [
      "MoviePy - Done.\n",
      "완료됬습니다.\n",
      "file name:hLgF4_J0N_s_0\n",
      "read new file\n",
      "   start     end  label\n",
      "0   0.76  480.62      9\n",
      "0.76 480.62 9\n",
      "MoviePy - Writing audio in ./data/audio_label_clip/background\\background_0.wav\n"
     ]
    },
    {
     "name": "stderr",
     "output_type": "stream",
     "text": [
      "                                                                        \r"
     ]
    },
    {
     "name": "stdout",
     "output_type": "stream",
     "text": [
      "MoviePy - Done.\n",
      "완료됬습니다.\n",
      "file name:hv8C40AA64M_0\n",
      "read new file\n",
      "   start   end  label\n",
      "0   0.66  1.01     10\n",
      "0.66 1.01 10\n",
      "MoviePy - Writing audio in ./data/audio_label_clip/activate\\shi_39.wav\n"
     ]
    },
    {
     "name": "stderr",
     "output_type": "stream",
     "text": [
      "                                                              "
     ]
    },
    {
     "name": "stdout",
     "output_type": "stream",
     "text": [
      "MoviePy - Done.\n",
      "완료됬습니다.\n",
      "file name:hv8C40AA64M_1\n",
      "read new file\n",
      "   start   end  label\n",
      "0   4.52  4.89     10\n",
      "4.52 4.89 10\n"
     ]
    },
    {
     "name": "stderr",
     "output_type": "stream",
     "text": [
      "\r"
     ]
    },
    {
     "name": "stdout",
     "output_type": "stream",
     "text": [
      "MoviePy - Writing audio in ./data/audio_label_clip/activate\\shi_40.wav\n"
     ]
    },
    {
     "name": "stderr",
     "output_type": "stream",
     "text": [
      "                                                              "
     ]
    },
    {
     "name": "stdout",
     "output_type": "stream",
     "text": [
      "MoviePy - Done.\n",
      "완료됬습니다.\n",
      "file name:hv8C40AA64M_10\n",
      "read new file\n",
      "    start   end  label\n",
      "0  30.859  34.2      0\n",
      "30.859 34.2 0\n"
     ]
    },
    {
     "name": "stderr",
     "output_type": "stream",
     "text": [
      "\r"
     ]
    },
    {
     "name": "stdout",
     "output_type": "stream",
     "text": [
      "MoviePy - Writing audio in ./data/audio_label_clip/negative\\negative_110.wav\n"
     ]
    },
    {
     "name": "stderr",
     "output_type": "stream",
     "text": [
      "                                                               \r"
     ]
    },
    {
     "name": "stdout",
     "output_type": "stream",
     "text": [
      "MoviePy - Done.\n",
      "완료됬습니다.\n",
      "file name:hv8C40AA64M_11\n",
      "read new file\n",
      "   start    end  label\n",
      "0   34.2  35.92      0\n",
      "34.2 35.92 0\n",
      "MoviePy - Writing audio in ./data/audio_label_clip/negative\\negative_111.wav\n"
     ]
    },
    {
     "name": "stderr",
     "output_type": "stream",
     "text": [
      "                                                               \r"
     ]
    },
    {
     "name": "stdout",
     "output_type": "stream",
     "text": [
      "MoviePy - Done.\n",
      "완료됬습니다.\n",
      "file name:hv8C40AA64M_2\n",
      "read new file\n",
      "   start   end  label\n",
      "0   5.76  6.74      8\n",
      "5.76 6.74 8\n",
      "file name:hv8C40AA64M_3\n",
      "read new file\n",
      "   start   end  label\n",
      "0   8.64  9.49     10\n",
      "8.64 9.49 10\n",
      "MoviePy - Writing audio in ./data/audio_label_clip/activate\\shi_41.wav\n"
     ]
    },
    {
     "name": "stderr",
     "output_type": "stream",
     "text": [
      "                                                               "
     ]
    },
    {
     "name": "stdout",
     "output_type": "stream",
     "text": [
      "MoviePy - Done.\n",
      "완료됬습니다.\n",
      "file name:hv8C40AA64M_4\n",
      "read new file\n",
      "   start    end  label\n",
      "0  15.15  16.04     10\n",
      "15.15 16.04 10\n"
     ]
    },
    {
     "name": "stderr",
     "output_type": "stream",
     "text": [
      "\r"
     ]
    },
    {
     "name": "stdout",
     "output_type": "stream",
     "text": [
      "MoviePy - Writing audio in ./data/audio_label_clip/activate\\shi_42.wav\n"
     ]
    },
    {
     "name": "stderr",
     "output_type": "stream",
     "text": [
      "                                                               "
     ]
    },
    {
     "name": "stdout",
     "output_type": "stream",
     "text": [
      "MoviePy - Done.\n",
      "완료됬습니다.\n",
      "file name:hv8C40AA64M_5\n",
      "read new file\n",
      "   start    end  label\n",
      "0  17.04  20.02      0\n",
      "17.04 20.02 0\n"
     ]
    },
    {
     "name": "stderr",
     "output_type": "stream",
     "text": [
      "\r"
     ]
    },
    {
     "name": "stdout",
     "output_type": "stream",
     "text": [
      "MoviePy - Writing audio in ./data/audio_label_clip/negative\\negative_112.wav\n"
     ]
    },
    {
     "name": "stderr",
     "output_type": "stream",
     "text": [
      "                                                               \r"
     ]
    },
    {
     "name": "stdout",
     "output_type": "stream",
     "text": [
      "MoviePy - Done.\n",
      "완료됬습니다.\n",
      "file name:hv8C40AA64M_6\n",
      "read new file\n",
      "   start   end  label\n",
      "0  20.14  21.0     10\n",
      "20.14 21.0 10\n",
      "MoviePy - Writing audio in ./data/audio_label_clip/activate\\shi_43.wav\n"
     ]
    },
    {
     "name": "stderr",
     "output_type": "stream",
     "text": [
      "                                                               "
     ]
    },
    {
     "name": "stdout",
     "output_type": "stream",
     "text": [
      "MoviePy - Done.\n",
      "완료됬습니다.\n",
      "file name:hv8C40AA64M_7\n",
      "read new file\n",
      "   start    end  label\n",
      "0  22.08  24.11      0\n",
      "22.08 24.11 0\n"
     ]
    },
    {
     "name": "stderr",
     "output_type": "stream",
     "text": [
      "\r"
     ]
    },
    {
     "name": "stdout",
     "output_type": "stream",
     "text": [
      "MoviePy - Writing audio in ./data/audio_label_clip/negative\\negative_113.wav\n"
     ]
    },
    {
     "name": "stderr",
     "output_type": "stream",
     "text": [
      "                                                               "
     ]
    },
    {
     "name": "stdout",
     "output_type": "stream",
     "text": [
      "MoviePy - Done.\n",
      "완료됬습니다.\n",
      "file name:hv8C40AA64M_8\n",
      "read new file\n",
      "   start    end  label\n",
      "0  25.11  25.59     12\n",
      "25.11 25.59 12\n"
     ]
    },
    {
     "name": "stderr",
     "output_type": "stream",
     "text": [
      "\r"
     ]
    },
    {
     "name": "stdout",
     "output_type": "stream",
     "text": [
      "MoviePy - Writing audio in ./data/audio_label_clip/activate\\sha_15.wav\n"
     ]
    },
    {
     "name": "stderr",
     "output_type": "stream",
     "text": [
      "                                                               "
     ]
    },
    {
     "name": "stdout",
     "output_type": "stream",
     "text": [
      "MoviePy - Done.\n",
      "완료됬습니다.\n",
      "file name:hv8C40AA64M_9\n",
      "read new file\n",
      "   start    end  label\n",
      "0  27.92  28.49     10\n",
      "27.92 28.49 10\n"
     ]
    },
    {
     "name": "stderr",
     "output_type": "stream",
     "text": [
      "\r"
     ]
    },
    {
     "name": "stdout",
     "output_type": "stream",
     "text": [
      "MoviePy - Writing audio in ./data/audio_label_clip/activate\\shi_44.wav\n"
     ]
    },
    {
     "name": "stderr",
     "output_type": "stream",
     "text": [
      "                                                               "
     ]
    },
    {
     "name": "stdout",
     "output_type": "stream",
     "text": [
      "MoviePy - Done.\n",
      "완료됬습니다.\n",
      "file name:j1N-vAPn4y8_0\n",
      "read new file\n",
      "   start    end  label\n",
      "0   8.51  10.32      0\n",
      "8.51 10.32 0\n"
     ]
    },
    {
     "name": "stderr",
     "output_type": "stream",
     "text": [
      "\r"
     ]
    },
    {
     "name": "stdout",
     "output_type": "stream",
     "text": [
      "MoviePy - Writing audio in ./data/audio_label_clip/negative\\negative_114.wav\n"
     ]
    },
    {
     "name": "stderr",
     "output_type": "stream",
     "text": [
      "                                                               "
     ]
    },
    {
     "name": "stdout",
     "output_type": "stream",
     "text": [
      "MoviePy - Done.\n",
      "완료됬습니다.\n",
      "file name:j1N-vAPn4y8_1\n",
      "read new file\n",
      "   start    end  label\n",
      "0  11.53  15.22      0\n",
      "11.53 15.22 0\n"
     ]
    },
    {
     "name": "stderr",
     "output_type": "stream",
     "text": [
      "\r"
     ]
    },
    {
     "name": "stdout",
     "output_type": "stream",
     "text": [
      "MoviePy - Writing audio in ./data/audio_label_clip/negative\\negative_115.wav\n"
     ]
    },
    {
     "name": "stderr",
     "output_type": "stream",
     "text": [
      "                                                               \r"
     ]
    },
    {
     "name": "stdout",
     "output_type": "stream",
     "text": [
      "MoviePy - Done.\n",
      "완료됬습니다.\n",
      "file name:j1N-vAPn4y8_10\n",
      "read new file\n",
      "   start    end  label\n",
      "0  37.83  40.17      0\n",
      "37.83 40.17 0\n",
      "MoviePy - Writing audio in ./data/audio_label_clip/negative\\negative_116.wav\n"
     ]
    },
    {
     "name": "stderr",
     "output_type": "stream",
     "text": [
      "                                                               \r"
     ]
    },
    {
     "name": "stdout",
     "output_type": "stream",
     "text": [
      "MoviePy - Done.\n",
      "완료됬습니다.\n",
      "file name:j1N-vAPn4y8_11\n",
      "read new file\n",
      "   start   end  label\n",
      "0  41.18  41.8     13\n",
      "41.18 41.8 13\n",
      "MoviePy - Writing audio in ./data/audio_label_clip/activate\\byoung_3.wav\n"
     ]
    },
    {
     "name": "stderr",
     "output_type": "stream",
     "text": [
      "                                                               "
     ]
    },
    {
     "name": "stdout",
     "output_type": "stream",
     "text": [
      "MoviePy - Done.\n",
      "완료됬습니다.\n",
      "file name:j1N-vAPn4y8_12\n",
      "read new file\n"
     ]
    },
    {
     "name": "stderr",
     "output_type": "stream",
     "text": [
      "\r"
     ]
    },
    {
     "name": "stdout",
     "output_type": "stream",
     "text": [
      "   start    end  label\n",
      "0  42.19  43.32      0\n",
      "42.19 43.32 0\n",
      "MoviePy - Writing audio in ./data/audio_label_clip/negative\\negative_117.wav\n"
     ]
    },
    {
     "name": "stderr",
     "output_type": "stream",
     "text": [
      "                                                               \r"
     ]
    },
    {
     "name": "stdout",
     "output_type": "stream",
     "text": [
      "MoviePy - Done.\n",
      "완료됬습니다.\n",
      "file name:j1N-vAPn4y8_13\n",
      "read new file\n",
      "   start     end  label\n",
      "0  43.32  45.379      0\n",
      "43.32 45.379 0\n",
      "MoviePy - Writing audio in ./data/audio_label_clip/negative\\negative_118.wav\n"
     ]
    },
    {
     "name": "stderr",
     "output_type": "stream",
     "text": [
      "                                                               \r"
     ]
    },
    {
     "name": "stdout",
     "output_type": "stream",
     "text": [
      "MoviePy - Done.\n",
      "완료됬습니다.\n",
      "file name:j1N-vAPn4y8_2\n",
      "read new file\n",
      "   start   end  label\n",
      "0  15.22  20.1      0\n",
      "15.22 20.1 0\n",
      "MoviePy - Writing audio in ./data/audio_label_clip/negative\\negative_119.wav\n"
     ]
    },
    {
     "name": "stderr",
     "output_type": "stream",
     "text": [
      "                                                                \r"
     ]
    },
    {
     "name": "stdout",
     "output_type": "stream",
     "text": [
      "MoviePy - Done.\n",
      "완료됬습니다.\n",
      "file name:j1N-vAPn4y8_3\n",
      "read new file\n",
      "   start    end  label\n",
      "0  20.46  20.83     10\n",
      "20.46 20.83 10\n",
      "MoviePy - Writing audio in ./data/audio_label_clip/activate\\shi_45.wav\n"
     ]
    },
    {
     "name": "stderr",
     "output_type": "stream",
     "text": [
      "                                                              "
     ]
    },
    {
     "name": "stdout",
     "output_type": "stream",
     "text": [
      "MoviePy - Done.\n",
      "완료됬습니다.\n",
      "file name:j1N-vAPn4y8_4\n",
      "read new file\n",
      "   start    end  label\n",
      "0  20.95  21.26     14\n",
      "20.95 21.26 14\n"
     ]
    },
    {
     "name": "stderr",
     "output_type": "stream",
     "text": [
      "\r"
     ]
    },
    {
     "name": "stdout",
     "output_type": "stream",
     "text": [
      "MoviePy - Writing audio in ./data/audio_label_clip/activate\\do_0.wav\n"
     ]
    },
    {
     "name": "stderr",
     "output_type": "stream",
     "text": [
      "                                                              "
     ]
    },
    {
     "name": "stdout",
     "output_type": "stream",
     "text": [
      "MoviePy - Done.\n",
      "완료됬습니다.\n",
      "file name:j1N-vAPn4y8_5\n",
      "read new file\n"
     ]
    },
    {
     "name": "stderr",
     "output_type": "stream",
     "text": [
      "\r"
     ]
    },
    {
     "name": "stdout",
     "output_type": "stream",
     "text": [
      "   start    end  label\n",
      "0  23.57  23.98     10\n",
      "23.57 23.98 10\n",
      "MoviePy - Writing audio in ./data/audio_label_clip/activate\\shi_46.wav\n"
     ]
    },
    {
     "name": "stderr",
     "output_type": "stream",
     "text": [
      "                                                               "
     ]
    },
    {
     "name": "stdout",
     "output_type": "stream",
     "text": [
      "MoviePy - Done.\n",
      "완료됬습니다.\n",
      "file name:j1N-vAPn4y8_6\n",
      "read new file\n",
      "   start    end  label\n",
      "0  25.15  29.26      0\n",
      "25.15 29.26 0\n"
     ]
    },
    {
     "name": "stderr",
     "output_type": "stream",
     "text": [
      "\r"
     ]
    },
    {
     "name": "stdout",
     "output_type": "stream",
     "text": [
      "MoviePy - Writing audio in ./data/audio_label_clip/negative\\negative_120.wav\n"
     ]
    },
    {
     "name": "stderr",
     "output_type": "stream",
     "text": [
      "                                                               \r"
     ]
    },
    {
     "name": "stdout",
     "output_type": "stream",
     "text": [
      "MoviePy - Done.\n",
      "완료됬습니다.\n",
      "file name:j1N-vAPn4y8_7\n",
      "read new file\n",
      "   start    end  label\n",
      "0  30.43  30.83     10\n",
      "30.43 30.83 10\n",
      "MoviePy - Writing audio in ./data/audio_label_clip/activate\\shi_47.wav\n"
     ]
    },
    {
     "name": "stderr",
     "output_type": "stream",
     "text": [
      "                                                              \r"
     ]
    },
    {
     "name": "stdout",
     "output_type": "stream",
     "text": [
      "MoviePy - Done.\n",
      "완료됬습니다.\n",
      "file name:j1N-vAPn4y8_8\n",
      "read new file\n",
      "   start    end  label\n",
      "0  32.22  35.84      0\n",
      "32.22 35.84 0\n",
      "MoviePy - Writing audio in ./data/audio_label_clip/negative\\negative_121.wav\n"
     ]
    },
    {
     "name": "stderr",
     "output_type": "stream",
     "text": [
      "                                                               \r"
     ]
    },
    {
     "name": "stdout",
     "output_type": "stream",
     "text": [
      "MoviePy - Done.\n",
      "완료됬습니다.\n",
      "file name:j1N-vAPn4y8_9\n",
      "read new file\n",
      "   start    end  label\n",
      "0  36.86  37.32     10\n",
      "36.86 37.32 10\n",
      "MoviePy - Writing audio in ./data/audio_label_clip/activate\\shi_48.wav\n"
     ]
    },
    {
     "name": "stderr",
     "output_type": "stream",
     "text": [
      "                                                               "
     ]
    },
    {
     "name": "stdout",
     "output_type": "stream",
     "text": [
      "MoviePy - Done.\n",
      "완료됬습니다.\n",
      "file name:JDy-dj61fzA_0\n",
      "read new file\n"
     ]
    },
    {
     "name": "stderr",
     "output_type": "stream",
     "text": [
      "\r"
     ]
    },
    {
     "name": "stdout",
     "output_type": "stream",
     "text": [
      "   start   end  label\n",
      "0  0.599  1.23     10\n",
      "0.599 1.23 10\n",
      "MoviePy - Writing audio in ./data/audio_label_clip/activate\\shi_49.wav\n"
     ]
    },
    {
     "name": "stderr",
     "output_type": "stream",
     "text": [
      "                                                               "
     ]
    },
    {
     "name": "stdout",
     "output_type": "stream",
     "text": [
      "MoviePy - Done.\n",
      "완료됬습니다.\n",
      "file name:JDy-dj61fzA_1\n",
      "read new file\n",
      "   start   end  label\n",
      "0   2.77  3.41     17\n",
      "2.77 3.41 17\n"
     ]
    },
    {
     "name": "stderr",
     "output_type": "stream",
     "text": [
      "\r"
     ]
    },
    {
     "name": "stdout",
     "output_type": "stream",
     "text": [
      "MoviePy - Writing audio in ./data/audio_label_clip/activate\\gae_14.wav\n"
     ]
    },
    {
     "name": "stderr",
     "output_type": "stream",
     "text": [
      "                                                               "
     ]
    },
    {
     "name": "stdout",
     "output_type": "stream",
     "text": [
      "MoviePy - Done.\n",
      "완료됬습니다.\n",
      "file name:JDy-dj61fzA_10\n",
      "read new file\n",
      "   start    end  label\n",
      "0  32.59  34.69      0\n",
      "32.59 34.69 0\n"
     ]
    },
    {
     "name": "stderr",
     "output_type": "stream",
     "text": [
      "\r"
     ]
    },
    {
     "name": "stdout",
     "output_type": "stream",
     "text": [
      "MoviePy - Writing audio in ./data/audio_label_clip/negative\\negative_122.wav\n"
     ]
    },
    {
     "name": "stderr",
     "output_type": "stream",
     "text": [
      "                                                               \r"
     ]
    },
    {
     "name": "stdout",
     "output_type": "stream",
     "text": [
      "MoviePy - Done.\n",
      "완료됬습니다.\n",
      "file name:JDy-dj61fzA_11\n",
      "read new file\n",
      "   start    end  label\n",
      "0  34.72  35.55     10\n",
      "34.72 35.55 10\n",
      "MoviePy - Writing audio in ./data/audio_label_clip/activate\\shi_50.wav\n"
     ]
    },
    {
     "name": "stderr",
     "output_type": "stream",
     "text": [
      "                                                               "
     ]
    },
    {
     "name": "stdout",
     "output_type": "stream",
     "text": [
      "MoviePy - Done."
     ]
    },
    {
     "name": "stderr",
     "output_type": "stream",
     "text": [
      "\r"
     ]
    },
    {
     "name": "stdout",
     "output_type": "stream",
     "text": [
      "\n",
      "완료됬습니다.\n",
      "file name:JDy-dj61fzA_12\n",
      "read new file\n",
      "   start    end  label\n",
      "0  36.93  38.21      0\n",
      "36.93 38.21 0\n",
      "MoviePy - Writing audio in ./data/audio_label_clip/negative\\negative_123.wav\n"
     ]
    },
    {
     "name": "stderr",
     "output_type": "stream",
     "text": [
      "                                                               \r"
     ]
    },
    {
     "name": "stdout",
     "output_type": "stream",
     "text": [
      "MoviePy - Done.\n",
      "완료됬습니다.\n",
      "file name:JDy-dj61fzA_13\n",
      "read new file\n",
      "   start    end  label\n",
      "0  38.64  38.94     12\n",
      "38.64 38.94 12\n",
      "MoviePy - Writing audio in ./data/audio_label_clip/activate\\sha_16.wav\n"
     ]
    },
    {
     "name": "stderr",
     "output_type": "stream",
     "text": [
      "                                                              \r"
     ]
    },
    {
     "name": "stdout",
     "output_type": "stream",
     "text": [
      "MoviePy - Done.\n",
      "완료됬습니다.\n",
      "file name:JDy-dj61fzA_14\n",
      "read new file\n",
      "   start   end  label\n",
      "0  43.83  44.1     12\n",
      "43.83 44.1 12\n",
      "MoviePy - Writing audio in ./data/audio_label_clip/activate\\sha_17.wav\n"
     ]
    },
    {
     "name": "stderr",
     "output_type": "stream",
     "text": [
      "                                                              \r"
     ]
    },
    {
     "name": "stdout",
     "output_type": "stream",
     "text": [
      "MoviePy - Done.\n",
      "완료됬습니다.\n",
      "file name:JDy-dj61fzA_15\n",
      "read new file\n",
      "   start    end  label\n",
      "0  44.22  46.42      0\n",
      "44.22 46.42 0\n",
      "MoviePy - Writing audio in ./data/audio_label_clip/negative\\negative_124.wav\n"
     ]
    },
    {
     "name": "stderr",
     "output_type": "stream",
     "text": [
      "                                                               \r"
     ]
    },
    {
     "name": "stdout",
     "output_type": "stream",
     "text": [
      "MoviePy - Done.\n",
      "완료됬습니다.\n",
      "file name:JDy-dj61fzA_16\n",
      "read new file\n",
      "   start    end  label\n",
      "0  49.65  50.07     10\n",
      "49.65 50.07 10\n",
      "MoviePy - Writing audio in ./data/audio_label_clip/activate\\shi_51.wav\n"
     ]
    },
    {
     "name": "stderr",
     "output_type": "stream",
     "text": [
      "                                                               "
     ]
    },
    {
     "name": "stdout",
     "output_type": "stream",
     "text": [
      "MoviePy - Done.\n",
      "완료됬습니다.\n",
      "file name:JDy-dj61fzA_2\n",
      "read new file\n"
     ]
    },
    {
     "name": "stderr",
     "output_type": "stream",
     "text": [
      "\r"
     ]
    },
    {
     "name": "stdout",
     "output_type": "stream",
     "text": [
      "   start   end  label\n",
      "0   3.66  5.55      0\n",
      "3.66 5.55 0\n",
      "MoviePy - Writing audio in ./data/audio_label_clip/negative\\negative_125.wav\n"
     ]
    },
    {
     "name": "stderr",
     "output_type": "stream",
     "text": [
      "                                                               "
     ]
    },
    {
     "name": "stdout",
     "output_type": "stream",
     "text": [
      "MoviePy - Done."
     ]
    },
    {
     "name": "stderr",
     "output_type": "stream",
     "text": [
      "\r"
     ]
    },
    {
     "name": "stdout",
     "output_type": "stream",
     "text": [
      "\n",
      "완료됬습니다.\n",
      "file name:JDy-dj61fzA_3\n",
      "read new file\n",
      "   start   end  label\n",
      "0   8.51  9.12     17\n",
      "8.51 9.12 17\n",
      "MoviePy - Writing audio in ./data/audio_label_clip/activate\\gae_15.wav\n"
     ]
    },
    {
     "name": "stderr",
     "output_type": "stream",
     "text": [
      "                                                               "
     ]
    },
    {
     "name": "stdout",
     "output_type": "stream",
     "text": [
      "MoviePy - Done.\n",
      "완료됬습니다.\n",
      "file name:JDy-dj61fzA_4\n",
      "read new file\n",
      "   start   end  label\n",
      "0   9.43  11.5      0\n",
      "9.43 11.5 0\n"
     ]
    },
    {
     "name": "stderr",
     "output_type": "stream",
     "text": [
      "\r"
     ]
    },
    {
     "name": "stdout",
     "output_type": "stream",
     "text": [
      "MoviePy - Writing audio in ./data/audio_label_clip/negative\\negative_126.wav\n"
     ]
    },
    {
     "name": "stderr",
     "output_type": "stream",
     "text": [
      "                                                               "
     ]
    },
    {
     "name": "stdout",
     "output_type": "stream",
     "text": [
      "MoviePy - Done.\n",
      "완료됬습니다.\n",
      "file name:JDy-dj61fzA_5\n",
      "read new file\n",
      "   start    end  label\n",
      "0  21.01  21.73     10\n",
      "21.01 21.73 10\n"
     ]
    },
    {
     "name": "stderr",
     "output_type": "stream",
     "text": [
      "\r"
     ]
    },
    {
     "name": "stdout",
     "output_type": "stream",
     "text": [
      "MoviePy - Writing audio in ./data/audio_label_clip/activate\\shi_52.wav\n"
     ]
    },
    {
     "name": "stderr",
     "output_type": "stream",
     "text": [
      "                                                               "
     ]
    },
    {
     "name": "stdout",
     "output_type": "stream",
     "text": [
      "MoviePy - Done.\n",
      "완료됬습니다.\n",
      "file name:JDy-dj61fzA_6\n",
      "read new file\n",
      "   start    end  label\n",
      "0  24.99  25.57     17\n",
      "24.99 25.57 17\n"
     ]
    },
    {
     "name": "stderr",
     "output_type": "stream",
     "text": [
      "\r"
     ]
    },
    {
     "name": "stdout",
     "output_type": "stream",
     "text": [
      "MoviePy - Writing audio in ./data/audio_label_clip/activate\\gae_16.wav\n"
     ]
    },
    {
     "name": "stderr",
     "output_type": "stream",
     "text": [
      "                                                               "
     ]
    },
    {
     "name": "stdout",
     "output_type": "stream",
     "text": [
      "MoviePy - Done.\n",
      "완료됬습니다.\n",
      "file name:JDy-dj61fzA_7\n",
      "read new file\n",
      "   start    end  label\n",
      "0  26.92  27.26     13\n",
      "26.92 27.26 13\n"
     ]
    },
    {
     "name": "stderr",
     "output_type": "stream",
     "text": [
      "\r"
     ]
    },
    {
     "name": "stdout",
     "output_type": "stream",
     "text": [
      "MoviePy - Writing audio in ./data/audio_label_clip/activate\\byoung_4.wav\n"
     ]
    },
    {
     "name": "stderr",
     "output_type": "stream",
     "text": [
      "                                                              "
     ]
    },
    {
     "name": "stdout",
     "output_type": "stream",
     "text": [
      "MoviePy - Done.\n",
      "완료됬습니다.\n",
      "file name:JDy-dj61fzA_8\n",
      "read new file\n",
      "   start    end  label\n",
      "0  28.62  31.26      0\n",
      "28.62 31.26 0\n"
     ]
    },
    {
     "name": "stderr",
     "output_type": "stream",
     "text": [
      "\r"
     ]
    },
    {
     "name": "stdout",
     "output_type": "stream",
     "text": [
      "MoviePy - Writing audio in ./data/audio_label_clip/negative\\negative_127.wav\n"
     ]
    },
    {
     "name": "stderr",
     "output_type": "stream",
     "text": [
      "                                                               "
     ]
    },
    {
     "name": "stdout",
     "output_type": "stream",
     "text": [
      "MoviePy - Done."
     ]
    },
    {
     "name": "stderr",
     "output_type": "stream",
     "text": [
      "\r"
     ]
    },
    {
     "name": "stdout",
     "output_type": "stream",
     "text": [
      "\n",
      "완료됬습니다.\n",
      "file name:JDy-dj61fzA_9\n",
      "read new file\n",
      "   start    end  label\n",
      "0  31.64  31.91      8\n",
      "31.64 31.91 8\n",
      "file name:jQ7SQXCcEhs_0\n",
      "read new file\n",
      "   start    end  label\n",
      "0   0.12  5.929      0\n",
      "0.12 5.929 0\n",
      "MoviePy - Writing audio in ./data/audio_label_clip/negative\\negative_128.wav\n"
     ]
    },
    {
     "name": "stderr",
     "output_type": "stream",
     "text": [
      "                                                                \r"
     ]
    },
    {
     "name": "stdout",
     "output_type": "stream",
     "text": [
      "MoviePy - Done.\n",
      "완료됬습니다.\n",
      "file name:jQ7SQXCcEhs_1\n",
      "read new file\n",
      "   start  end  label\n",
      "0   6.65  7.4      8\n",
      "6.65 7.4 8\n",
      "file name:jQ7SQXCcEhs_10\n",
      "read new file\n",
      "   start    end  label\n",
      "0  26.91  31.39      0\n",
      "26.91 31.39 0\n",
      "MoviePy - Writing audio in ./data/audio_label_clip/negative\\negative_129.wav\n"
     ]
    },
    {
     "name": "stderr",
     "output_type": "stream",
     "text": [
      "                                                               \r"
     ]
    },
    {
     "name": "stdout",
     "output_type": "stream",
     "text": [
      "MoviePy - Done.\n",
      "완료됬습니다.\n",
      "file name:jQ7SQXCcEhs_11\n",
      "read new file\n",
      "   start    end  label\n",
      "0  31.66  36.23      0\n",
      "31.66 36.23 0\n",
      "MoviePy - Writing audio in ./data/audio_label_clip/negative\\negative_130.wav\n"
     ]
    },
    {
     "name": "stderr",
     "output_type": "stream",
     "text": [
      "                                                                \r"
     ]
    },
    {
     "name": "stdout",
     "output_type": "stream",
     "text": [
      "MoviePy - Done.\n",
      "완료됬습니다.\n",
      "file name:jQ7SQXCcEhs_12\n",
      "read new file\n",
      "   start    end  label\n",
      "0  36.23  43.91      0\n",
      "36.23 43.91 0\n",
      "MoviePy - Writing audio in ./data/audio_label_clip/negative\\negative_131.wav\n"
     ]
    },
    {
     "name": "stderr",
     "output_type": "stream",
     "text": [
      "                                                                   \r"
     ]
    },
    {
     "name": "stdout",
     "output_type": "stream",
     "text": [
      "MoviePy - Done.\n",
      "완료됬습니다.\n",
      "file name:jQ7SQXCcEhs_13\n",
      "read new file\n",
      "   start    end  label\n",
      "0  43.91  44.82      8\n",
      "43.91 44.82 8\n",
      "file name:jQ7SQXCcEhs_2\n",
      "read new file\n",
      "   start   end  label\n",
      "0   7.45  7.96     10\n",
      "7.45 7.96 10\n",
      "MoviePy - Writing audio in ./data/audio_label_clip/activate\\shi_53.wav\n"
     ]
    },
    {
     "name": "stderr",
     "output_type": "stream",
     "text": [
      "                                                               "
     ]
    },
    {
     "name": "stdout",
     "output_type": "stream",
     "text": [
      "MoviePy - Done.\n",
      "완료됬습니다.\n",
      "file name:jQ7SQXCcEhs_3\n",
      "read new file\n",
      "   start   end  label\n",
      "0   7.99  8.57      8\n",
      "7.99 8.57 8\n"
     ]
    },
    {
     "name": "stderr",
     "output_type": "stream",
     "text": [
      "\r"
     ]
    },
    {
     "name": "stdout",
     "output_type": "stream",
     "text": [
      "file name:jQ7SQXCcEhs_4\n",
      "read new file\n",
      "   start   end  label\n",
      "0   8.62  8.99      8\n",
      "8.62 8.99 8\n",
      "file name:jQ7SQXCcEhs_5\n",
      "read new file\n",
      "   start   end  label\n",
      "0   12.3  15.0      0\n",
      "12.3 15.0 0\n",
      "MoviePy - Writing audio in ./data/audio_label_clip/negative\\negative_132.wav\n"
     ]
    },
    {
     "name": "stderr",
     "output_type": "stream",
     "text": [
      "                                                               "
     ]
    },
    {
     "name": "stdout",
     "output_type": "stream",
     "text": [
      "MoviePy - Done.\n",
      "완료됬습니다.\n",
      "file name:jQ7SQXCcEhs_6\n",
      "read new file\n"
     ]
    },
    {
     "name": "stderr",
     "output_type": "stream",
     "text": [
      "\r"
     ]
    },
    {
     "name": "stdout",
     "output_type": "stream",
     "text": [
      "   start    end  label\n",
      "0   15.0  17.48      0\n",
      "15.0 17.48 0\n",
      "MoviePy - Writing audio in ./data/audio_label_clip/negative\\negative_133.wav\n"
     ]
    },
    {
     "name": "stderr",
     "output_type": "stream",
     "text": [
      "                                                               "
     ]
    },
    {
     "name": "stdout",
     "output_type": "stream",
     "text": [
      "MoviePy - Done.\n",
      "완료됬습니다.\n",
      "file name:jQ7SQXCcEhs_7\n",
      "read new file\n",
      "   start    end  label\n",
      "0  17.48  21.63      0\n",
      "17.48 21.63 0\n"
     ]
    },
    {
     "name": "stderr",
     "output_type": "stream",
     "text": [
      "\r"
     ]
    },
    {
     "name": "stdout",
     "output_type": "stream",
     "text": [
      "MoviePy - Writing audio in ./data/audio_label_clip/negative\\negative_134.wav\n"
     ]
    },
    {
     "name": "stderr",
     "output_type": "stream",
     "text": [
      "                                                               \r"
     ]
    },
    {
     "name": "stdout",
     "output_type": "stream",
     "text": [
      "MoviePy - Done.\n",
      "완료됬습니다.\n",
      "file name:jQ7SQXCcEhs_8\n",
      "read new file\n",
      "   start   end  label\n",
      "0  21.97  22.6      8\n",
      "21.97 22.6 8\n",
      "file name:jQ7SQXCcEhs_9\n",
      "read new file\n",
      "   start    end  label\n",
      "0  26.01  26.85     10\n",
      "26.01 26.85 10\n",
      "MoviePy - Writing audio in ./data/audio_label_clip/activate\\shi_54.wav\n"
     ]
    },
    {
     "name": "stderr",
     "output_type": "stream",
     "text": [
      "                                                               "
     ]
    },
    {
     "name": "stdout",
     "output_type": "stream",
     "text": [
      "MoviePy - Done.\n",
      "완료됬습니다.\n",
      "file name:kYmxpumtQDw_0\n",
      "read new file\n",
      "   start   end  label\n",
      "0   0.23  3.88      0\n",
      "0.23 3.88 0\n"
     ]
    },
    {
     "name": "stderr",
     "output_type": "stream",
     "text": [
      "\r"
     ]
    },
    {
     "name": "stdout",
     "output_type": "stream",
     "text": [
      "MoviePy - Writing audio in ./data/audio_label_clip/negative\\negative_135.wav\n"
     ]
    },
    {
     "name": "stderr",
     "output_type": "stream",
     "text": [
      "                                                               \r"
     ]
    },
    {
     "name": "stdout",
     "output_type": "stream",
     "text": [
      "MoviePy - Done.\n",
      "완료됬습니다.\n",
      "file name:kYmxpumtQDw_1\n",
      "read new file\n",
      "   start   end  label\n",
      "0   4.15  7.25      0\n",
      "4.15 7.25 0\n",
      "MoviePy - Writing audio in ./data/audio_label_clip/negative\\negative_136.wav\n"
     ]
    },
    {
     "name": "stderr",
     "output_type": "stream",
     "text": [
      "                                                               \r"
     ]
    },
    {
     "name": "stdout",
     "output_type": "stream",
     "text": [
      "MoviePy - Done.\n",
      "완료됬습니다.\n",
      "file name:kYmxpumtQDw_10\n",
      "read new file\n",
      "    start    end  label\n",
      "0  48.899  55.86      0\n",
      "48.899 55.86 0\n",
      "MoviePy - Writing audio in ./data/audio_label_clip/negative\\negative_137.wav\n"
     ]
    },
    {
     "name": "stderr",
     "output_type": "stream",
     "text": [
      "                                                                   \r"
     ]
    },
    {
     "name": "stdout",
     "output_type": "stream",
     "text": [
      "MoviePy - Done.\n",
      "완료됬습니다.\n",
      "file name:kYmxpumtQDw_2\n",
      "read new file\n",
      "   start    end  label\n",
      "0   7.25  11.05      0\n",
      "7.25 11.05 0\n",
      "MoviePy - Writing audio in ./data/audio_label_clip/negative\\negative_138.wav\n"
     ]
    },
    {
     "name": "stderr",
     "output_type": "stream",
     "text": [
      "                                                               \r"
     ]
    },
    {
     "name": "stdout",
     "output_type": "stream",
     "text": [
      "MoviePy - Done.\n",
      "완료됬습니다.\n",
      "file name:kYmxpumtQDw_3\n",
      "read new file\n",
      "   start    end  label\n",
      "0  11.56  18.46      0\n",
      "11.56 18.46 0\n",
      "MoviePy - Writing audio in ./data/audio_label_clip/negative\\negative_139.wav\n"
     ]
    },
    {
     "name": "stderr",
     "output_type": "stream",
     "text": [
      "                                                                   \r"
     ]
    },
    {
     "name": "stdout",
     "output_type": "stream",
     "text": [
      "MoviePy - Done.\n",
      "완료됬습니다.\n",
      "file name:kYmxpumtQDw_4\n",
      "read new file\n",
      "   start    end  label\n",
      "0  18.46  20.03     12\n",
      "18.46 20.03 12\n",
      "MoviePy - Writing audio in ./data/audio_label_clip/activate\\sha_18.wav\n"
     ]
    },
    {
     "name": "stderr",
     "output_type": "stream",
     "text": [
      "                                                               "
     ]
    },
    {
     "name": "stdout",
     "output_type": "stream",
     "text": [
      "MoviePy - Done."
     ]
    },
    {
     "name": "stderr",
     "output_type": "stream",
     "text": [
      "\r"
     ]
    },
    {
     "name": "stdout",
     "output_type": "stream",
     "text": [
      "\n",
      "완료됬습니다.\n",
      "file name:kYmxpumtQDw_5\n",
      "read new file\n",
      "   start    end  label\n",
      "0   21.4  24.74      0\n",
      "21.4 24.74 0\n",
      "MoviePy - Writing audio in ./data/audio_label_clip/negative\\negative_140.wav\n"
     ]
    },
    {
     "name": "stderr",
     "output_type": "stream",
     "text": [
      "                                                               \r"
     ]
    },
    {
     "name": "stdout",
     "output_type": "stream",
     "text": [
      "MoviePy - Done.\n",
      "완료됬습니다.\n",
      "file name:kYmxpumtQDw_6\n",
      "read new file\n",
      "    start    end  label\n",
      "0  25.619  26.22     10\n",
      "25.619 26.22 10\n",
      "MoviePy - Writing audio in ./data/audio_label_clip/activate\\shi_55.wav\n"
     ]
    },
    {
     "name": "stderr",
     "output_type": "stream",
     "text": [
      "                                                               "
     ]
    },
    {
     "name": "stdout",
     "output_type": "stream",
     "text": [
      "MoviePy - Done.\n",
      "완료됬습니다.\n",
      "file name:kYmxpumtQDw_7\n",
      "read new file\n",
      "   start    end  label\n",
      "0   34.5  38.07      0\n",
      "34.5 38.07 0\n"
     ]
    },
    {
     "name": "stderr",
     "output_type": "stream",
     "text": [
      "\r"
     ]
    },
    {
     "name": "stdout",
     "output_type": "stream",
     "text": [
      "MoviePy - Writing audio in ./data/audio_label_clip/negative\\negative_141.wav\n"
     ]
    },
    {
     "name": "stderr",
     "output_type": "stream",
     "text": [
      "                                                               \r"
     ]
    },
    {
     "name": "stdout",
     "output_type": "stream",
     "text": [
      "MoviePy - Done.\n",
      "완료됬습니다.\n",
      "file name:kYmxpumtQDw_8\n",
      "read new file\n",
      "   start    end  label\n",
      "0  40.33  40.74      0\n",
      "40.33 40.74 0\n",
      "MoviePy - Writing audio in ./data/audio_label_clip/negative\\negative_142.wav\n"
     ]
    },
    {
     "name": "stderr",
     "output_type": "stream",
     "text": [
      "                                                               "
     ]
    },
    {
     "name": "stdout",
     "output_type": "stream",
     "text": [
      "MoviePy - Done.\n",
      "완료됬습니다.\n",
      "file name:kYmxpumtQDw_9\n",
      "read new file\n"
     ]
    },
    {
     "name": "stderr",
     "output_type": "stream",
     "text": [
      "\r"
     ]
    },
    {
     "name": "stdout",
     "output_type": "stream",
     "text": [
      "    start     end  label\n",
      "0  46.379  48.899      0\n",
      "46.379 48.899 0\n",
      "MoviePy - Writing audio in ./data/audio_label_clip/negative\\negative_143.wav\n"
     ]
    },
    {
     "name": "stderr",
     "output_type": "stream",
     "text": [
      "                                                               \r"
     ]
    },
    {
     "name": "stdout",
     "output_type": "stream",
     "text": [
      "MoviePy - Done.\n",
      "완료됬습니다.\n",
      "file name:lNi-7heGSFE_0\n",
      "read new file\n",
      "   start   end  label\n",
      "0    0.0  4.04      0\n",
      "0.0 4.04 0\n",
      "MoviePy - Writing audio in ./data/audio_label_clip/negative\\negative_144.wav\n"
     ]
    },
    {
     "name": "stderr",
     "output_type": "stream",
     "text": [
      "                                                               \r"
     ]
    },
    {
     "name": "stdout",
     "output_type": "stream",
     "text": [
      "MoviePy - Done.\n",
      "완료됬습니다.\n",
      "file name:lNi-7heGSFE_1\n",
      "read new file\n",
      "   start    end  label\n",
      "0  23.67  25.25      0\n",
      "23.67 25.25 0\n",
      "MoviePy - Writing audio in ./data/audio_label_clip/negative\\negative_145.wav\n"
     ]
    },
    {
     "name": "stderr",
     "output_type": "stream",
     "text": [
      "                                                               "
     ]
    },
    {
     "name": "stdout",
     "output_type": "stream",
     "text": [
      "MoviePy - Done.\n",
      "완료됬습니다.\n",
      "file name:lNi-7heGSFE_2\n",
      "read new file\n",
      "   start    end  label\n",
      "0  26.88  27.27     14\n",
      "26.88 27.27 14\n"
     ]
    },
    {
     "name": "stderr",
     "output_type": "stream",
     "text": [
      "\r"
     ]
    },
    {
     "name": "stdout",
     "output_type": "stream",
     "text": [
      "MoviePy - Writing audio in ./data/audio_label_clip/activate\\do_1.wav\n"
     ]
    },
    {
     "name": "stderr",
     "output_type": "stream",
     "text": [
      "                                                              "
     ]
    },
    {
     "name": "stdout",
     "output_type": "stream",
     "text": [
      "MoviePy - Done.\n",
      "완료됬습니다.\n",
      "file name:lNi-7heGSFE_3\n",
      "read new file\n",
      "   start    end  label\n",
      "0  28.17  33.55      0\n",
      "28.17 33.55 0\n"
     ]
    },
    {
     "name": "stderr",
     "output_type": "stream",
     "text": [
      "\r"
     ]
    },
    {
     "name": "stdout",
     "output_type": "stream",
     "text": [
      "MoviePy - Writing audio in ./data/audio_label_clip/negative\\negative_146.wav\n"
     ]
    },
    {
     "name": "stderr",
     "output_type": "stream",
     "text": [
      "                                                                \r"
     ]
    },
    {
     "name": "stdout",
     "output_type": "stream",
     "text": [
      "MoviePy - Done.\n",
      "완료됬습니다.\n",
      "file name:lNi-7heGSFE_4\n",
      "read new file\n",
      "   start    end  label\n",
      "0  33.68  41.23      0\n",
      "33.68 41.23 0\n",
      "MoviePy - Writing audio in ./data/audio_label_clip/negative\\negative_147.wav\n"
     ]
    },
    {
     "name": "stderr",
     "output_type": "stream",
     "text": [
      "                                                                   \r"
     ]
    },
    {
     "name": "stdout",
     "output_type": "stream",
     "text": [
      "MoviePy - Done.\n",
      "완료됬습니다.\n",
      "file name:lNi-7heGSFE_5\n",
      "read new file\n",
      "   start    end  label\n",
      "0  41.23  44.65      0\n",
      "41.23 44.65 0\n",
      "MoviePy - Writing audio in ./data/audio_label_clip/negative\\negative_148.wav\n"
     ]
    },
    {
     "name": "stderr",
     "output_type": "stream",
     "text": [
      "                                                               \r"
     ]
    },
    {
     "name": "stdout",
     "output_type": "stream",
     "text": [
      "MoviePy - Done.\n",
      "완료됬습니다.\n",
      "file name:lNi-7heGSFE_6\n",
      "read new file\n",
      "   start     end  label\n",
      "0  44.62  49.399      0\n",
      "44.62 49.399 0\n",
      "MoviePy - Writing audio in ./data/audio_label_clip/negative\\negative_149.wav\n"
     ]
    },
    {
     "name": "stderr",
     "output_type": "stream",
     "text": [
      "                                                                \r"
     ]
    },
    {
     "name": "stdout",
     "output_type": "stream",
     "text": [
      "MoviePy - Done.\n",
      "완료됬습니다.\n",
      "file name:lNi-7heGSFE_7\n",
      "read new file\n",
      "   start    end  label\n",
      "0  51.08  51.55     12\n",
      "51.08 51.55 12\n",
      "MoviePy - Writing audio in ./data/audio_label_clip/activate\\sha_19.wav\n"
     ]
    },
    {
     "name": "stderr",
     "output_type": "stream",
     "text": [
      "                                                               "
     ]
    },
    {
     "name": "stdout",
     "output_type": "stream",
     "text": [
      "MoviePy - Done."
     ]
    },
    {
     "name": "stderr",
     "output_type": "stream",
     "text": [
      "\r"
     ]
    },
    {
     "name": "stdout",
     "output_type": "stream",
     "text": [
      "\n",
      "완료됬습니다.\n",
      "file name:lNi-7heGSFE_8\n",
      "read new file\n",
      "   start    end  label\n",
      "0  51.55  56.06      0\n",
      "51.55 56.06 0\n",
      "MoviePy - Writing audio in ./data/audio_label_clip/negative\\negative_150.wav\n"
     ]
    },
    {
     "name": "stderr",
     "output_type": "stream",
     "text": [
      "                                                                \r"
     ]
    },
    {
     "name": "stdout",
     "output_type": "stream",
     "text": [
      "MoviePy - Done.\n",
      "완료됬습니다.\n",
      "file name:lqKwKmtMf2A_0\n",
      "read new file\n",
      "   start   end  label\n",
      "0    0.0  2.96      0\n",
      "0.0 2.96 0\n",
      "MoviePy - Writing audio in ./data/audio_label_clip/negative\\negative_151.wav\n"
     ]
    },
    {
     "name": "stderr",
     "output_type": "stream",
     "text": [
      "                                                               "
     ]
    },
    {
     "name": "stdout",
     "output_type": "stream",
     "text": [
      "MoviePy - Done.\n",
      "완료됬습니다.\n",
      "file name:lqKwKmtMf2A_1\n",
      "read new file\n"
     ]
    },
    {
     "name": "stderr",
     "output_type": "stream",
     "text": [
      "\r"
     ]
    },
    {
     "name": "stdout",
     "output_type": "stream",
     "text": [
      "   start   end  label\n",
      "0   5.52  5.85     10\n",
      "5.52 5.85 10\n",
      "MoviePy - Writing audio in ./data/audio_label_clip/activate\\shi_56.wav\n"
     ]
    },
    {
     "name": "stderr",
     "output_type": "stream",
     "text": [
      "                                                              "
     ]
    },
    {
     "name": "stdout",
     "output_type": "stream",
     "text": [
      "MoviePy - Done.\n",
      "완료됬습니다.\n",
      "file name:lqKwKmtMf2A_2\n",
      "read new file\n",
      "   start   end  label\n",
      "0   7.62  8.07     10\n",
      "7.62 8.07 10\n"
     ]
    },
    {
     "name": "stderr",
     "output_type": "stream",
     "text": [
      "\r"
     ]
    },
    {
     "name": "stdout",
     "output_type": "stream",
     "text": [
      "MoviePy - Writing audio in ./data/audio_label_clip/activate\\shi_57.wav\n"
     ]
    },
    {
     "name": "stderr",
     "output_type": "stream",
     "text": [
      "                                                               "
     ]
    },
    {
     "name": "stdout",
     "output_type": "stream",
     "text": [
      "MoviePy - Done.\n",
      "완료됬습니다.\n",
      "file name:lqKwKmtMf2A_3\n",
      "read new file\n",
      "   start   end  label\n",
      "0   8.07  8.26     18\n",
      "8.07 8.26 18\n"
     ]
    },
    {
     "name": "stderr",
     "output_type": "stream",
     "text": [
      "\r"
     ]
    },
    {
     "name": "stdout",
     "output_type": "stream",
     "text": [
      "MoviePy - Writing audio in ./data/audio_label_clip/activate\\jot_2.wav\n"
     ]
    },
    {
     "name": "stderr",
     "output_type": "stream",
     "text": [
      "                                                              "
     ]
    },
    {
     "name": "stdout",
     "output_type": "stream",
     "text": [
      "MoviePy - Done."
     ]
    },
    {
     "name": "stderr",
     "output_type": "stream",
     "text": [
      "\r"
     ]
    },
    {
     "name": "stdout",
     "output_type": "stream",
     "text": [
      "\n",
      "완료됬습니다.\n",
      "file name:lqKwKmtMf2A_4\n",
      "read new file\n",
      "   start    end  label\n",
      "0  11.33  11.57     12\n",
      "11.33 11.57 12\n",
      "MoviePy - Writing audio in ./data/audio_label_clip/activate\\sha_20.wav\n"
     ]
    },
    {
     "name": "stderr",
     "output_type": "stream",
     "text": [
      "                                                              "
     ]
    },
    {
     "name": "stdout",
     "output_type": "stream",
     "text": [
      "MoviePy - Done.\n",
      "완료됬습니다.\n",
      "file name:lqKwKmtMf2A_5\n",
      "read new file\n",
      "   start    end  label\n",
      "0  26.15  26.47     12\n",
      "26.15 26.47 12\n"
     ]
    },
    {
     "name": "stderr",
     "output_type": "stream",
     "text": [
      "\r"
     ]
    },
    {
     "name": "stdout",
     "output_type": "stream",
     "text": [
      "MoviePy - Writing audio in ./data/audio_label_clip/activate\\sha_21.wav\n"
     ]
    },
    {
     "name": "stderr",
     "output_type": "stream",
     "text": [
      "                                                              "
     ]
    },
    {
     "name": "stdout",
     "output_type": "stream",
     "text": [
      "MoviePy - Done.\n",
      "완료됬습니다.\n",
      "file name:lqKwKmtMf2A_6\n",
      "read new file\n",
      "   start    end  label\n",
      "0  28.72  29.35     10\n",
      "28.72 29.35 10\n"
     ]
    },
    {
     "name": "stderr",
     "output_type": "stream",
     "text": [
      "\r"
     ]
    },
    {
     "name": "stdout",
     "output_type": "stream",
     "text": [
      "MoviePy - Writing audio in ./data/audio_label_clip/activate\\shi_58.wav\n"
     ]
    },
    {
     "name": "stderr",
     "output_type": "stream",
     "text": [
      "                                                               "
     ]
    },
    {
     "name": "stdout",
     "output_type": "stream",
     "text": [
      "MoviePy - Done.\n",
      "완료됬습니다.\n",
      "file name:lqKwKmtMf2A_7\n",
      "read new file\n",
      "   start   end  label\n",
      "0  30.37  32.9      0\n",
      "30.37 32.9 0\n"
     ]
    },
    {
     "name": "stderr",
     "output_type": "stream",
     "text": [
      "\r"
     ]
    },
    {
     "name": "stdout",
     "output_type": "stream",
     "text": [
      "MoviePy - Writing audio in ./data/audio_label_clip/negative\\negative_152.wav\n"
     ]
    },
    {
     "name": "stderr",
     "output_type": "stream",
     "text": [
      "                                                               \r"
     ]
    },
    {
     "name": "stdout",
     "output_type": "stream",
     "text": [
      "MoviePy - Done.\n",
      "완료됬습니다.\n",
      "file name:lqKwKmtMf2A_8\n",
      "read new file\n",
      "   start    end  label\n",
      "0  35.51  36.05     17\n",
      "35.51 36.05 17\n",
      "MoviePy - Writing audio in ./data/audio_label_clip/activate\\gae_17.wav\n"
     ]
    },
    {
     "name": "stderr",
     "output_type": "stream",
     "text": [
      "                                                               \r"
     ]
    },
    {
     "name": "stdout",
     "output_type": "stream",
     "text": [
      "MoviePy - Done.\n",
      "완료됬습니다.\n",
      "file name:lqKwKmtMf2A_9\n",
      "read new file\n",
      "   start    end  label\n",
      "0  37.95  38.52     10\n",
      "37.95 38.52 10\n",
      "MoviePy - Writing audio in ./data/audio_label_clip/activate\\shi_59.wav\n"
     ]
    },
    {
     "name": "stderr",
     "output_type": "stream",
     "text": [
      "                                                               \r"
     ]
    },
    {
     "name": "stdout",
     "output_type": "stream",
     "text": [
      "MoviePy - Done.\n",
      "완료됬습니다.\n",
      "file name:MAm2XT9ouWg_0\n",
      "read new file\n",
      "   start   end  label\n",
      "0   6.72  7.06     10\n",
      "6.72 7.06 10\n",
      "MoviePy - Writing audio in ./data/audio_label_clip/activate\\shi_60.wav\n"
     ]
    },
    {
     "name": "stderr",
     "output_type": "stream",
     "text": [
      "                                                              "
     ]
    },
    {
     "name": "stdout",
     "output_type": "stream",
     "text": [
      "MoviePy - Done.\n",
      "완료됬습니다.\n",
      "file name:Nl5i5RyAKyU_0\n",
      "read new file\n",
      "   start   end  label\n",
      "0   2.46  4.36      0\n",
      "2.46 4.36 0\n"
     ]
    },
    {
     "name": "stderr",
     "output_type": "stream",
     "text": [
      "\r"
     ]
    },
    {
     "name": "stdout",
     "output_type": "stream",
     "text": [
      "MoviePy - Writing audio in ./data/audio_label_clip/negative\\negative_153.wav\n"
     ]
    },
    {
     "name": "stderr",
     "output_type": "stream",
     "text": [
      "                                                               "
     ]
    },
    {
     "name": "stdout",
     "output_type": "stream",
     "text": [
      "MoviePy - Done.\n",
      "완료됬습니다.\n",
      "file name:Nl5i5RyAKyU_1\n",
      "read new file\n",
      "   start  end  label\n",
      "0   4.73  5.4     13\n",
      "4.73 5.4 13\n"
     ]
    },
    {
     "name": "stderr",
     "output_type": "stream",
     "text": [
      "\r"
     ]
    },
    {
     "name": "stdout",
     "output_type": "stream",
     "text": [
      "MoviePy - Writing audio in ./data/audio_label_clip/activate\\byoung_5.wav\n"
     ]
    },
    {
     "name": "stderr",
     "output_type": "stream",
     "text": [
      "                                                               "
     ]
    },
    {
     "name": "stdout",
     "output_type": "stream",
     "text": [
      "MoviePy - Done.\n",
      "완료됬습니다.\n",
      "file name:Nl5i5RyAKyU_10\n",
      "read new file\n",
      "   start    end  label\n",
      "0  18.83  19.05     13\n",
      "18.83 19.05 13\n"
     ]
    },
    {
     "name": "stderr",
     "output_type": "stream",
     "text": [
      "\r"
     ]
    },
    {
     "name": "stdout",
     "output_type": "stream",
     "text": [
      "MoviePy - Writing audio in ./data/audio_label_clip/activate\\byoung_6.wav\n"
     ]
    },
    {
     "name": "stderr",
     "output_type": "stream",
     "text": [
      "                                                              "
     ]
    },
    {
     "name": "stdout",
     "output_type": "stream",
     "text": [
      "MoviePy - Done.\n",
      "완료됬습니다.\n",
      "file name:Nl5i5RyAKyU_11\n",
      "read new file\n",
      "   start     end  label\n",
      "0  19.77  21.869      0\n",
      "19.77 21.869 0\n"
     ]
    },
    {
     "name": "stderr",
     "output_type": "stream",
     "text": [
      "\r"
     ]
    },
    {
     "name": "stdout",
     "output_type": "stream",
     "text": [
      "MoviePy - Writing audio in ./data/audio_label_clip/negative\\negative_154.wav\n"
     ]
    },
    {
     "name": "stderr",
     "output_type": "stream",
     "text": [
      "                                                               \r"
     ]
    },
    {
     "name": "stdout",
     "output_type": "stream",
     "text": [
      "MoviePy - Done.\n",
      "완료됬습니다.\n",
      "file name:Nl5i5RyAKyU_12\n",
      "read new file\n",
      "    start    end  label\n",
      "0  21.869  25.42      0\n",
      "21.869 25.42 0\n",
      "MoviePy - Writing audio in ./data/audio_label_clip/negative\\negative_155.wav\n"
     ]
    },
    {
     "name": "stderr",
     "output_type": "stream",
     "text": [
      "                                                               \r"
     ]
    },
    {
     "name": "stdout",
     "output_type": "stream",
     "text": [
      "MoviePy - Done.\n",
      "완료됬습니다.\n",
      "file name:Nl5i5RyAKyU_13\n",
      "read new file\n",
      "   start    end  label\n",
      "0  26.26  26.66     11\n",
      "26.26 26.66 11\n",
      "MoviePy - Writing audio in ./data/audio_label_clip/activate\\jon_2.wav\n"
     ]
    },
    {
     "name": "stderr",
     "output_type": "stream",
     "text": [
      "                                                              "
     ]
    },
    {
     "name": "stdout",
     "output_type": "stream",
     "text": [
      "MoviePy - Done.\n",
      "완료됬습니다.\n",
      "file name:Nl5i5RyAKyU_14\n",
      "read new file\n",
      "   start    end  label\n",
      "0  27.25  27.56      8\n",
      "27.25 27.56 8\n"
     ]
    },
    {
     "name": "stderr",
     "output_type": "stream",
     "text": [
      "\r"
     ]
    },
    {
     "name": "stdout",
     "output_type": "stream",
     "text": [
      "file name:Nl5i5RyAKyU_15\n",
      "read new file\n",
      "   start   end  label\n",
      "0  31.08  37.3      0\n",
      "31.08 37.3 0\n",
      "MoviePy - Writing audio in ./data/audio_label_clip/negative\\negative_156.wav\n"
     ]
    },
    {
     "name": "stderr",
     "output_type": "stream",
     "text": [
      "                                                                   \r"
     ]
    },
    {
     "name": "stdout",
     "output_type": "stream",
     "text": [
      "MoviePy - Done.\n",
      "완료됬습니다.\n",
      "file name:Nl5i5RyAKyU_16\n",
      "read new file\n",
      "   start    end  label\n",
      "0  37.36  37.66     11\n",
      "37.36 37.66 11\n",
      "MoviePy - Writing audio in ./data/audio_label_clip/activate\\jon_3.wav\n"
     ]
    },
    {
     "name": "stderr",
     "output_type": "stream",
     "text": [
      "                                                              "
     ]
    },
    {
     "name": "stdout",
     "output_type": "stream",
     "text": [
      "MoviePy - Done.\n",
      "완료됬습니다.\n",
      "file name:Nl5i5RyAKyU_17\n",
      "read new file\n"
     ]
    },
    {
     "name": "stderr",
     "output_type": "stream",
     "text": [
      "\r"
     ]
    },
    {
     "name": "stdout",
     "output_type": "stream",
     "text": [
      "   start    end  label\n",
      "0  38.52  41.49      0\n",
      "38.52 41.49 0\n",
      "MoviePy - Writing audio in ./data/audio_label_clip/negative\\negative_157.wav\n"
     ]
    },
    {
     "name": "stderr",
     "output_type": "stream",
     "text": [
      "                                                               \r"
     ]
    },
    {
     "name": "stdout",
     "output_type": "stream",
     "text": [
      "MoviePy - Done.\n",
      "완료됬습니다.\n",
      "file name:Nl5i5RyAKyU_18\n",
      "read new file\n",
      "   start    end  label\n",
      "0  42.02  42.41     10\n",
      "42.02 42.41 10\n",
      "MoviePy - Writing audio in ./data/audio_label_clip/activate\\shi_61.wav\n"
     ]
    },
    {
     "name": "stderr",
     "output_type": "stream",
     "text": [
      "                                                              "
     ]
    },
    {
     "name": "stdout",
     "output_type": "stream",
     "text": [
      "MoviePy - Done.\n",
      "완료됬습니다.\n",
      "file name:Nl5i5RyAKyU_19\n",
      "read new file\n"
     ]
    },
    {
     "name": "stderr",
     "output_type": "stream",
     "text": [
      "\r"
     ]
    },
    {
     "name": "stdout",
     "output_type": "stream",
     "text": [
      "   start    end  label\n",
      "0  44.61  46.29      0\n",
      "44.61 46.29 0\n",
      "MoviePy - Writing audio in ./data/audio_label_clip/negative\\negative_158.wav\n"
     ]
    },
    {
     "name": "stderr",
     "output_type": "stream",
     "text": [
      "                                                               \r"
     ]
    },
    {
     "name": "stdout",
     "output_type": "stream",
     "text": [
      "MoviePy - Done.\n",
      "완료됬습니다.\n",
      "file name:Nl5i5RyAKyU_2\n",
      "read new file\n",
      "   start   end  label\n",
      "0    6.0  6.39     12\n",
      "6.0 6.39 12\n",
      "MoviePy - Writing audio in ./data/audio_label_clip/activate\\sha_22.wav\n"
     ]
    },
    {
     "name": "stderr",
     "output_type": "stream",
     "text": [
      "                                                              "
     ]
    },
    {
     "name": "stdout",
     "output_type": "stream",
     "text": [
      "MoviePy - Done.\n",
      "완료됬습니다.\n",
      "file name:Nl5i5RyAKyU_20\n",
      "read new file\n",
      "   start    end  label\n",
      "0  46.44  50.33      0\n",
      "46.44 50.33 0\n"
     ]
    },
    {
     "name": "stderr",
     "output_type": "stream",
     "text": [
      "\r"
     ]
    },
    {
     "name": "stdout",
     "output_type": "stream",
     "text": [
      "MoviePy - Writing audio in ./data/audio_label_clip/negative\\negative_159.wav\n"
     ]
    },
    {
     "name": "stderr",
     "output_type": "stream",
     "text": [
      "                                                               \r"
     ]
    },
    {
     "name": "stdout",
     "output_type": "stream",
     "text": [
      "MoviePy - Done.\n",
      "완료됬습니다.\n",
      "file name:Nl5i5RyAKyU_3\n",
      "read new file\n",
      "   start   end  label\n",
      "0   6.39  9.25      0\n",
      "6.39 9.25 0\n",
      "MoviePy - Writing audio in ./data/audio_label_clip/negative\\negative_160.wav\n"
     ]
    },
    {
     "name": "stderr",
     "output_type": "stream",
     "text": [
      "                                                               \r"
     ]
    },
    {
     "name": "stdout",
     "output_type": "stream",
     "text": [
      "MoviePy - Done.\n",
      "완료됬습니다.\n",
      "file name:Nl5i5RyAKyU_4\n",
      "read new file\n",
      "   start  end  label\n",
      "0   9.25  9.8     13\n",
      "9.25 9.8 13\n",
      "MoviePy - Writing audio in ./data/audio_label_clip/activate\\byoung_7.wav\n"
     ]
    },
    {
     "name": "stderr",
     "output_type": "stream",
     "text": [
      "                                                               "
     ]
    },
    {
     "name": "stdout",
     "output_type": "stream",
     "text": [
      "MoviePy - Done.\n",
      "완료됬습니다.\n",
      "file name:Nl5i5RyAKyU_5\n",
      "read new file\n",
      "   start    end  label\n",
      "0  10.37  10.65     10\n",
      "10.37 10.65 10\n"
     ]
    },
    {
     "name": "stderr",
     "output_type": "stream",
     "text": [
      "\r"
     ]
    },
    {
     "name": "stdout",
     "output_type": "stream",
     "text": [
      "MoviePy - Writing audio in ./data/audio_label_clip/activate\\shi_62.wav\n"
     ]
    },
    {
     "name": "stderr",
     "output_type": "stream",
     "text": [
      "                                                              "
     ]
    },
    {
     "name": "stdout",
     "output_type": "stream",
     "text": [
      "MoviePy - Done.\n",
      "완료됬습니다.\n",
      "file name:Nl5i5RyAKyU_6\n",
      "read new file\n",
      "   start    end  label\n",
      "0  11.69  13.55      0\n",
      "11.69 13.55 0\n"
     ]
    },
    {
     "name": "stderr",
     "output_type": "stream",
     "text": [
      "\r"
     ]
    },
    {
     "name": "stdout",
     "output_type": "stream",
     "text": [
      "MoviePy - Writing audio in ./data/audio_label_clip/negative\\negative_161.wav\n"
     ]
    },
    {
     "name": "stderr",
     "output_type": "stream",
     "text": [
      "                                                               "
     ]
    },
    {
     "name": "stdout",
     "output_type": "stream",
     "text": [
      "MoviePy - Done.\n",
      "완료됬습니다.\n",
      "file name:Nl5i5RyAKyU_7\n",
      "read new file\n"
     ]
    },
    {
     "name": "stderr",
     "output_type": "stream",
     "text": [
      "\r"
     ]
    },
    {
     "name": "stdout",
     "output_type": "stream",
     "text": [
      "   start    end  label\n",
      "0  13.55  13.99     10\n",
      "13.55 13.99 10\n",
      "MoviePy - Writing audio in ./data/audio_label_clip/activate\\shi_63.wav\n"
     ]
    },
    {
     "name": "stderr",
     "output_type": "stream",
     "text": [
      "                                                               "
     ]
    },
    {
     "name": "stdout",
     "output_type": "stream",
     "text": [
      "MoviePy - Done.\n",
      "완료됬습니다.\n",
      "file name:Nl5i5RyAKyU_8\n",
      "read new file\n",
      "   start    end  label\n",
      "0  13.99  17.25      0\n",
      "13.99 17.25 0\n"
     ]
    },
    {
     "name": "stderr",
     "output_type": "stream",
     "text": [
      "\r"
     ]
    },
    {
     "name": "stdout",
     "output_type": "stream",
     "text": [
      "MoviePy - Writing audio in ./data/audio_label_clip/negative\\negative_162.wav\n"
     ]
    },
    {
     "name": "stderr",
     "output_type": "stream",
     "text": [
      "                                                               \r"
     ]
    },
    {
     "name": "stdout",
     "output_type": "stream",
     "text": [
      "MoviePy - Done.\n",
      "완료됬습니다.\n",
      "file name:Nl5i5RyAKyU_9\n",
      "read new file\n",
      "   start    end  label\n",
      "0  17.25  18.61      0\n",
      "17.25 18.61 0\n",
      "MoviePy - Writing audio in ./data/audio_label_clip/negative\\negative_163.wav\n"
     ]
    },
    {
     "name": "stderr",
     "output_type": "stream",
     "text": [
      "                                                               \r"
     ]
    },
    {
     "name": "stdout",
     "output_type": "stream",
     "text": [
      "MoviePy - Done.\n",
      "완료됬습니다.\n",
      "file name:nYBERR1xr1E_0\n",
      "read new file\n",
      "   start   end  label\n",
      "0   3.72  4.26     10\n",
      "3.72 4.26 10\n",
      "MoviePy - Writing audio in ./data/audio_label_clip/activate\\shi_64.wav\n"
     ]
    },
    {
     "name": "stderr",
     "output_type": "stream",
     "text": [
      "                                                               "
     ]
    },
    {
     "name": "stdout",
     "output_type": "stream",
     "text": [
      "MoviePy - Done.\n",
      "완료됬습니다.\n",
      "file name:nYBERR1xr1E_1\n",
      "read new file\n",
      "   start  end  label\n",
      "0   4.26  5.0      0\n",
      "4.26 5.0 0\n"
     ]
    },
    {
     "name": "stderr",
     "output_type": "stream",
     "text": [
      "\r"
     ]
    },
    {
     "name": "stdout",
     "output_type": "stream",
     "text": [
      "MoviePy - Writing audio in ./data/audio_label_clip/negative\\negative_164.wav\n"
     ]
    },
    {
     "name": "stderr",
     "output_type": "stream",
     "text": [
      "                                                               "
     ]
    },
    {
     "name": "stdout",
     "output_type": "stream",
     "text": [
      "MoviePy - Done.\n",
      "완료됬습니다.\n",
      "file name:nYBERR1xr1E_2\n",
      "read new file\n",
      "   start   end  label\n",
      "0   6.47  6.75     12\n",
      "6.47 6.75 12\n"
     ]
    },
    {
     "name": "stderr",
     "output_type": "stream",
     "text": [
      "\r"
     ]
    },
    {
     "name": "stdout",
     "output_type": "stream",
     "text": [
      "MoviePy - Writing audio in ./data/audio_label_clip/activate\\sha_23.wav\n"
     ]
    },
    {
     "name": "stderr",
     "output_type": "stream",
     "text": [
      "                                                              "
     ]
    },
    {
     "name": "stdout",
     "output_type": "stream",
     "text": [
      "MoviePy - Done.\n",
      "완료됬습니다.\n",
      "file name:nYBERR1xr1E_3\n",
      "read new file\n",
      "   start    end  label\n",
      "0  10.18  15.34      0\n",
      "10.18 15.34 0\n"
     ]
    },
    {
     "name": "stderr",
     "output_type": "stream",
     "text": [
      "\r"
     ]
    },
    {
     "name": "stdout",
     "output_type": "stream",
     "text": [
      "MoviePy - Writing audio in ./data/audio_label_clip/negative\\negative_165.wav\n"
     ]
    },
    {
     "name": "stderr",
     "output_type": "stream",
     "text": [
      "                                                                \r"
     ]
    },
    {
     "name": "stdout",
     "output_type": "stream",
     "text": [
      "MoviePy - Done.\n",
      "완료됬습니다.\n",
      "file name:nYBERR1xr1E_4\n",
      "read new file\n",
      "   start    end  label\n",
      "0  15.34  16.02     10\n",
      "15.34 16.02 10\n",
      "MoviePy - Writing audio in ./data/audio_label_clip/activate\\shi_65.wav\n"
     ]
    },
    {
     "name": "stderr",
     "output_type": "stream",
     "text": [
      "                                                               "
     ]
    },
    {
     "name": "stdout",
     "output_type": "stream",
     "text": [
      "MoviePy - Done.\n",
      "완료됬습니다.\n",
      "file name:nYBERR1xr1E_5\n",
      "read new file\n",
      "   start    end  label\n",
      "0  16.68  21.52      0\n",
      "16.68 21.52 0\n"
     ]
    },
    {
     "name": "stderr",
     "output_type": "stream",
     "text": [
      "\r"
     ]
    },
    {
     "name": "stdout",
     "output_type": "stream",
     "text": [
      "MoviePy - Writing audio in ./data/audio_label_clip/negative\\negative_166.wav\n"
     ]
    },
    {
     "name": "stderr",
     "output_type": "stream",
     "text": [
      "                                                                \r"
     ]
    },
    {
     "name": "stdout",
     "output_type": "stream",
     "text": [
      "MoviePy - Done.\n",
      "완료됬습니다.\n",
      "file name:nYBERR1xr1E_6\n",
      "read new file\n",
      "   start    end  label\n",
      "0  22.14  25.82      0\n",
      "22.14 25.82 0\n",
      "MoviePy - Writing audio in ./data/audio_label_clip/negative\\negative_167.wav\n"
     ]
    },
    {
     "name": "stderr",
     "output_type": "stream",
     "text": [
      "                                                               \r"
     ]
    },
    {
     "name": "stdout",
     "output_type": "stream",
     "text": [
      "MoviePy - Done.\n",
      "완료됬습니다.\n",
      "file name:o4nZ4672fU8_0\n",
      "read new file\n",
      "   start   end  label\n",
      "0    0.0  3.62      0\n",
      "0.0 3.62 0\n",
      "MoviePy - Writing audio in ./data/audio_label_clip/negative\\negative_168.wav\n"
     ]
    },
    {
     "name": "stderr",
     "output_type": "stream",
     "text": [
      "                                                               "
     ]
    },
    {
     "name": "stdout",
     "output_type": "stream",
     "text": [
      "MoviePy - Done.\n",
      "완료됬습니다.\n",
      "file name:o4nZ4672fU8_1\n",
      "read new file\n"
     ]
    },
    {
     "name": "stderr",
     "output_type": "stream",
     "text": [
      "\r"
     ]
    },
    {
     "name": "stdout",
     "output_type": "stream",
     "text": [
      "   start   end  label\n",
      "0   7.85  8.43     10\n",
      "7.85 8.43 10\n",
      "MoviePy - Writing audio in ./data/audio_label_clip/activate\\shi_66.wav\n"
     ]
    },
    {
     "name": "stderr",
     "output_type": "stream",
     "text": [
      "                                                               "
     ]
    },
    {
     "name": "stdout",
     "output_type": "stream",
     "text": [
      "MoviePy - Done.\n",
      "완료됬습니다.\n",
      "file name:o4nZ4672fU8_2\n",
      "read new file\n",
      "   start    end  label\n",
      "0  15.13  16.02      0\n",
      "15.13 16.02 0\n"
     ]
    },
    {
     "name": "stderr",
     "output_type": "stream",
     "text": [
      "\r"
     ]
    },
    {
     "name": "stdout",
     "output_type": "stream",
     "text": [
      "MoviePy - Writing audio in ./data/audio_label_clip/negative\\negative_169.wav\n"
     ]
    },
    {
     "name": "stderr",
     "output_type": "stream",
     "text": [
      "                                                               "
     ]
    },
    {
     "name": "stdout",
     "output_type": "stream",
     "text": [
      "MoviePy - Done.\n",
      "완료됬습니다.\n",
      "file name:o4nZ4672fU8_3\n",
      "read new file\n",
      "   start    end  label\n",
      "0  16.09  20.02      0\n",
      "16.09 20.02 0\n"
     ]
    },
    {
     "name": "stderr",
     "output_type": "stream",
     "text": [
      "\r"
     ]
    },
    {
     "name": "stdout",
     "output_type": "stream",
     "text": [
      "MoviePy - Writing audio in ./data/audio_label_clip/negative\\negative_170.wav\n"
     ]
    },
    {
     "name": "stderr",
     "output_type": "stream",
     "text": [
      "                                                               \r"
     ]
    },
    {
     "name": "stdout",
     "output_type": "stream",
     "text": [
      "MoviePy - Done.\n",
      "완료됬습니다.\n",
      "file name:o4nZ4672fU8_4\n",
      "read new file\n",
      "   start    end  label\n",
      "0  20.25  22.21      0\n",
      "20.25 22.21 0\n",
      "MoviePy - Writing audio in ./data/audio_label_clip/negative\\negative_171.wav\n"
     ]
    },
    {
     "name": "stderr",
     "output_type": "stream",
     "text": [
      "                                                               \r"
     ]
    },
    {
     "name": "stdout",
     "output_type": "stream",
     "text": [
      "MoviePy - Done.\n",
      "완료됬습니다.\n",
      "file name:o4nZ4672fU8_5\n",
      "read new file\n",
      "   start    end  label\n",
      "0  25.48  25.93     18\n",
      "25.48 25.93 18\n",
      "MoviePy - Writing audio in ./data/audio_label_clip/activate\\jot_3.wav\n"
     ]
    },
    {
     "name": "stderr",
     "output_type": "stream",
     "text": [
      "                                                               "
     ]
    },
    {
     "name": "stdout",
     "output_type": "stream",
     "text": [
      "MoviePy - Done.\n",
      "완료됬습니다.\n",
      "file name:o4nZ4672fU8_6\n",
      "read new file\n",
      "    start   end  label\n",
      "0  37.084  44.2      0\n",
      "37.084 44.2 0\n"
     ]
    },
    {
     "name": "stderr",
     "output_type": "stream",
     "text": [
      "\r"
     ]
    },
    {
     "name": "stdout",
     "output_type": "stream",
     "text": [
      "MoviePy - Writing audio in ./data/audio_label_clip/negative\\negative_172.wav\n"
     ]
    },
    {
     "name": "stderr",
     "output_type": "stream",
     "text": [
      "                                                                   \r"
     ]
    },
    {
     "name": "stdout",
     "output_type": "stream",
     "text": [
      "MoviePy - Done.\n",
      "완료됬습니다.\n",
      "file name:o7X_jwhBFpI_0\n",
      "read new file\n",
      "   start   end  label\n",
      "0   0.51  1.04     12\n",
      "0.51 1.04 12\n",
      "MoviePy - Writing audio in ./data/audio_label_clip/activate\\sha_24.wav\n"
     ]
    },
    {
     "name": "stderr",
     "output_type": "stream",
     "text": [
      "                                                               "
     ]
    },
    {
     "name": "stdout",
     "output_type": "stream",
     "text": [
      "MoviePy - Done.\n",
      "완료됬습니다.\n",
      "file name:o7X_jwhBFpI_1\n",
      "read new file\n",
      "   start   end  label\n",
      "0   1.08  7.76      0\n",
      "1.08 7.76 0\n"
     ]
    },
    {
     "name": "stderr",
     "output_type": "stream",
     "text": [
      "\r"
     ]
    },
    {
     "name": "stdout",
     "output_type": "stream",
     "text": [
      "MoviePy - Writing audio in ./data/audio_label_clip/negative\\negative_173.wav\n"
     ]
    },
    {
     "name": "stderr",
     "output_type": "stream",
     "text": [
      "                                                                   \r"
     ]
    },
    {
     "name": "stdout",
     "output_type": "stream",
     "text": [
      "MoviePy - Done.\n",
      "완료됬습니다.\n",
      "file name:o7X_jwhBFpI_10\n",
      "read new file\n",
      "   start    end  label\n",
      "0  22.64  23.15     18\n",
      "22.64 23.15 18\n",
      "MoviePy - Writing audio in ./data/audio_label_clip/activate\\jot_4.wav\n"
     ]
    },
    {
     "name": "stderr",
     "output_type": "stream",
     "text": [
      "                                                               "
     ]
    },
    {
     "name": "stdout",
     "output_type": "stream",
     "text": [
      "MoviePy - Done.\n",
      "완료됬습니다.\n",
      "file name:o7X_jwhBFpI_11\n",
      "read new file\n",
      "   start   end  label\n",
      "0  23.15  23.6     12\n",
      "23.15 23.6 12\n"
     ]
    },
    {
     "name": "stderr",
     "output_type": "stream",
     "text": [
      "\r"
     ]
    },
    {
     "name": "stdout",
     "output_type": "stream",
     "text": [
      "MoviePy - Writing audio in ./data/audio_label_clip/activate\\sha_25.wav\n"
     ]
    },
    {
     "name": "stderr",
     "output_type": "stream",
     "text": [
      "                                                               "
     ]
    },
    {
     "name": "stdout",
     "output_type": "stream",
     "text": [
      "MoviePy - Done.\n",
      "완료됬습니다.\n",
      "file name:o7X_jwhBFpI_12\n",
      "read new file\n",
      "   start    end  label\n",
      "0  24.27  24.73     10\n",
      "24.27 24.73 10\n"
     ]
    },
    {
     "name": "stderr",
     "output_type": "stream",
     "text": [
      "\r"
     ]
    },
    {
     "name": "stdout",
     "output_type": "stream",
     "text": [
      "MoviePy - Writing audio in ./data/audio_label_clip/activate\\shi_67.wav\n"
     ]
    },
    {
     "name": "stderr",
     "output_type": "stream",
     "text": [
      "                                                               "
     ]
    },
    {
     "name": "stdout",
     "output_type": "stream",
     "text": [
      "MoviePy - Done.\n",
      "완료됬습니다.\n",
      "file name:o7X_jwhBFpI_13\n",
      "read new file\n",
      "   start    end  label\n",
      "0  26.68  27.07     12\n",
      "26.68 27.07 12\n"
     ]
    },
    {
     "name": "stderr",
     "output_type": "stream",
     "text": [
      "\r"
     ]
    },
    {
     "name": "stdout",
     "output_type": "stream",
     "text": [
      "MoviePy - Writing audio in ./data/audio_label_clip/activate\\sha_26.wav\n"
     ]
    },
    {
     "name": "stderr",
     "output_type": "stream",
     "text": [
      "                                                              "
     ]
    },
    {
     "name": "stdout",
     "output_type": "stream",
     "text": [
      "MoviePy - Done.\n",
      "완료됬습니다.\n",
      "file name:o7X_jwhBFpI_2\n",
      "read new file\n",
      "   start    end  label\n",
      "0   7.76  10.21      0\n",
      "7.76 10.21 0\n"
     ]
    },
    {
     "name": "stderr",
     "output_type": "stream",
     "text": [
      "\r"
     ]
    },
    {
     "name": "stdout",
     "output_type": "stream",
     "text": [
      "MoviePy - Writing audio in ./data/audio_label_clip/negative\\negative_174.wav\n"
     ]
    },
    {
     "name": "stderr",
     "output_type": "stream",
     "text": [
      "                                                               "
     ]
    },
    {
     "name": "stdout",
     "output_type": "stream",
     "text": [
      "MoviePy - Done."
     ]
    },
    {
     "name": "stderr",
     "output_type": "stream",
     "text": [
      "\r"
     ]
    },
    {
     "name": "stdout",
     "output_type": "stream",
     "text": [
      "\n",
      "완료됬습니다.\n",
      "file name:o7X_jwhBFpI_3\n",
      "read new file\n",
      "   start    end  label\n",
      "0  10.21  10.94     10\n",
      "10.21 10.94 10\n",
      "MoviePy - Writing audio in ./data/audio_label_clip/activate\\shi_68.wav\n"
     ]
    },
    {
     "name": "stderr",
     "output_type": "stream",
     "text": [
      "                                                               "
     ]
    },
    {
     "name": "stdout",
     "output_type": "stream",
     "text": [
      "MoviePy - Done.\n",
      "완료됬습니다.\n",
      "file name:o7X_jwhBFpI_4\n",
      "read new file\n",
      "   start    end  label\n",
      "0  10.94  12.95      0\n",
      "10.94 12.95 0\n"
     ]
    },
    {
     "name": "stderr",
     "output_type": "stream",
     "text": [
      "\r"
     ]
    },
    {
     "name": "stdout",
     "output_type": "stream",
     "text": [
      "MoviePy - Writing audio in ./data/audio_label_clip/negative\\negative_175.wav\n"
     ]
    },
    {
     "name": "stderr",
     "output_type": "stream",
     "text": [
      "                                                               \r"
     ]
    },
    {
     "name": "stdout",
     "output_type": "stream",
     "text": [
      "MoviePy - Done.\n",
      "완료됬습니다.\n",
      "file name:o7X_jwhBFpI_5\n",
      "read new file\n",
      "   start    end  label\n",
      "0  13.27  13.89     10\n",
      "13.27 13.89 10\n",
      "MoviePy - Writing audio in ./data/audio_label_clip/activate\\shi_69.wav\n"
     ]
    },
    {
     "name": "stderr",
     "output_type": "stream",
     "text": [
      "                                                               "
     ]
    },
    {
     "name": "stdout",
     "output_type": "stream",
     "text": [
      "MoviePy - Done.\n",
      "완료됬습니다.\n",
      "file name:o7X_jwhBFpI_6\n",
      "read new file\n",
      "   start    end  label\n",
      "0  14.44  14.63     12\n",
      "14.44 14.63 12\n"
     ]
    },
    {
     "name": "stderr",
     "output_type": "stream",
     "text": [
      "\r"
     ]
    },
    {
     "name": "stdout",
     "output_type": "stream",
     "text": [
      "MoviePy - Writing audio in ./data/audio_label_clip/activate\\sha_27.wav\n"
     ]
    },
    {
     "name": "stderr",
     "output_type": "stream",
     "text": [
      "                                                              "
     ]
    },
    {
     "name": "stdout",
     "output_type": "stream",
     "text": [
      "MoviePy - Done.\n",
      "완료됬습니다.\n",
      "file name:o7X_jwhBFpI_7\n",
      "read new file\n",
      "   start    end  label\n",
      "0  14.72  14.98     18\n",
      "14.72 14.98 18\n"
     ]
    },
    {
     "name": "stderr",
     "output_type": "stream",
     "text": [
      "\r"
     ]
    },
    {
     "name": "stdout",
     "output_type": "stream",
     "text": [
      "MoviePy - Writing audio in ./data/audio_label_clip/activate\\jot_5.wav\n"
     ]
    },
    {
     "name": "stderr",
     "output_type": "stream",
     "text": [
      "                                                              "
     ]
    },
    {
     "name": "stdout",
     "output_type": "stream",
     "text": [
      "MoviePy - Done.\n",
      "완료됬습니다.\n",
      "file name:o7X_jwhBFpI_8\n",
      "read new file\n",
      "   start   end  label\n",
      "0  16.29  16.9     10\n",
      "16.29 16.9 10\n"
     ]
    },
    {
     "name": "stderr",
     "output_type": "stream",
     "text": [
      "\r"
     ]
    },
    {
     "name": "stdout",
     "output_type": "stream",
     "text": [
      "MoviePy - Writing audio in ./data/audio_label_clip/activate\\shi_70.wav\n"
     ]
    },
    {
     "name": "stderr",
     "output_type": "stream",
     "text": [
      "                                                               "
     ]
    },
    {
     "name": "stdout",
     "output_type": "stream",
     "text": [
      "MoviePy - Done.\n",
      "완료됬습니다.\n",
      "file name:o7X_jwhBFpI_9\n",
      "read new file\n",
      "   start   end  label\n",
      "0  20.29  21.0     10\n",
      "20.29 21.0 10\n"
     ]
    },
    {
     "name": "stderr",
     "output_type": "stream",
     "text": [
      "\r"
     ]
    },
    {
     "name": "stdout",
     "output_type": "stream",
     "text": [
      "MoviePy - Writing audio in ./data/audio_label_clip/activate\\shi_71.wav\n"
     ]
    },
    {
     "name": "stderr",
     "output_type": "stream",
     "text": [
      "                                                               "
     ]
    },
    {
     "name": "stdout",
     "output_type": "stream",
     "text": [
      "MoviePy - Done.\n",
      "완료됬습니다.\n",
      "file name:oZeVVcBgM_s_0\n",
      "read new file\n"
     ]
    },
    {
     "name": "stderr",
     "output_type": "stream",
     "text": [
      "\r"
     ]
    },
    {
     "name": "stdout",
     "output_type": "stream",
     "text": [
      "   start   end  label\n",
      "0  0.359  3.06      0\n",
      "0.359 3.06 0\n",
      "MoviePy - Writing audio in ./data/audio_label_clip/negative\\negative_176.wav\n"
     ]
    },
    {
     "name": "stderr",
     "output_type": "stream",
     "text": [
      "                                                               \r"
     ]
    },
    {
     "name": "stdout",
     "output_type": "stream",
     "text": [
      "MoviePy - Done.\n",
      "완료됬습니다.\n",
      "file name:oZeVVcBgM_s_1\n",
      "read new file\n",
      "   start   end  label\n",
      "0   3.06  7.23      0\n",
      "3.06 7.23 0\n",
      "MoviePy - Writing audio in ./data/audio_label_clip/negative\\negative_177.wav\n"
     ]
    },
    {
     "name": "stderr",
     "output_type": "stream",
     "text": [
      "                                                               \r"
     ]
    },
    {
     "name": "stdout",
     "output_type": "stream",
     "text": [
      "MoviePy - Done.\n",
      "완료됬습니다.\n",
      "file name:oZeVVcBgM_s_10\n",
      "read new file\n",
      "   start    end  label\n",
      "0  37.36  41.32      0\n",
      "37.36 41.32 0\n",
      "MoviePy - Writing audio in ./data/audio_label_clip/negative\\negative_178.wav\n"
     ]
    },
    {
     "name": "stderr",
     "output_type": "stream",
     "text": [
      "                                                               \r"
     ]
    },
    {
     "name": "stdout",
     "output_type": "stream",
     "text": [
      "MoviePy - Done.\n",
      "완료됬습니다.\n",
      "file name:oZeVVcBgM_s_11\n",
      "read new file\n",
      "   start    end  label\n",
      "0  42.75  43.05     12\n",
      "42.75 43.05 12\n",
      "MoviePy - Writing audio in ./data/audio_label_clip/activate\\sha_28.wav\n"
     ]
    },
    {
     "name": "stderr",
     "output_type": "stream",
     "text": [
      "                                                              \r"
     ]
    },
    {
     "name": "stdout",
     "output_type": "stream",
     "text": [
      "MoviePy - Done.\n",
      "완료됬습니다.\n",
      "file name:oZeVVcBgM_s_12\n",
      "read new file\n",
      "   start    end  label\n",
      "0  43.05  46.09      0\n",
      "43.05 46.09 0\n",
      "MoviePy - Writing audio in ./data/audio_label_clip/negative\\negative_179.wav\n"
     ]
    },
    {
     "name": "stderr",
     "output_type": "stream",
     "text": [
      "                                                               \r"
     ]
    },
    {
     "name": "stdout",
     "output_type": "stream",
     "text": [
      "MoviePy - Done.\n",
      "완료됬습니다.\n",
      "file name:oZeVVcBgM_s_2\n",
      "read new file\n",
      "   start   end  label\n",
      "0   7.23  7.65      8\n",
      "7.23 7.65 8\n",
      "file name:oZeVVcBgM_s_3\n",
      "read new file\n",
      "   start   end  label\n",
      "0   7.65  7.84     18\n",
      "7.65 7.84 18\n",
      "MoviePy - Writing audio in ./data/audio_label_clip/activate\\jot_6.wav\n"
     ]
    },
    {
     "name": "stderr",
     "output_type": "stream",
     "text": [
      "                                                              "
     ]
    },
    {
     "name": "stdout",
     "output_type": "stream",
     "text": [
      "MoviePy - Done.\n",
      "완료됬습니다.\n",
      "file name:oZeVVcBgM_s_4\n",
      "read new file\n",
      "   start   end  label\n",
      "0  10.44  13.7      0\n",
      "10.44 13.7 0\n"
     ]
    },
    {
     "name": "stderr",
     "output_type": "stream",
     "text": [
      "\r"
     ]
    },
    {
     "name": "stdout",
     "output_type": "stream",
     "text": [
      "MoviePy - Writing audio in ./data/audio_label_clip/negative\\negative_180.wav\n"
     ]
    },
    {
     "name": "stderr",
     "output_type": "stream",
     "text": [
      "                                                               \r"
     ]
    },
    {
     "name": "stdout",
     "output_type": "stream",
     "text": [
      "MoviePy - Done.\n",
      "완료됬습니다.\n",
      "file name:oZeVVcBgM_s_5\n",
      "read new file\n",
      "   start    end  label\n",
      "0   13.7  19.36      0\n",
      "13.7 19.36 0\n",
      "MoviePy - Writing audio in ./data/audio_label_clip/negative\\negative_181.wav\n"
     ]
    },
    {
     "name": "stderr",
     "output_type": "stream",
     "text": [
      "                                                                \r"
     ]
    },
    {
     "name": "stdout",
     "output_type": "stream",
     "text": [
      "MoviePy - Done.\n",
      "완료됬습니다.\n",
      "file name:oZeVVcBgM_s_6\n",
      "read new file\n",
      "   start    end  label\n",
      "0   23.4  26.01      0\n",
      "23.4 26.01 0\n",
      "MoviePy - Writing audio in ./data/audio_label_clip/negative\\negative_182.wav\n"
     ]
    },
    {
     "name": "stderr",
     "output_type": "stream",
     "text": [
      "                                                               \r"
     ]
    },
    {
     "name": "stdout",
     "output_type": "stream",
     "text": [
      "MoviePy - Done.\n",
      "완료됬습니다.\n",
      "file name:oZeVVcBgM_s_7\n",
      "read new file\n",
      "   start    end  label\n",
      "0  26.59  26.96     12\n",
      "26.59 26.96 12\n",
      "MoviePy - Writing audio in ./data/audio_label_clip/activate\\sha_29.wav\n"
     ]
    },
    {
     "name": "stderr",
     "output_type": "stream",
     "text": [
      "                                                              "
     ]
    },
    {
     "name": "stdout",
     "output_type": "stream",
     "text": [
      "MoviePy - Done.\n",
      "완료됬습니다.\n",
      "file name:oZeVVcBgM_s_8\n",
      "read new file\n",
      "   start    end  label\n",
      "0   30.0  33.31      0\n",
      "30.0 33.31 0\n"
     ]
    },
    {
     "name": "stderr",
     "output_type": "stream",
     "text": [
      "\r"
     ]
    },
    {
     "name": "stdout",
     "output_type": "stream",
     "text": [
      "MoviePy - Writing audio in ./data/audio_label_clip/negative\\negative_183.wav\n"
     ]
    },
    {
     "name": "stderr",
     "output_type": "stream",
     "text": [
      "                                                               \r"
     ]
    },
    {
     "name": "stdout",
     "output_type": "stream",
     "text": [
      "MoviePy - Done.\n",
      "완료됬습니다.\n",
      "file name:oZeVVcBgM_s_9\n",
      "read new file\n",
      "   start    end  label\n",
      "0  33.69  37.36      0\n",
      "33.69 37.36 0\n",
      "MoviePy - Writing audio in ./data/audio_label_clip/negative\\negative_184.wav\n"
     ]
    },
    {
     "name": "stderr",
     "output_type": "stream",
     "text": [
      "                                                               \r"
     ]
    },
    {
     "name": "stdout",
     "output_type": "stream",
     "text": [
      "MoviePy - Done.\n",
      "완료됬습니다.\n",
      "file name:shCGuP1ugjE_0\n",
      "read new file\n",
      "   start   end  label\n",
      "0    0.0  2.27      0\n",
      "0.0 2.27 0\n",
      "MoviePy - Writing audio in ./data/audio_label_clip/negative\\negative_185.wav\n"
     ]
    },
    {
     "name": "stderr",
     "output_type": "stream",
     "text": [
      "                                                               "
     ]
    },
    {
     "name": "stdout",
     "output_type": "stream",
     "text": [
      "MoviePy - Done.\n",
      "완료됬습니다.\n",
      "file name:shCGuP1ugjE_1\n",
      "read new file\n",
      "   start   end  label\n",
      "0   2.27  3.87      0\n",
      "2.27 3.87 0\n"
     ]
    },
    {
     "name": "stderr",
     "output_type": "stream",
     "text": [
      "\r"
     ]
    },
    {
     "name": "stdout",
     "output_type": "stream",
     "text": [
      "MoviePy - Writing audio in ./data/audio_label_clip/negative\\negative_186.wav\n"
     ]
    },
    {
     "name": "stderr",
     "output_type": "stream",
     "text": [
      "                                                               "
     ]
    },
    {
     "name": "stdout",
     "output_type": "stream",
     "text": [
      "MoviePy - Done.\n",
      "완료됬습니다.\n",
      "file name:shCGuP1ugjE_10\n",
      "read new file\n",
      "   start    end  label\n",
      "0  26.07  29.01      0\n",
      "26.07 29.01 0\n"
     ]
    },
    {
     "name": "stderr",
     "output_type": "stream",
     "text": [
      "\r"
     ]
    },
    {
     "name": "stdout",
     "output_type": "stream",
     "text": [
      "MoviePy - Writing audio in ./data/audio_label_clip/negative\\negative_187.wav\n"
     ]
    },
    {
     "name": "stderr",
     "output_type": "stream",
     "text": [
      "                                                               \r"
     ]
    },
    {
     "name": "stdout",
     "output_type": "stream",
     "text": [
      "MoviePy - Done.\n",
      "완료됬습니다.\n",
      "file name:shCGuP1ugjE_11\n",
      "read new file\n",
      "   start    end  label\n",
      "0  30.08  32.02      0\n",
      "30.08 32.02 0\n",
      "MoviePy - Writing audio in ./data/audio_label_clip/negative\\negative_188.wav\n"
     ]
    },
    {
     "name": "stderr",
     "output_type": "stream",
     "text": [
      "                                                               \r"
     ]
    },
    {
     "name": "stdout",
     "output_type": "stream",
     "text": [
      "MoviePy - Done.\n",
      "완료됬습니다.\n",
      "file name:shCGuP1ugjE_12\n",
      "read new file\n",
      "   start    end  label\n",
      "0  32.28  33.35      0\n",
      "32.28 33.35 0\n",
      "MoviePy - Writing audio in ./data/audio_label_clip/negative\\negative_189.wav\n"
     ]
    },
    {
     "name": "stderr",
     "output_type": "stream",
     "text": [
      "                                                               \r"
     ]
    },
    {
     "name": "stdout",
     "output_type": "stream",
     "text": [
      "MoviePy - Done.\n",
      "완료됬습니다.\n",
      "file name:shCGuP1ugjE_13\n",
      "read new file\n",
      "   start    end  label\n",
      "0  33.66  35.44      0\n",
      "33.66 35.44 0\n",
      "MoviePy - Writing audio in ./data/audio_label_clip/negative\\negative_190.wav\n"
     ]
    },
    {
     "name": "stderr",
     "output_type": "stream",
     "text": [
      "                                                               \r"
     ]
    },
    {
     "name": "stdout",
     "output_type": "stream",
     "text": [
      "MoviePy - Done.\n",
      "완료됬습니다.\n",
      "file name:shCGuP1ugjE_14\n",
      "read new file\n",
      "   start    end  label\n",
      "0  35.44  37.64      0\n",
      "35.44 37.64 0\n",
      "MoviePy - Writing audio in ./data/audio_label_clip/negative\\negative_191.wav\n"
     ]
    },
    {
     "name": "stderr",
     "output_type": "stream",
     "text": [
      "                                                               \r"
     ]
    },
    {
     "name": "stdout",
     "output_type": "stream",
     "text": [
      "MoviePy - Done.\n",
      "완료됬습니다.\n",
      "file name:shCGuP1ugjE_15\n",
      "read new file\n",
      "   start    end  label\n",
      "0  37.64  39.28      0\n",
      "37.64 39.28 0\n",
      "MoviePy - Writing audio in ./data/audio_label_clip/negative\\negative_192.wav\n"
     ]
    },
    {
     "name": "stderr",
     "output_type": "stream",
     "text": [
      "                                                               \r"
     ]
    },
    {
     "name": "stdout",
     "output_type": "stream",
     "text": [
      "MoviePy - Done.\n",
      "완료됬습니다.\n",
      "file name:shCGuP1ugjE_16\n",
      "read new file\n",
      "   start    end  label\n",
      "0  39.28  45.12      0\n",
      "39.28 45.12 0\n",
      "MoviePy - Writing audio in ./data/audio_label_clip/negative\\negative_193.wav\n"
     ]
    },
    {
     "name": "stderr",
     "output_type": "stream",
     "text": [
      "                                                                \r"
     ]
    },
    {
     "name": "stdout",
     "output_type": "stream",
     "text": [
      "MoviePy - Done.\n",
      "완료됬습니다.\n",
      "file name:shCGuP1ugjE_17\n",
      "read new file\n",
      "   start    end  label\n",
      "0  45.12  46.44      0\n",
      "45.12 46.44 0\n",
      "MoviePy - Writing audio in ./data/audio_label_clip/negative\\negative_194.wav\n"
     ]
    },
    {
     "name": "stderr",
     "output_type": "stream",
     "text": [
      "                                                               \r"
     ]
    },
    {
     "name": "stdout",
     "output_type": "stream",
     "text": [
      "MoviePy - Done.\n",
      "완료됬습니다.\n",
      "file name:shCGuP1ugjE_18\n",
      "read new file\n",
      "   start    end  label\n",
      "0  46.57  48.02      0\n",
      "46.57 48.02 0\n",
      "MoviePy - Writing audio in ./data/audio_label_clip/negative\\negative_195.wav\n"
     ]
    },
    {
     "name": "stderr",
     "output_type": "stream",
     "text": [
      "                                                               \r"
     ]
    },
    {
     "name": "stdout",
     "output_type": "stream",
     "text": [
      "MoviePy - Done.\n",
      "완료됬습니다.\n",
      "file name:shCGuP1ugjE_19\n",
      "read new file\n",
      "   start    end  label\n",
      "0  48.02  49.54      0\n",
      "48.02 49.54 0\n",
      "MoviePy - Writing audio in ./data/audio_label_clip/negative\\negative_196.wav\n"
     ]
    },
    {
     "name": "stderr",
     "output_type": "stream",
     "text": [
      "                                                               \r"
     ]
    },
    {
     "name": "stdout",
     "output_type": "stream",
     "text": [
      "MoviePy - Done.\n",
      "완료됬습니다.\n",
      "file name:shCGuP1ugjE_2\n",
      "read new file\n",
      "   start   end  label\n",
      "0   3.87  4.61     10\n",
      "3.87 4.61 10\n",
      "MoviePy - Writing audio in ./data/audio_label_clip/activate\\shi_72.wav\n"
     ]
    },
    {
     "name": "stderr",
     "output_type": "stream",
     "text": [
      "                                                               "
     ]
    },
    {
     "name": "stdout",
     "output_type": "stream",
     "text": [
      "MoviePy - Done.\n",
      "완료됬습니다.\n",
      "file name:shCGuP1ugjE_20\n",
      "read new file\n",
      "   start    end  label\n",
      "0  49.54  51.35      0\n",
      "49.54 51.35 0\n"
     ]
    },
    {
     "name": "stderr",
     "output_type": "stream",
     "text": [
      "\r"
     ]
    },
    {
     "name": "stdout",
     "output_type": "stream",
     "text": [
      "MoviePy - Writing audio in ./data/audio_label_clip/negative\\negative_197.wav\n"
     ]
    },
    {
     "name": "stderr",
     "output_type": "stream",
     "text": [
      "                                                               \r"
     ]
    },
    {
     "name": "stdout",
     "output_type": "stream",
     "text": [
      "MoviePy - Done.\n",
      "완료됬습니다.\n",
      "file name:shCGuP1ugjE_21\n",
      "read new file\n",
      "   start    end  label\n",
      "0  51.35  52.32      0\n",
      "51.35 52.32 0\n",
      "MoviePy - Writing audio in ./data/audio_label_clip/negative\\negative_198.wav\n"
     ]
    },
    {
     "name": "stderr",
     "output_type": "stream",
     "text": [
      "                                                               \r"
     ]
    },
    {
     "name": "stdout",
     "output_type": "stream",
     "text": [
      "MoviePy - Done.\n",
      "완료됬습니다.\n",
      "file name:shCGuP1ugjE_22\n",
      "read new file\n",
      "   start    end  label\n",
      "0  52.89  54.63      0\n",
      "52.89 54.63 0\n",
      "MoviePy - Writing audio in ./data/audio_label_clip/negative\\negative_199.wav\n"
     ]
    },
    {
     "name": "stderr",
     "output_type": "stream",
     "text": [
      "                                                               \r"
     ]
    },
    {
     "name": "stdout",
     "output_type": "stream",
     "text": [
      "MoviePy - Done.\n",
      "완료됬습니다.\n",
      "file name:shCGuP1ugjE_23\n",
      "read new file\n",
      "   start    end  label\n",
      "0  56.56  58.12      0\n",
      "56.56 58.12 0\n",
      "MoviePy - Writing audio in ./data/audio_label_clip/negative\\negative_200.wav\n"
     ]
    },
    {
     "name": "stderr",
     "output_type": "stream",
     "text": [
      "                                                               \r"
     ]
    },
    {
     "name": "stdout",
     "output_type": "stream",
     "text": [
      "MoviePy - Done.\n",
      "완료됬습니다.\n",
      "file name:shCGuP1ugjE_24\n",
      "read new file\n",
      "   start    end  label\n",
      "0  58.87  59.66      0\n",
      "58.87 59.66 0\n",
      "MoviePy - Writing audio in ./data/audio_label_clip/negative\\negative_201.wav\n"
     ]
    },
    {
     "name": "stderr",
     "output_type": "stream",
     "text": [
      "                                                               \r"
     ]
    },
    {
     "name": "stdout",
     "output_type": "stream",
     "text": [
      "MoviePy - Done.\n",
      "완료됬습니다.\n",
      "file name:shCGuP1ugjE_3\n",
      "read new file\n",
      "   start   end  label\n",
      "0   7.38  7.81      8\n",
      "7.38 7.81 8\n",
      "file name:shCGuP1ugjE_4\n",
      "read new file\n",
      "   start    end  label\n",
      "0   8.91  12.01      0\n",
      "8.91 12.01 0\n",
      "MoviePy - Writing audio in ./data/audio_label_clip/negative\\negative_202.wav\n"
     ]
    },
    {
     "name": "stderr",
     "output_type": "stream",
     "text": [
      "                                                               "
     ]
    },
    {
     "name": "stdout",
     "output_type": "stream",
     "text": [
      "MoviePy - Done."
     ]
    },
    {
     "name": "stderr",
     "output_type": "stream",
     "text": [
      "\r"
     ]
    },
    {
     "name": "stdout",
     "output_type": "stream",
     "text": [
      "\n",
      "완료됬습니다.\n",
      "file name:shCGuP1ugjE_5\n",
      "read new file\n",
      "   start    end  label\n",
      "0  14.33  15.56      0\n",
      "14.33 15.56 0\n",
      "MoviePy - Writing audio in ./data/audio_label_clip/negative\\negative_203.wav\n"
     ]
    },
    {
     "name": "stderr",
     "output_type": "stream",
     "text": [
      "                                                               "
     ]
    },
    {
     "name": "stdout",
     "output_type": "stream",
     "text": [
      "MoviePy - Done.\n",
      "완료됬습니다.\n",
      "file name:shCGuP1ugjE_6\n",
      "read new file\n",
      "   start    end  label\n",
      "0  15.67  16.38      0\n",
      "15.67 16.38 0\n"
     ]
    },
    {
     "name": "stderr",
     "output_type": "stream",
     "text": [
      "\r"
     ]
    },
    {
     "name": "stdout",
     "output_type": "stream",
     "text": [
      "MoviePy - Writing audio in ./data/audio_label_clip/negative\\negative_204.wav\n"
     ]
    },
    {
     "name": "stderr",
     "output_type": "stream",
     "text": [
      "                                                               "
     ]
    },
    {
     "name": "stdout",
     "output_type": "stream",
     "text": [
      "MoviePy - Done.\n",
      "완료됬습니다.\n",
      "file name:shCGuP1ugjE_7\n",
      "read new file\n",
      "   start    end  label\n",
      "0  16.83  17.96      0\n",
      "16.83 17.96 0\n"
     ]
    },
    {
     "name": "stderr",
     "output_type": "stream",
     "text": [
      "\r"
     ]
    },
    {
     "name": "stdout",
     "output_type": "stream",
     "text": [
      "MoviePy - Writing audio in ./data/audio_label_clip/negative\\negative_205.wav\n"
     ]
    },
    {
     "name": "stderr",
     "output_type": "stream",
     "text": [
      "                                                               "
     ]
    },
    {
     "name": "stdout",
     "output_type": "stream",
     "text": [
      "MoviePy - Done.\n",
      "완료됬습니다.\n",
      "file name:shCGuP1ugjE_8\n",
      "read new file\n",
      "   start   end  label\n",
      "0  19.35  23.0      0\n",
      "19.35 23.0 0\n"
     ]
    },
    {
     "name": "stderr",
     "output_type": "stream",
     "text": [
      "\r"
     ]
    },
    {
     "name": "stdout",
     "output_type": "stream",
     "text": [
      "MoviePy - Writing audio in ./data/audio_label_clip/negative\\negative_206.wav\n"
     ]
    },
    {
     "name": "stderr",
     "output_type": "stream",
     "text": [
      "                                                               \r"
     ]
    },
    {
     "name": "stdout",
     "output_type": "stream",
     "text": [
      "MoviePy - Done.\n",
      "완료됬습니다.\n",
      "file name:shCGuP1ugjE_9\n",
      "read new file\n",
      "   start    end  label\n",
      "0   23.0  25.56      0\n",
      "23.0 25.56 0\n",
      "MoviePy - Writing audio in ./data/audio_label_clip/negative\\negative_207.wav\n"
     ]
    },
    {
     "name": "stderr",
     "output_type": "stream",
     "text": [
      "                                                               "
     ]
    },
    {
     "name": "stdout",
     "output_type": "stream",
     "text": [
      "MoviePy - Done."
     ]
    },
    {
     "name": "stderr",
     "output_type": "stream",
     "text": [
      "\r"
     ]
    },
    {
     "name": "stdout",
     "output_type": "stream",
     "text": [
      "\n",
      "완료됬습니다.\n",
      "file name:t7aJ1WvVCCI_0\n",
      "read new file\n",
      "   start   end  label\n",
      "0    2.2  2.52     16\n",
      "2.2 2.52 16\n",
      "MoviePy - Writing audio in ./data/audio_label_clip/activate\\mi_3.wav\n"
     ]
    },
    {
     "name": "stderr",
     "output_type": "stream",
     "text": [
      "                                                              "
     ]
    },
    {
     "name": "stdout",
     "output_type": "stream",
     "text": [
      "MoviePy - Done.\n",
      "완료됬습니다.\n",
      "file name:t7aJ1WvVCCI_1\n",
      "read new file\n",
      "   start   end  label\n",
      "0   3.27  4.89      0\n",
      "3.27 4.89 0\n"
     ]
    },
    {
     "name": "stderr",
     "output_type": "stream",
     "text": [
      "\r"
     ]
    },
    {
     "name": "stdout",
     "output_type": "stream",
     "text": [
      "MoviePy - Writing audio in ./data/audio_label_clip/negative\\negative_208.wav\n"
     ]
    },
    {
     "name": "stderr",
     "output_type": "stream",
     "text": [
      "                                                               "
     ]
    },
    {
     "name": "stdout",
     "output_type": "stream",
     "text": [
      "MoviePy - Done.\n",
      "완료됬습니다.\n",
      "file name:t7aJ1WvVCCI_10\n",
      "read new file\n",
      "   start    end  label\n",
      "0  20.84  22.88      0\n",
      "20.84 22.88 0\n"
     ]
    },
    {
     "name": "stderr",
     "output_type": "stream",
     "text": [
      "\r"
     ]
    },
    {
     "name": "stdout",
     "output_type": "stream",
     "text": [
      "MoviePy - Writing audio in ./data/audio_label_clip/negative\\negative_209.wav\n"
     ]
    },
    {
     "name": "stderr",
     "output_type": "stream",
     "text": [
      "                                                               \r"
     ]
    },
    {
     "name": "stdout",
     "output_type": "stream",
     "text": [
      "MoviePy - Done.\n",
      "완료됬습니다.\n",
      "file name:t7aJ1WvVCCI_11\n",
      "read new file\n",
      "   start    end  label\n",
      "0  23.13  25.83      0\n",
      "23.13 25.83 0\n",
      "MoviePy - Writing audio in ./data/audio_label_clip/negative\\negative_210.wav\n"
     ]
    },
    {
     "name": "stderr",
     "output_type": "stream",
     "text": [
      "                                                               \r"
     ]
    },
    {
     "name": "stdout",
     "output_type": "stream",
     "text": [
      "MoviePy - Done.\n",
      "완료됬습니다.\n",
      "file name:t7aJ1WvVCCI_12\n",
      "read new file\n",
      "   start    end  label\n",
      "0  27.42  29.04      0\n",
      "27.42 29.04 0\n",
      "MoviePy - Writing audio in ./data/audio_label_clip/negative\\negative_211.wav\n"
     ]
    },
    {
     "name": "stderr",
     "output_type": "stream",
     "text": [
      "                                                               "
     ]
    },
    {
     "name": "stdout",
     "output_type": "stream",
     "text": [
      "MoviePy - Done.\n",
      "완료됬습니다.\n",
      "file name:t7aJ1WvVCCI_13\n",
      "read new file\n",
      "   start    end  label\n",
      "0  29.49  30.68      0\n",
      "29.49 30.68 0\n"
     ]
    },
    {
     "name": "stderr",
     "output_type": "stream",
     "text": [
      "\r"
     ]
    },
    {
     "name": "stdout",
     "output_type": "stream",
     "text": [
      "MoviePy - Writing audio in ./data/audio_label_clip/negative\\negative_212.wav\n"
     ]
    },
    {
     "name": "stderr",
     "output_type": "stream",
     "text": [
      "                                                               \r"
     ]
    },
    {
     "name": "stdout",
     "output_type": "stream",
     "text": [
      "MoviePy - Done.\n",
      "완료됬습니다.\n",
      "file name:t7aJ1WvVCCI_14\n",
      "read new file\n",
      "   start    end  label\n",
      "0  30.72  31.86      0\n",
      "30.72 31.86 0\n",
      "MoviePy - Writing audio in ./data/audio_label_clip/negative\\negative_213.wav\n"
     ]
    },
    {
     "name": "stderr",
     "output_type": "stream",
     "text": [
      "                                                               \r"
     ]
    },
    {
     "name": "stdout",
     "output_type": "stream",
     "text": [
      "MoviePy - Done.\n",
      "완료됬습니다.\n",
      "file name:t7aJ1WvVCCI_15\n",
      "read new file\n",
      "   start    end  label\n",
      "0   32.8  33.28      8\n",
      "32.8 33.28 8\n",
      "file name:t7aJ1WvVCCI_16\n",
      "read new file\n",
      "   start   end  label\n",
      "0  40.79  41.5     17\n",
      "40.79 41.5 17\n",
      "MoviePy - Writing audio in ./data/audio_label_clip/activate\\gae_18.wav\n"
     ]
    },
    {
     "name": "stderr",
     "output_type": "stream",
     "text": [
      "                                                               \r"
     ]
    },
    {
     "name": "stdout",
     "output_type": "stream",
     "text": [
      "MoviePy - Done.\n",
      "완료됬습니다.\n",
      "file name:t7aJ1WvVCCI_17\n",
      "read new file\n",
      "    start   end  label\n",
      "0  54.719  55.6      0\n",
      "54.719 55.6 0\n",
      "MoviePy - Writing audio in ./data/audio_label_clip/negative\\negative_214.wav\n"
     ]
    },
    {
     "name": "stderr",
     "output_type": "stream",
     "text": [
      "                                                               \r"
     ]
    },
    {
     "name": "stdout",
     "output_type": "stream",
     "text": [
      "MoviePy - Done.\n",
      "완료됬습니다.\n",
      "file name:t7aJ1WvVCCI_2\n",
      "read new file\n",
      "   start   end  label\n",
      "0   5.36  5.88     16\n",
      "5.36 5.88 16\n",
      "MoviePy - Writing audio in ./data/audio_label_clip/activate\\mi_4.wav\n"
     ]
    },
    {
     "name": "stderr",
     "output_type": "stream",
     "text": [
      "                                                               "
     ]
    },
    {
     "name": "stdout",
     "output_type": "stream",
     "text": [
      "MoviePy - Done.\n",
      "완료됬습니다.\n",
      "file name:t7aJ1WvVCCI_3\n",
      "read new file\n"
     ]
    },
    {
     "name": "stderr",
     "output_type": "stream",
     "text": [
      "\r"
     ]
    },
    {
     "name": "stdout",
     "output_type": "stream",
     "text": [
      "   start   end  label\n",
      "0   6.13  6.73     17\n",
      "6.13 6.73 17\n",
      "MoviePy - Writing audio in ./data/audio_label_clip/activate\\gae_19.wav\n"
     ]
    },
    {
     "name": "stderr",
     "output_type": "stream",
     "text": [
      "                                                               "
     ]
    },
    {
     "name": "stdout",
     "output_type": "stream",
     "text": [
      "MoviePy - Done.\n",
      "완료됬습니다.\n",
      "file name:t7aJ1WvVCCI_4\n",
      "read new file\n",
      "   start   end  label\n",
      "0   6.98  7.61     17\n",
      "6.98 7.61 17\n"
     ]
    },
    {
     "name": "stderr",
     "output_type": "stream",
     "text": [
      "\r"
     ]
    },
    {
     "name": "stdout",
     "output_type": "stream",
     "text": [
      "MoviePy - Writing audio in ./data/audio_label_clip/activate\\gae_20.wav\n"
     ]
    },
    {
     "name": "stderr",
     "output_type": "stream",
     "text": [
      "                                                               "
     ]
    },
    {
     "name": "stdout",
     "output_type": "stream",
     "text": [
      "MoviePy - Done.\n",
      "완료됬습니다.\n",
      "file name:t7aJ1WvVCCI_5\n",
      "read new file\n",
      "   start    end  label\n",
      "0   9.54  10.07     17\n",
      "9.54 10.07 17\n"
     ]
    },
    {
     "name": "stderr",
     "output_type": "stream",
     "text": [
      "\r"
     ]
    },
    {
     "name": "stdout",
     "output_type": "stream",
     "text": [
      "MoviePy - Writing audio in ./data/audio_label_clip/activate\\gae_21.wav\n"
     ]
    },
    {
     "name": "stderr",
     "output_type": "stream",
     "text": [
      "                                                               "
     ]
    },
    {
     "name": "stdout",
     "output_type": "stream",
     "text": [
      "MoviePy - Done.\n",
      "완료됬습니다.\n",
      "file name:t7aJ1WvVCCI_6\n",
      "read new file\n",
      "   start    end  label\n",
      "0  10.91  12.06      0\n",
      "10.91 12.06 0\n"
     ]
    },
    {
     "name": "stderr",
     "output_type": "stream",
     "text": [
      "\r"
     ]
    },
    {
     "name": "stdout",
     "output_type": "stream",
     "text": [
      "MoviePy - Writing audio in ./data/audio_label_clip/negative\\negative_215.wav\n"
     ]
    },
    {
     "name": "stderr",
     "output_type": "stream",
     "text": [
      "                                                               "
     ]
    },
    {
     "name": "stdout",
     "output_type": "stream",
     "text": [
      "MoviePy - Done.\n",
      "완료됬습니다.\n",
      "file name:t7aJ1WvVCCI_7\n",
      "read new file\n",
      "   start    end  label\n",
      "0  13.63  14.67     17\n",
      "13.63 14.67 17\n"
     ]
    },
    {
     "name": "stderr",
     "output_type": "stream",
     "text": [
      "\r"
     ]
    },
    {
     "name": "stdout",
     "output_type": "stream",
     "text": [
      "MoviePy - Writing audio in ./data/audio_label_clip/activate\\gae_22.wav\n"
     ]
    },
    {
     "name": "stderr",
     "output_type": "stream",
     "text": [
      "                                                               "
     ]
    },
    {
     "name": "stdout",
     "output_type": "stream",
     "text": [
      "MoviePy - Done.\n",
      "완료됬습니다.\n",
      "file name:t7aJ1WvVCCI_8\n",
      "read new file\n",
      "   start    end  label\n",
      "0   15.9  17.86      0\n",
      "15.9 17.86 0\n"
     ]
    },
    {
     "name": "stderr",
     "output_type": "stream",
     "text": [
      "\r"
     ]
    },
    {
     "name": "stdout",
     "output_type": "stream",
     "text": [
      "MoviePy - Writing audio in ./data/audio_label_clip/negative\\negative_216.wav\n"
     ]
    },
    {
     "name": "stderr",
     "output_type": "stream",
     "text": [
      "                                                               "
     ]
    },
    {
     "name": "stdout",
     "output_type": "stream",
     "text": [
      "MoviePy - Done.\n",
      "완료됬습니다.\n",
      "file name:t7aJ1WvVCCI_9\n",
      "read new file\n",
      "   start    end  label\n",
      "0  18.31  20.61      0\n",
      "18.31 20.61 0\n"
     ]
    },
    {
     "name": "stderr",
     "output_type": "stream",
     "text": [
      "\r"
     ]
    },
    {
     "name": "stdout",
     "output_type": "stream",
     "text": [
      "MoviePy - Writing audio in ./data/audio_label_clip/negative\\negative_217.wav\n"
     ]
    },
    {
     "name": "stderr",
     "output_type": "stream",
     "text": [
      "                                                               "
     ]
    },
    {
     "name": "stdout",
     "output_type": "stream",
     "text": [
      "MoviePy - Done.\n",
      "완료됬습니다.\n",
      "file name:tI5t7NT3cRg_0\n",
      "read new file\n",
      "   start  end  label\n",
      "0    0.0  1.8      0\n",
      "0.0 1.8 0\n"
     ]
    },
    {
     "name": "stderr",
     "output_type": "stream",
     "text": [
      "\r"
     ]
    },
    {
     "name": "stdout",
     "output_type": "stream",
     "text": [
      "MoviePy - Writing audio in ./data/audio_label_clip/negative\\negative_218.wav\n"
     ]
    },
    {
     "name": "stderr",
     "output_type": "stream",
     "text": [
      "                                                               "
     ]
    },
    {
     "name": "stdout",
     "output_type": "stream",
     "text": [
      "MoviePy - Done.\n",
      "완료됬습니다.\n",
      "file name:tI5t7NT3cRg_1\n",
      "read new file\n",
      "   start   end  label\n",
      "0   3.03  5.24      0\n",
      "3.03 5.24 0\n"
     ]
    },
    {
     "name": "stderr",
     "output_type": "stream",
     "text": [
      "\r"
     ]
    },
    {
     "name": "stdout",
     "output_type": "stream",
     "text": [
      "MoviePy - Writing audio in ./data/audio_label_clip/negative\\negative_219.wav\n"
     ]
    },
    {
     "name": "stderr",
     "output_type": "stream",
     "text": [
      "                                                               \r"
     ]
    },
    {
     "name": "stdout",
     "output_type": "stream",
     "text": [
      "MoviePy - Done.\n",
      "완료됬습니다.\n",
      "file name:tI5t7NT3cRg_2\n",
      "read new file\n",
      "   start   end  label\n",
      "0   6.13  7.26      0\n",
      "6.13 7.26 0\n",
      "MoviePy - Writing audio in ./data/audio_label_clip/negative\\negative_220.wav\n"
     ]
    },
    {
     "name": "stderr",
     "output_type": "stream",
     "text": [
      "                                                               "
     ]
    },
    {
     "name": "stdout",
     "output_type": "stream",
     "text": [
      "MoviePy - Done.\n",
      "완료됬습니다.\n",
      "file name:tI5t7NT3cRg_3\n",
      "read new file\n",
      "   start    end  label\n",
      "0   9.17  10.04      0\n",
      "9.17 10.04 0\n"
     ]
    },
    {
     "name": "stderr",
     "output_type": "stream",
     "text": [
      "\r"
     ]
    },
    {
     "name": "stdout",
     "output_type": "stream",
     "text": [
      "MoviePy - Writing audio in ./data/audio_label_clip/negative\\negative_221.wav\n"
     ]
    },
    {
     "name": "stderr",
     "output_type": "stream",
     "text": [
      "                                                               "
     ]
    },
    {
     "name": "stdout",
     "output_type": "stream",
     "text": [
      "MoviePy - Done.\n",
      "완료됬습니다.\n",
      "file name:tI5t7NT3cRg_4\n",
      "read new file\n",
      "   start    end  label\n",
      "0   20.3  21.33     10\n",
      "20.3 21.33 10\n"
     ]
    },
    {
     "name": "stderr",
     "output_type": "stream",
     "text": [
      "\r"
     ]
    },
    {
     "name": "stdout",
     "output_type": "stream",
     "text": [
      "MoviePy - Writing audio in ./data/audio_label_clip/activate\\shi_73.wav\n"
     ]
    },
    {
     "name": "stderr",
     "output_type": "stream",
     "text": [
      "                                                               "
     ]
    },
    {
     "name": "stdout",
     "output_type": "stream",
     "text": [
      "MoviePy - Done.\n",
      "완료됬습니다.\n",
      "file name:tI5t7NT3cRg_5\n",
      "read new file\n",
      "   start    end  label\n",
      "0  24.24  28.83      0\n",
      "24.24 28.83 0\n"
     ]
    },
    {
     "name": "stderr",
     "output_type": "stream",
     "text": [
      "\r"
     ]
    },
    {
     "name": "stdout",
     "output_type": "stream",
     "text": [
      "MoviePy - Writing audio in ./data/audio_label_clip/negative\\negative_222.wav\n"
     ]
    },
    {
     "name": "stderr",
     "output_type": "stream",
     "text": [
      "                                                                \r"
     ]
    },
    {
     "name": "stdout",
     "output_type": "stream",
     "text": [
      "MoviePy - Done.\n",
      "완료됬습니다.\n",
      "file name:tI5t7NT3cRg_6\n",
      "read new file\n",
      "   start    end  label\n",
      "0  33.96  42.51      0\n",
      "33.96 42.51 0\n",
      "MoviePy - Writing audio in ./data/audio_label_clip/negative\\negative_223.wav\n"
     ]
    },
    {
     "name": "stderr",
     "output_type": "stream",
     "text": [
      "                                                                   \r"
     ]
    },
    {
     "name": "stdout",
     "output_type": "stream",
     "text": [
      "MoviePy - Done.\n",
      "완료됬습니다.\n",
      "file name:tI5t7NT3cRg_7\n",
      "read new file\n",
      "   start    end  label\n",
      "0  42.86  45.88      0\n",
      "42.86 45.88 0\n",
      "MoviePy - Writing audio in ./data/audio_label_clip/negative\\negative_224.wav\n"
     ]
    },
    {
     "name": "stderr",
     "output_type": "stream",
     "text": [
      "                                                               \r"
     ]
    },
    {
     "name": "stdout",
     "output_type": "stream",
     "text": [
      "MoviePy - Done.\n",
      "완료됬습니다.\n",
      "file name:tI5t7NT3cRg_8\n",
      "read new file\n",
      "   start    end  label\n",
      "0  46.83  49.02      0\n",
      "46.83 49.02 0\n",
      "MoviePy - Writing audio in ./data/audio_label_clip/negative\\negative_225.wav\n"
     ]
    },
    {
     "name": "stderr",
     "output_type": "stream",
     "text": [
      "                                                               \r"
     ]
    },
    {
     "name": "stdout",
     "output_type": "stream",
     "text": [
      "MoviePy - Done.\n",
      "완료됬습니다.\n",
      "file name:V-90ygneGqE_0\n",
      "read new file\n",
      "   start    end  label\n",
      "0  13.64  13.84     12\n",
      "13.64 13.84 12\n",
      "MoviePy - Writing audio in ./data/audio_label_clip/activate\\sha_30.wav\n"
     ]
    },
    {
     "name": "stderr",
     "output_type": "stream",
     "text": [
      "                                                              "
     ]
    },
    {
     "name": "stdout",
     "output_type": "stream",
     "text": [
      "MoviePy - Done.\n",
      "완료됬습니다.\n",
      "file name:V-90ygneGqE_1\n",
      "read new file\n",
      "   start    end  label\n",
      "0  14.59  14.94     12\n",
      "14.59 14.94 12\n"
     ]
    },
    {
     "name": "stderr",
     "output_type": "stream",
     "text": [
      "\r"
     ]
    },
    {
     "name": "stdout",
     "output_type": "stream",
     "text": [
      "MoviePy - Writing audio in ./data/audio_label_clip/activate\\sha_31.wav\n"
     ]
    },
    {
     "name": "stderr",
     "output_type": "stream",
     "text": [
      "                                                              "
     ]
    },
    {
     "name": "stdout",
     "output_type": "stream",
     "text": [
      "MoviePy - Done.\n",
      "완료됬습니다.\n",
      "file name:V-90ygneGqE_10\n",
      "read new file\n"
     ]
    },
    {
     "name": "stderr",
     "output_type": "stream",
     "text": [
      "\r"
     ]
    },
    {
     "name": "stdout",
     "output_type": "stream",
     "text": [
      "   start    end  label\n",
      "0  54.06  54.91      0\n",
      "54.06 54.91 0\n",
      "MoviePy - Writing audio in ./data/audio_label_clip/negative\\negative_226.wav\n"
     ]
    },
    {
     "name": "stderr",
     "output_type": "stream",
     "text": [
      "                                                               "
     ]
    },
    {
     "name": "stdout",
     "output_type": "stream",
     "text": [
      "MoviePy - Done.\n",
      "완료됬습니다.\n",
      "file name:V-90ygneGqE_2\n",
      "read new file\n"
     ]
    },
    {
     "name": "stderr",
     "output_type": "stream",
     "text": [
      "\r"
     ]
    },
    {
     "name": "stdout",
     "output_type": "stream",
     "text": [
      "   start    end  label\n",
      "0   15.2  19.08      0\n",
      "15.2 19.08 0\n",
      "MoviePy - Writing audio in ./data/audio_label_clip/negative\\negative_227.wav\n"
     ]
    },
    {
     "name": "stderr",
     "output_type": "stream",
     "text": [
      "                                                               \r"
     ]
    },
    {
     "name": "stdout",
     "output_type": "stream",
     "text": [
      "MoviePy - Done.\n",
      "완료됬습니다.\n",
      "file name:V-90ygneGqE_3\n",
      "read new file\n",
      "   start    end  label\n",
      "0  20.84  21.38      0\n",
      "20.84 21.38 0\n",
      "MoviePy - Writing audio in ./data/audio_label_clip/negative\\negative_228.wav\n"
     ]
    },
    {
     "name": "stderr",
     "output_type": "stream",
     "text": [
      "                                                               "
     ]
    },
    {
     "name": "stdout",
     "output_type": "stream",
     "text": [
      "MoviePy - Done.\n",
      "완료됬습니다.\n",
      "file name:V-90ygneGqE_4\n",
      "read new file\n",
      "    start   end  label\n",
      "0  22.439  23.1      0\n",
      "22.439 23.1 0\n"
     ]
    },
    {
     "name": "stderr",
     "output_type": "stream",
     "text": [
      "\r"
     ]
    },
    {
     "name": "stdout",
     "output_type": "stream",
     "text": [
      "MoviePy - Writing audio in ./data/audio_label_clip/negative\\negative_229.wav\n"
     ]
    },
    {
     "name": "stderr",
     "output_type": "stream",
     "text": [
      "                                                               "
     ]
    },
    {
     "name": "stdout",
     "output_type": "stream",
     "text": [
      "MoviePy - Done.\n",
      "완료됬습니다.\n",
      "file name:V-90ygneGqE_5\n",
      "read new file\n",
      "   start    end  label\n",
      "0  23.88  27.32      0\n",
      "23.88 27.32 0\n"
     ]
    },
    {
     "name": "stderr",
     "output_type": "stream",
     "text": [
      "\r"
     ]
    },
    {
     "name": "stdout",
     "output_type": "stream",
     "text": [
      "MoviePy - Writing audio in ./data/audio_label_clip/negative\\negative_230.wav\n"
     ]
    },
    {
     "name": "stderr",
     "output_type": "stream",
     "text": [
      "                                                               \r"
     ]
    },
    {
     "name": "stdout",
     "output_type": "stream",
     "text": [
      "MoviePy - Done.\n",
      "완료됬습니다.\n",
      "file name:V-90ygneGqE_6\n",
      "read new file\n",
      "   start    end  label\n",
      "0  27.32  30.68      0\n",
      "27.32 30.68 0\n",
      "MoviePy - Writing audio in ./data/audio_label_clip/negative\\negative_231.wav\n"
     ]
    },
    {
     "name": "stderr",
     "output_type": "stream",
     "text": [
      "                                                               \r"
     ]
    },
    {
     "name": "stdout",
     "output_type": "stream",
     "text": [
      "MoviePy - Done.\n",
      "완료됬습니다.\n",
      "file name:V-90ygneGqE_7\n",
      "read new file\n",
      "    start   end  label\n",
      "0  31.439  33.5      0\n",
      "31.439 33.5 0\n",
      "MoviePy - Writing audio in ./data/audio_label_clip/negative\\negative_232.wav\n"
     ]
    },
    {
     "name": "stderr",
     "output_type": "stream",
     "text": [
      "                                                               \r"
     ]
    },
    {
     "name": "stdout",
     "output_type": "stream",
     "text": [
      "MoviePy - Done.\n",
      "완료됬습니다.\n",
      "file name:V-90ygneGqE_8\n",
      "read new file\n",
      "   start   end  label\n",
      "0  35.94  37.8      0\n",
      "35.94 37.8 0\n",
      "MoviePy - Writing audio in ./data/audio_label_clip/negative\\negative_233.wav\n"
     ]
    },
    {
     "name": "stderr",
     "output_type": "stream",
     "text": [
      "                                                               \r"
     ]
    },
    {
     "name": "stdout",
     "output_type": "stream",
     "text": [
      "MoviePy - Done.\n",
      "완료됬습니다.\n",
      "file name:V-90ygneGqE_9\n",
      "read new file\n",
      "   start    end  label\n",
      "0  47.56  50.69      0\n",
      "47.56 50.69 0\n",
      "MoviePy - Writing audio in ./data/audio_label_clip/negative\\negative_234.wav\n"
     ]
    },
    {
     "name": "stderr",
     "output_type": "stream",
     "text": [
      "                                                               \r"
     ]
    },
    {
     "name": "stdout",
     "output_type": "stream",
     "text": [
      "MoviePy - Done.\n",
      "완료됬습니다.\n",
      "file name:VaKEgsQRiFw_0\n",
      "read new file\n",
      "   start   end  label\n",
      "0   1.14  2.82      0\n",
      "1.14 2.82 0\n",
      "MoviePy - Writing audio in ./data/audio_label_clip/negative\\negative_235.wav\n"
     ]
    },
    {
     "name": "stderr",
     "output_type": "stream",
     "text": [
      "                                                               \r"
     ]
    },
    {
     "name": "stdout",
     "output_type": "stream",
     "text": [
      "MoviePy - Done.\n",
      "완료됬습니다.\n",
      "file name:VaKEgsQRiFw_1\n",
      "read new file\n",
      "   start   end  label\n",
      "0   5.26  5.84     10\n",
      "5.26 5.84 10\n",
      "MoviePy - Writing audio in ./data/audio_label_clip/activate\\shi_74.wav\n"
     ]
    },
    {
     "name": "stderr",
     "output_type": "stream",
     "text": [
      "                                                               "
     ]
    },
    {
     "name": "stdout",
     "output_type": "stream",
     "text": [
      "MoviePy - Done.\n",
      "완료됬습니다.\n",
      "file name:VaKEgsQRiFw_2\n",
      "read new file\n",
      "   start   end  label\n",
      "0   9.06  9.86     12\n",
      "9.06 9.86 12\n"
     ]
    },
    {
     "name": "stderr",
     "output_type": "stream",
     "text": [
      "\r"
     ]
    },
    {
     "name": "stdout",
     "output_type": "stream",
     "text": [
      "MoviePy - Writing audio in ./data/audio_label_clip/activate\\sha_32.wav\n"
     ]
    },
    {
     "name": "stderr",
     "output_type": "stream",
     "text": [
      "                                                               "
     ]
    },
    {
     "name": "stdout",
     "output_type": "stream",
     "text": [
      "MoviePy - Done.\n",
      "완료됬습니다.\n",
      "file name:VaKEgsQRiFw_3\n",
      "read new file\n",
      "   start    end  label\n",
      "0  18.87  19.98     10\n",
      "18.87 19.98 10\n"
     ]
    },
    {
     "name": "stderr",
     "output_type": "stream",
     "text": [
      "\r"
     ]
    },
    {
     "name": "stdout",
     "output_type": "stream",
     "text": [
      "MoviePy - Writing audio in ./data/audio_label_clip/activate\\shi_75.wav\n"
     ]
    },
    {
     "name": "stderr",
     "output_type": "stream",
     "text": [
      "                                                               "
     ]
    },
    {
     "name": "stdout",
     "output_type": "stream",
     "text": [
      "MoviePy - Done.\n",
      "완료됬습니다.\n",
      "file name:VaKEgsQRiFw_4\n",
      "read new file\n",
      "   start    end  label\n",
      "0  53.03  53.71     16\n",
      "53.03 53.71 16\n"
     ]
    },
    {
     "name": "stderr",
     "output_type": "stream",
     "text": [
      "\r"
     ]
    },
    {
     "name": "stdout",
     "output_type": "stream",
     "text": [
      "MoviePy - Writing audio in ./data/audio_label_clip/activate\\mi_5.wav\n"
     ]
    },
    {
     "name": "stderr",
     "output_type": "stream",
     "text": [
      "                                                               \r"
     ]
    },
    {
     "name": "stdout",
     "output_type": "stream",
     "text": [
      "MoviePy - Done.\n",
      "완료됬습니다.\n",
      "file name:VaKEgsQRiFw_5\n",
      "read new file\n",
      "   start    end  label\n",
      "0  56.91  58.59      0\n",
      "56.91 58.59 0\n",
      "MoviePy - Writing audio in ./data/audio_label_clip/negative\\negative_236.wav\n"
     ]
    },
    {
     "name": "stderr",
     "output_type": "stream",
     "text": [
      "                                                               \r"
     ]
    },
    {
     "name": "stdout",
     "output_type": "stream",
     "text": [
      "MoviePy - Done.\n",
      "완료됬습니다.\n",
      "file name:VdAp0DZPXUw_0\n",
      "read new file\n",
      "   start   end  label\n",
      "0    1.1  1.46     10\n",
      "1.1 1.46 10\n",
      "MoviePy - Writing audio in ./data/audio_label_clip/activate\\shi_76.wav\n"
     ]
    },
    {
     "name": "stderr",
     "output_type": "stream",
     "text": [
      "                                                              \r"
     ]
    },
    {
     "name": "stdout",
     "output_type": "stream",
     "text": [
      "MoviePy - Done.\n",
      "완료됬습니다.\n",
      "file name:VdAp0DZPXUw_1\n",
      "read new file\n",
      "   start   end  label\n",
      "0   6.02  6.62     12\n",
      "6.02 6.62 12\n",
      "MoviePy - Writing audio in ./data/audio_label_clip/activate\\sha_33.wav\n"
     ]
    },
    {
     "name": "stderr",
     "output_type": "stream",
     "text": [
      "                                                               "
     ]
    },
    {
     "name": "stdout",
     "output_type": "stream",
     "text": [
      "MoviePy - Done.\n",
      "완료됬습니다.\n",
      "file name:VdAp0DZPXUw_2\n",
      "read new file\n"
     ]
    },
    {
     "name": "stderr",
     "output_type": "stream",
     "text": [
      "\r"
     ]
    },
    {
     "name": "stdout",
     "output_type": "stream",
     "text": [
      "   start   end  label\n",
      "0   7.04  7.56     12\n",
      "7.04 7.56 12\n",
      "MoviePy - Writing audio in ./data/audio_label_clip/activate\\sha_34.wav\n"
     ]
    },
    {
     "name": "stderr",
     "output_type": "stream",
     "text": [
      "                                                               "
     ]
    },
    {
     "name": "stdout",
     "output_type": "stream",
     "text": [
      "MoviePy - Done.\n",
      "완료됬습니다.\n",
      "file name:VdAp0DZPXUw_3\n",
      "read new file\n",
      "   start   end  label\n",
      "0   7.69  9.46      0\n",
      "7.689999999999999 9.46 0\n"
     ]
    },
    {
     "name": "stderr",
     "output_type": "stream",
     "text": [
      "\r"
     ]
    },
    {
     "name": "stdout",
     "output_type": "stream",
     "text": [
      "MoviePy - Writing audio in ./data/audio_label_clip/negative\\negative_237.wav\n"
     ]
    },
    {
     "name": "stderr",
     "output_type": "stream",
     "text": [
      "                                                               "
     ]
    },
    {
     "name": "stdout",
     "output_type": "stream",
     "text": [
      "MoviePy - Done.\n",
      "완료됬습니다.\n",
      "file name:VdAp0DZPXUw_4\n",
      "read new file\n",
      "   start    end  label\n",
      "0   9.56  10.07     12\n",
      "9.56 10.07 12\n"
     ]
    },
    {
     "name": "stderr",
     "output_type": "stream",
     "text": [
      "\r"
     ]
    },
    {
     "name": "stdout",
     "output_type": "stream",
     "text": [
      "MoviePy - Writing audio in ./data/audio_label_clip/activate\\sha_35.wav\n"
     ]
    },
    {
     "name": "stderr",
     "output_type": "stream",
     "text": [
      "                                                               "
     ]
    },
    {
     "name": "stdout",
     "output_type": "stream",
     "text": [
      "MoviePy - Done.\n",
      "완료됬습니다.\n",
      "file name:VdAp0DZPXUw_5\n",
      "read new file\n",
      "   start    end  label\n",
      "0  18.48  19.41     10\n",
      "18.48 19.41 10\n"
     ]
    },
    {
     "name": "stderr",
     "output_type": "stream",
     "text": [
      "\r"
     ]
    },
    {
     "name": "stdout",
     "output_type": "stream",
     "text": [
      "MoviePy - Writing audio in ./data/audio_label_clip/activate\\shi_77.wav\n"
     ]
    },
    {
     "name": "stderr",
     "output_type": "stream",
     "text": [
      "                                                               "
     ]
    },
    {
     "name": "stdout",
     "output_type": "stream",
     "text": [
      "MoviePy - Done.\n",
      "완료됬습니다.\n",
      "file name:veulI_9pqqA_0\n",
      "read new file\n",
      "   start  end  label\n",
      "0   0.46  0.6     12\n",
      "0.46 0.6 12\n"
     ]
    },
    {
     "name": "stderr",
     "output_type": "stream",
     "text": [
      "\r"
     ]
    },
    {
     "name": "stdout",
     "output_type": "stream",
     "text": [
      "MoviePy - Writing audio in ./data/audio_label_clip/activate\\sha_36.wav\n"
     ]
    },
    {
     "name": "stderr",
     "output_type": "stream",
     "text": [
      "                                                              "
     ]
    },
    {
     "name": "stdout",
     "output_type": "stream",
     "text": [
      "MoviePy - Done.\n",
      "완료됬습니다.\n",
      "file name:veulI_9pqqA_1\n",
      "read new file\n",
      "   start   end  label\n",
      "0   2.28  2.43     12\n",
      "2.28 2.43 12\n"
     ]
    },
    {
     "name": "stderr",
     "output_type": "stream",
     "text": [
      "\r"
     ]
    },
    {
     "name": "stdout",
     "output_type": "stream",
     "text": [
      "MoviePy - Writing audio in ./data/audio_label_clip/activate\\sha_37.wav\n"
     ]
    },
    {
     "name": "stderr",
     "output_type": "stream",
     "text": [
      "                                                              "
     ]
    },
    {
     "name": "stdout",
     "output_type": "stream",
     "text": [
      "MoviePy - Done.\n",
      "완료됬습니다.\n",
      "file name:veulI_9pqqA_10\n",
      "read new file\n",
      "   start    end  label\n",
      "0  25.42  28.35      0\n",
      "25.42 28.35 0\n"
     ]
    },
    {
     "name": "stderr",
     "output_type": "stream",
     "text": [
      "\r"
     ]
    },
    {
     "name": "stdout",
     "output_type": "stream",
     "text": [
      "MoviePy - Writing audio in ./data/audio_label_clip/negative\\negative_238.wav\n"
     ]
    },
    {
     "name": "stderr",
     "output_type": "stream",
     "text": [
      "                                                               \r"
     ]
    },
    {
     "name": "stdout",
     "output_type": "stream",
     "text": [
      "MoviePy - Done.\n",
      "완료됬습니다.\n",
      "file name:veulI_9pqqA_11\n",
      "read new file\n",
      "   start    end  label\n",
      "0  36.38  39.51      0\n",
      "36.38 39.51 0\n",
      "MoviePy - Writing audio in ./data/audio_label_clip/negative\\negative_239.wav\n"
     ]
    },
    {
     "name": "stderr",
     "output_type": "stream",
     "text": [
      "                                                               \r"
     ]
    },
    {
     "name": "stdout",
     "output_type": "stream",
     "text": [
      "MoviePy - Done.\n",
      "완료됬습니다.\n",
      "file name:veulI_9pqqA_12\n",
      "read new file\n",
      "   start    end  label\n",
      "0  43.93  45.02      0\n",
      "43.93 45.02 0\n",
      "MoviePy - Writing audio in ./data/audio_label_clip/negative\\negative_240.wav\n"
     ]
    },
    {
     "name": "stderr",
     "output_type": "stream",
     "text": [
      "                                                               \r"
     ]
    },
    {
     "name": "stdout",
     "output_type": "stream",
     "text": [
      "MoviePy - Done.\n",
      "완료됬습니다.\n",
      "file name:veulI_9pqqA_2\n",
      "read new file\n",
      "   start   end  label\n",
      "0   4.02  5.56      0\n",
      "4.02 5.5600000000000005 0\n",
      "MoviePy - Writing audio in ./data/audio_label_clip/negative\\negative_241.wav\n"
     ]
    },
    {
     "name": "stderr",
     "output_type": "stream",
     "text": [
      "                                                               "
     ]
    },
    {
     "name": "stdout",
     "output_type": "stream",
     "text": [
      "MoviePy - Done."
     ]
    },
    {
     "name": "stderr",
     "output_type": "stream",
     "text": [
      "\r"
     ]
    },
    {
     "name": "stdout",
     "output_type": "stream",
     "text": [
      "\n",
      "완료됬습니다.\n",
      "file name:veulI_9pqqA_3\n",
      "read new file\n",
      "   start   end  label\n",
      "0   6.07  6.31     10\n",
      "6.07 6.31 10\n",
      "MoviePy - Writing audio in ./data/audio_label_clip/activate\\shi_78.wav\n"
     ]
    },
    {
     "name": "stderr",
     "output_type": "stream",
     "text": [
      "                                                              "
     ]
    },
    {
     "name": "stdout",
     "output_type": "stream",
     "text": [
      "MoviePy - Done.\n",
      "완료됬습니다.\n",
      "file name:veulI_9pqqA_4\n",
      "read new file\n",
      "   start    end  label\n",
      "0   8.86  10.49      0\n",
      "8.86 10.49 0\n"
     ]
    },
    {
     "name": "stderr",
     "output_type": "stream",
     "text": [
      "\r"
     ]
    },
    {
     "name": "stdout",
     "output_type": "stream",
     "text": [
      "MoviePy - Writing audio in ./data/audio_label_clip/negative\\negative_242.wav\n"
     ]
    },
    {
     "name": "stderr",
     "output_type": "stream",
     "text": [
      "                                                               "
     ]
    },
    {
     "name": "stdout",
     "output_type": "stream",
     "text": [
      "MoviePy - Done.\n",
      "완료됬습니다.\n",
      "file name:veulI_9pqqA_5\n",
      "read new file\n",
      "   start    end  label\n",
      "0  11.88  13.41      0\n",
      "11.88 13.41 0\n"
     ]
    },
    {
     "name": "stderr",
     "output_type": "stream",
     "text": [
      "\r"
     ]
    },
    {
     "name": "stdout",
     "output_type": "stream",
     "text": [
      "MoviePy - Writing audio in ./data/audio_label_clip/negative\\negative_243.wav\n"
     ]
    },
    {
     "name": "stderr",
     "output_type": "stream",
     "text": [
      "                                                               "
     ]
    },
    {
     "name": "stdout",
     "output_type": "stream",
     "text": [
      "MoviePy - Done.\n",
      "완료됬습니다.\n",
      "file name:veulI_9pqqA_6\n",
      "read new file\n",
      "   start    end  label\n",
      "0  14.01  15.71      0\n",
      "14.01 15.71 0\n"
     ]
    },
    {
     "name": "stderr",
     "output_type": "stream",
     "text": [
      "\r"
     ]
    },
    {
     "name": "stdout",
     "output_type": "stream",
     "text": [
      "MoviePy - Writing audio in ./data/audio_label_clip/negative\\negative_244.wav\n"
     ]
    },
    {
     "name": "stderr",
     "output_type": "stream",
     "text": [
      "                                                               "
     ]
    },
    {
     "name": "stdout",
     "output_type": "stream",
     "text": [
      "MoviePy - Done.\n",
      "완료됬습니다.\n",
      "file name:veulI_9pqqA_7\n",
      "read new file\n",
      "   start    end  label\n",
      "0  15.71  16.54      0\n",
      "15.71 16.54 0\n"
     ]
    },
    {
     "name": "stderr",
     "output_type": "stream",
     "text": [
      "\r"
     ]
    },
    {
     "name": "stdout",
     "output_type": "stream",
     "text": [
      "MoviePy - Writing audio in ./data/audio_label_clip/negative\\negative_245.wav\n"
     ]
    },
    {
     "name": "stderr",
     "output_type": "stream",
     "text": [
      "                                                               "
     ]
    },
    {
     "name": "stdout",
     "output_type": "stream",
     "text": [
      "MoviePy - Done.\n",
      "완료됬습니다.\n",
      "file name:veulI_9pqqA_8\n",
      "read new file\n",
      "   start    end  label\n",
      "0  17.34  19.66      0\n",
      "17.34 19.66 0\n"
     ]
    },
    {
     "name": "stderr",
     "output_type": "stream",
     "text": [
      "\r"
     ]
    },
    {
     "name": "stdout",
     "output_type": "stream",
     "text": [
      "MoviePy - Writing audio in ./data/audio_label_clip/negative\\negative_246.wav\n"
     ]
    },
    {
     "name": "stderr",
     "output_type": "stream",
     "text": [
      "                                                               "
     ]
    },
    {
     "name": "stdout",
     "output_type": "stream",
     "text": [
      "MoviePy - Done.\n",
      "완료됬습니다.\n",
      "file name:veulI_9pqqA_9\n",
      "read new file\n"
     ]
    },
    {
     "name": "stderr",
     "output_type": "stream",
     "text": [
      "\r"
     ]
    },
    {
     "name": "stdout",
     "output_type": "stream",
     "text": [
      "   start    end  label\n",
      "0  25.01  25.25     12\n",
      "25.01 25.25 12\n",
      "MoviePy - Writing audio in ./data/audio_label_clip/activate\\sha_38.wav\n"
     ]
    },
    {
     "name": "stderr",
     "output_type": "stream",
     "text": [
      "                                                              "
     ]
    },
    {
     "name": "stdout",
     "output_type": "stream",
     "text": [
      "MoviePy - Done.\n",
      "완료됬습니다.\n",
      "file name:VJnyEKMcVUs_0\n",
      "read new file\n",
      "   start   end  label\n",
      "0   1.81  2.18     12\n",
      "1.81 2.18 12\n"
     ]
    },
    {
     "name": "stderr",
     "output_type": "stream",
     "text": [
      "\r"
     ]
    },
    {
     "name": "stdout",
     "output_type": "stream",
     "text": [
      "MoviePy - Writing audio in ./data/audio_label_clip/activate\\sha_39.wav\n"
     ]
    },
    {
     "name": "stderr",
     "output_type": "stream",
     "text": [
      "                                                              "
     ]
    },
    {
     "name": "stdout",
     "output_type": "stream",
     "text": [
      "MoviePy - Done.\n",
      "완료됬습니다.\n",
      "file name:VJnyEKMcVUs_1\n",
      "read new file\n",
      "   start   end  label\n",
      "0   4.85  5.34     12\n",
      "4.85 5.34 12\n"
     ]
    },
    {
     "name": "stderr",
     "output_type": "stream",
     "text": [
      "\r"
     ]
    },
    {
     "name": "stdout",
     "output_type": "stream",
     "text": [
      "MoviePy - Writing audio in ./data/audio_label_clip/activate\\sha_40.wav\n"
     ]
    },
    {
     "name": "stderr",
     "output_type": "stream",
     "text": [
      "                                                               "
     ]
    },
    {
     "name": "stdout",
     "output_type": "stream",
     "text": [
      "MoviePy - Done."
     ]
    },
    {
     "name": "stderr",
     "output_type": "stream",
     "text": [
      "\r"
     ]
    },
    {
     "name": "stdout",
     "output_type": "stream",
     "text": [
      "\n",
      "완료됬습니다.\n",
      "file name:VJnyEKMcVUs_10\n",
      "read new file\n",
      "   start    end  label\n",
      "0   52.9  53.48     17\n",
      "52.9 53.48 17\n",
      "MoviePy - Writing audio in ./data/audio_label_clip/activate\\gae_23.wav\n"
     ]
    },
    {
     "name": "stderr",
     "output_type": "stream",
     "text": [
      "                                                               "
     ]
    },
    {
     "name": "stdout",
     "output_type": "stream",
     "text": [
      "MoviePy - Done."
     ]
    },
    {
     "name": "stderr",
     "output_type": "stream",
     "text": [
      "\r"
     ]
    },
    {
     "name": "stdout",
     "output_type": "stream",
     "text": [
      "\n",
      "완료됬습니다.\n",
      "file name:VJnyEKMcVUs_11\n",
      "read new file\n",
      "   start    end  label\n",
      "0  54.28  54.79     17\n",
      "54.28 54.79 17\n",
      "MoviePy - Writing audio in ./data/audio_label_clip/activate\\gae_24.wav\n"
     ]
    },
    {
     "name": "stderr",
     "output_type": "stream",
     "text": [
      "                                                               "
     ]
    },
    {
     "name": "stdout",
     "output_type": "stream",
     "text": [
      "MoviePy - Done.\n",
      "완료됬습니다.\n",
      "file name:VJnyEKMcVUs_12\n",
      "read new file\n"
     ]
    },
    {
     "name": "stderr",
     "output_type": "stream",
     "text": [
      "\r"
     ]
    },
    {
     "name": "stdout",
     "output_type": "stream",
     "text": [
      "   start    end  label\n",
      "0  55.25  55.79     17\n",
      "55.25 55.79 17\n",
      "MoviePy - Writing audio in ./data/audio_label_clip/activate\\gae_25.wav\n"
     ]
    },
    {
     "name": "stderr",
     "output_type": "stream",
     "text": [
      "                                                               "
     ]
    },
    {
     "name": "stdout",
     "output_type": "stream",
     "text": [
      "MoviePy - Done.\n",
      "완료됬습니다.\n",
      "file name:VJnyEKMcVUs_2\n",
      "read new file\n"
     ]
    },
    {
     "name": "stderr",
     "output_type": "stream",
     "text": [
      "\r"
     ]
    },
    {
     "name": "stdout",
     "output_type": "stream",
     "text": [
      "   start    end  label\n",
      "0  10.18  11.19      0\n",
      "10.18 11.19 0\n",
      "MoviePy - Writing audio in ./data/audio_label_clip/negative\\negative_247.wav\n"
     ]
    },
    {
     "name": "stderr",
     "output_type": "stream",
     "text": [
      "                                                               "
     ]
    },
    {
     "name": "stdout",
     "output_type": "stream",
     "text": [
      "MoviePy - Done.\n",
      "완료됬습니다.\n",
      "file name:VJnyEKMcVUs_3\n",
      "read new file\n",
      "   start    end  label\n",
      "0  17.68  18.79      0\n",
      "17.68 18.79 0\n"
     ]
    },
    {
     "name": "stderr",
     "output_type": "stream",
     "text": [
      "\r"
     ]
    },
    {
     "name": "stdout",
     "output_type": "stream",
     "text": [
      "MoviePy - Writing audio in ./data/audio_label_clip/negative\\negative_248.wav\n"
     ]
    },
    {
     "name": "stderr",
     "output_type": "stream",
     "text": [
      "                                                               "
     ]
    },
    {
     "name": "stdout",
     "output_type": "stream",
     "text": [
      "MoviePy - Done.\n",
      "완료됬습니다.\n",
      "file name:VJnyEKMcVUs_4\n",
      "read new file\n",
      "   start    end  label\n",
      "0  25.18  25.48     10\n",
      "25.18 25.48 10\n"
     ]
    },
    {
     "name": "stderr",
     "output_type": "stream",
     "text": [
      "\r"
     ]
    },
    {
     "name": "stdout",
     "output_type": "stream",
     "text": [
      "MoviePy - Writing audio in ./data/audio_label_clip/activate\\shi_79.wav\n"
     ]
    },
    {
     "name": "stderr",
     "output_type": "stream",
     "text": [
      "                                                              \r"
     ]
    },
    {
     "name": "stdout",
     "output_type": "stream",
     "text": [
      "MoviePy - Done.\n",
      "완료됬습니다.\n",
      "file name:VJnyEKMcVUs_5\n",
      "read new file\n",
      "   start    end  label\n",
      "0  40.78  42.28      0\n",
      "40.78 42.28 0\n",
      "MoviePy - Writing audio in ./data/audio_label_clip/negative\\negative_249.wav\n"
     ]
    },
    {
     "name": "stderr",
     "output_type": "stream",
     "text": [
      "                                                               \r"
     ]
    },
    {
     "name": "stdout",
     "output_type": "stream",
     "text": [
      "MoviePy - Done.\n",
      "완료됬습니다.\n",
      "file name:VJnyEKMcVUs_6\n",
      "read new file\n",
      "   start    end  label\n",
      "0  42.74  45.42      0\n",
      "42.74 45.42 0\n",
      "MoviePy - Writing audio in ./data/audio_label_clip/negative\\negative_250.wav\n"
     ]
    },
    {
     "name": "stderr",
     "output_type": "stream",
     "text": [
      "                                                               \r"
     ]
    },
    {
     "name": "stdout",
     "output_type": "stream",
     "text": [
      "MoviePy - Done.\n",
      "완료됬습니다.\n",
      "file name:VJnyEKMcVUs_7\n",
      "read new file\n",
      "   start    end  label\n",
      "0  46.87  47.77      0\n",
      "46.87 47.77 0\n",
      "MoviePy - Writing audio in ./data/audio_label_clip/negative\\negative_251.wav\n"
     ]
    },
    {
     "name": "stderr",
     "output_type": "stream",
     "text": [
      "                                                               "
     ]
    },
    {
     "name": "stdout",
     "output_type": "stream",
     "text": [
      "MoviePy - Done.\n",
      "완료됬습니다.\n",
      "file name:VJnyEKMcVUs_8\n",
      "read new file\n"
     ]
    },
    {
     "name": "stderr",
     "output_type": "stream",
     "text": [
      "\r"
     ]
    },
    {
     "name": "stdout",
     "output_type": "stream",
     "text": [
      "   start    end  label\n",
      "0  49.05  49.72     17\n",
      "49.05 49.72 17\n",
      "MoviePy - Writing audio in ./data/audio_label_clip/activate\\gae_26.wav\n"
     ]
    },
    {
     "name": "stderr",
     "output_type": "stream",
     "text": [
      "                                                               \r"
     ]
    },
    {
     "name": "stdout",
     "output_type": "stream",
     "text": [
      "MoviePy - Done.\n",
      "완료됬습니다.\n",
      "file name:VJnyEKMcVUs_9\n",
      "read new file\n",
      "   start    end  label\n",
      "0  50.22  52.02      0\n",
      "50.22 52.02 0\n",
      "MoviePy - Writing audio in ./data/audio_label_clip/negative\\negative_252.wav\n"
     ]
    },
    {
     "name": "stderr",
     "output_type": "stream",
     "text": [
      "                                                               \r"
     ]
    },
    {
     "name": "stdout",
     "output_type": "stream",
     "text": [
      "MoviePy - Done.\n",
      "완료됬습니다.\n",
      "file name:vUKL5L3UzFA_0\n",
      "read new file\n",
      "   start   end  label\n",
      "0    0.0  2.31      0\n",
      "0.0 2.31 0\n",
      "MoviePy - Writing audio in ./data/audio_label_clip/negative\\negative_253.wav\n"
     ]
    },
    {
     "name": "stderr",
     "output_type": "stream",
     "text": [
      "                                                               "
     ]
    },
    {
     "name": "stdout",
     "output_type": "stream",
     "text": [
      "MoviePy - Done."
     ]
    },
    {
     "name": "stderr",
     "output_type": "stream",
     "text": [
      "\r"
     ]
    },
    {
     "name": "stdout",
     "output_type": "stream",
     "text": [
      "\n",
      "완료됬습니다.\n",
      "file name:vUKL5L3UzFA_1\n",
      "read new file\n",
      "   start   end  label\n",
      "0   2.86  3.19     12\n",
      "2.86 3.19 12\n",
      "MoviePy - Writing audio in ./data/audio_label_clip/activate\\sha_41.wav\n"
     ]
    },
    {
     "name": "stderr",
     "output_type": "stream",
     "text": [
      "                                                              "
     ]
    },
    {
     "name": "stdout",
     "output_type": "stream",
     "text": [
      "MoviePy - Done.\n",
      "완료됬습니다.\n",
      "file name:vUKL5L3UzFA_2\n",
      "read new file\n",
      "   start   end  label\n",
      "0   6.11  6.88     17\n",
      "6.11 6.88 17\n"
     ]
    },
    {
     "name": "stderr",
     "output_type": "stream",
     "text": [
      "\r"
     ]
    },
    {
     "name": "stdout",
     "output_type": "stream",
     "text": [
      "MoviePy - Writing audio in ./data/audio_label_clip/activate\\gae_27.wav\n"
     ]
    },
    {
     "name": "stderr",
     "output_type": "stream",
     "text": [
      "                                                               "
     ]
    },
    {
     "name": "stdout",
     "output_type": "stream",
     "text": [
      "MoviePy - Done.\n",
      "완료됬습니다.\n",
      "file name:vUKL5L3UzFA_3\n",
      "read new file\n",
      "   start    end  label\n",
      "0   8.37  10.27      0\n",
      "8.37 10.27 0\n"
     ]
    },
    {
     "name": "stderr",
     "output_type": "stream",
     "text": [
      "\r"
     ]
    },
    {
     "name": "stdout",
     "output_type": "stream",
     "text": [
      "MoviePy - Writing audio in ./data/audio_label_clip/negative\\negative_254.wav\n"
     ]
    },
    {
     "name": "stderr",
     "output_type": "stream",
     "text": [
      "                                                               "
     ]
    },
    {
     "name": "stdout",
     "output_type": "stream",
     "text": [
      "MoviePy - Done.\n",
      "완료됬습니다.\n",
      "file name:vUKL5L3UzFA_4\n",
      "read new file\n",
      "   start    end  label\n",
      "0  10.43  11.95      0\n",
      "10.43 11.95 0\n"
     ]
    },
    {
     "name": "stderr",
     "output_type": "stream",
     "text": [
      "\r"
     ]
    },
    {
     "name": "stdout",
     "output_type": "stream",
     "text": [
      "MoviePy - Writing audio in ./data/audio_label_clip/negative\\negative_255.wav\n"
     ]
    },
    {
     "name": "stderr",
     "output_type": "stream",
     "text": [
      "                                                               \r"
     ]
    },
    {
     "name": "stdout",
     "output_type": "stream",
     "text": [
      "MoviePy - Done.\n",
      "완료됬습니다.\n",
      "file name:vUKL5L3UzFA_5\n",
      "read new file\n",
      "   start    end  label\n",
      "0  12.17  12.42     17\n",
      "12.17 12.42 17\n",
      "MoviePy - Writing audio in ./data/audio_label_clip/activate\\gae_28.wav\n"
     ]
    },
    {
     "name": "stderr",
     "output_type": "stream",
     "text": [
      "                                                              "
     ]
    },
    {
     "name": "stdout",
     "output_type": "stream",
     "text": [
      "MoviePy - Done.\n",
      "완료됬습니다.\n",
      "file name:vUKL5L3UzFA_6\n",
      "read new file\n",
      "   start    end  label\n",
      "0   15.5  16.51      0\n",
      "15.5 16.51 0\n"
     ]
    },
    {
     "name": "stderr",
     "output_type": "stream",
     "text": [
      "\r"
     ]
    },
    {
     "name": "stdout",
     "output_type": "stream",
     "text": [
      "MoviePy - Writing audio in ./data/audio_label_clip/negative\\negative_256.wav\n"
     ]
    },
    {
     "name": "stderr",
     "output_type": "stream",
     "text": [
      "                                                               "
     ]
    },
    {
     "name": "stdout",
     "output_type": "stream",
     "text": [
      "MoviePy - Done.\n",
      "완료됬습니다.\n",
      "file name:vUKL5L3UzFA_7\n",
      "read new file\n",
      "   start    end  label\n",
      "0  17.36  19.15      0\n",
      "17.36 19.15 0\n"
     ]
    },
    {
     "name": "stderr",
     "output_type": "stream",
     "text": [
      "\r"
     ]
    },
    {
     "name": "stdout",
     "output_type": "stream",
     "text": [
      "MoviePy - Writing audio in ./data/audio_label_clip/negative\\negative_257.wav\n"
     ]
    },
    {
     "name": "stderr",
     "output_type": "stream",
     "text": [
      "                                                               "
     ]
    },
    {
     "name": "stdout",
     "output_type": "stream",
     "text": [
      "MoviePy - Done."
     ]
    },
    {
     "name": "stderr",
     "output_type": "stream",
     "text": [
      "\r"
     ]
    },
    {
     "name": "stdout",
     "output_type": "stream",
     "text": [
      "\n",
      "완료됬습니다.\n",
      "file name:vUKL5L3UzFA_8\n",
      "read new file\n",
      "   start    end  label\n",
      "0   20.9  21.38     10\n",
      "20.9 21.38 10\n",
      "MoviePy - Writing audio in ./data/audio_label_clip/activate\\shi_80.wav\n"
     ]
    },
    {
     "name": "stderr",
     "output_type": "stream",
     "text": [
      "                                                               "
     ]
    },
    {
     "name": "stdout",
     "output_type": "stream",
     "text": [
      "MoviePy - Done.\n",
      "완료됬습니다.\n",
      "file name:vzoLGaCpn9U_0\n",
      "read new file\n",
      "   start   end  label\n",
      "0   1.02  1.42     11\n",
      "1.02 1.42 11\n"
     ]
    },
    {
     "name": "stderr",
     "output_type": "stream",
     "text": [
      "\r"
     ]
    },
    {
     "name": "stdout",
     "output_type": "stream",
     "text": [
      "MoviePy - Writing audio in ./data/audio_label_clip/activate\\jon_4.wav\n"
     ]
    },
    {
     "name": "stderr",
     "output_type": "stream",
     "text": [
      "                                                              "
     ]
    },
    {
     "name": "stdout",
     "output_type": "stream",
     "text": [
      "MoviePy - Done.\n",
      "완료됬습니다.\n",
      "file name:vzoLGaCpn9U_1\n",
      "read new file\n",
      "   start   end  label\n",
      "0   2.34  3.03      0\n",
      "2.34 3.03 0\n"
     ]
    },
    {
     "name": "stderr",
     "output_type": "stream",
     "text": [
      "\r"
     ]
    },
    {
     "name": "stdout",
     "output_type": "stream",
     "text": [
      "MoviePy - Writing audio in ./data/audio_label_clip/negative\\negative_258.wav\n"
     ]
    },
    {
     "name": "stderr",
     "output_type": "stream",
     "text": [
      "                                                               "
     ]
    },
    {
     "name": "stdout",
     "output_type": "stream",
     "text": [
      "MoviePy - Done.\n",
      "완료됬습니다.\n",
      "file name:vzoLGaCpn9U_10\n",
      "read new file\n",
      "   start    end  label\n",
      "0  25.84  27.23      0\n",
      "25.84 27.23 0\n"
     ]
    },
    {
     "name": "stderr",
     "output_type": "stream",
     "text": [
      "\r"
     ]
    },
    {
     "name": "stdout",
     "output_type": "stream",
     "text": [
      "MoviePy - Writing audio in ./data/audio_label_clip/negative\\negative_259.wav\n"
     ]
    },
    {
     "name": "stderr",
     "output_type": "stream",
     "text": [
      "                                                               "
     ]
    },
    {
     "name": "stdout",
     "output_type": "stream",
     "text": [
      "MoviePy - Done.\n",
      "완료됬습니다.\n",
      "file name:vzoLGaCpn9U_11\n",
      "read new file\n",
      "   start    end  label\n",
      "0  37.97  38.23     18\n",
      "37.97 38.23 18\n"
     ]
    },
    {
     "name": "stderr",
     "output_type": "stream",
     "text": [
      "\r"
     ]
    },
    {
     "name": "stdout",
     "output_type": "stream",
     "text": [
      "MoviePy - Writing audio in ./data/audio_label_clip/activate\\jot_7.wav\n"
     ]
    },
    {
     "name": "stderr",
     "output_type": "stream",
     "text": [
      "                                                              "
     ]
    },
    {
     "name": "stdout",
     "output_type": "stream",
     "text": [
      "MoviePy - Done."
     ]
    },
    {
     "name": "stderr",
     "output_type": "stream",
     "text": [
      "\r"
     ]
    },
    {
     "name": "stdout",
     "output_type": "stream",
     "text": [
      "\n",
      "완료됬습니다.\n",
      "file name:vzoLGaCpn9U_12\n",
      "read new file\n",
      "   start    end  label\n",
      "0  38.56  38.88     12\n",
      "38.56 38.88 12\n",
      "MoviePy - Writing audio in ./data/audio_label_clip/activate\\sha_42.wav\n"
     ]
    },
    {
     "name": "stderr",
     "output_type": "stream",
     "text": [
      "                                                              \r"
     ]
    },
    {
     "name": "stdout",
     "output_type": "stream",
     "text": [
      "MoviePy - Done.\n",
      "완료됬습니다.\n",
      "file name:vzoLGaCpn9U_13\n",
      "read new file\n",
      "   start   end  label\n",
      "0  43.08  46.6      0\n",
      "43.08 46.6 0\n",
      "MoviePy - Writing audio in ./data/audio_label_clip/negative\\negative_260.wav\n"
     ]
    },
    {
     "name": "stderr",
     "output_type": "stream",
     "text": [
      "                                                               \r"
     ]
    },
    {
     "name": "stdout",
     "output_type": "stream",
     "text": [
      "MoviePy - Done.\n",
      "완료됬습니다.\n",
      "file name:vzoLGaCpn9U_14\n",
      "read new file\n",
      "   start    end  label\n",
      "0   46.6  47.57      0\n",
      "46.6 47.57 0\n",
      "MoviePy - Writing audio in ./data/audio_label_clip/negative\\negative_261.wav\n"
     ]
    },
    {
     "name": "stderr",
     "output_type": "stream",
     "text": [
      "                                                               \r"
     ]
    },
    {
     "name": "stdout",
     "output_type": "stream",
     "text": [
      "MoviePy - Done.\n",
      "완료됬습니다.\n",
      "file name:vzoLGaCpn9U_15\n",
      "read new file\n",
      "   start    end  label\n",
      "0  47.57  47.98     13\n",
      "47.57 47.98 13\n",
      "MoviePy - Writing audio in ./data/audio_label_clip/activate\\byoung_8.wav\n"
     ]
    },
    {
     "name": "stderr",
     "output_type": "stream",
     "text": [
      "                                                               \r"
     ]
    },
    {
     "name": "stdout",
     "output_type": "stream",
     "text": [
      "MoviePy - Done.\n",
      "완료됬습니다.\n",
      "file name:vzoLGaCpn9U_2\n",
      "read new file\n",
      "   start   end  label\n",
      "0   3.02  3.68     10\n",
      "3.02 3.68 10\n",
      "MoviePy - Writing audio in ./data/audio_label_clip/activate\\shi_81.wav\n"
     ]
    },
    {
     "name": "stderr",
     "output_type": "stream",
     "text": [
      "                                                               "
     ]
    },
    {
     "name": "stdout",
     "output_type": "stream",
     "text": [
      "MoviePy - Done.\n",
      "완료됬습니다.\n",
      "file name:vzoLGaCpn9U_3\n",
      "read new file\n",
      "   start   end  label\n",
      "0   4.78  5.07      8\n",
      "4.78 5.07 8\n"
     ]
    },
    {
     "name": "stderr",
     "output_type": "stream",
     "text": [
      "\r"
     ]
    },
    {
     "name": "stdout",
     "output_type": "stream",
     "text": [
      "file name:vzoLGaCpn9U_4\n",
      "read new file\n",
      "   start    end  label\n",
      "0  11.18  11.72     10\n",
      "11.18 11.72 10\n",
      "MoviePy - Writing audio in ./data/audio_label_clip/activate\\shi_82.wav\n"
     ]
    },
    {
     "name": "stderr",
     "output_type": "stream",
     "text": [
      "                                                               "
     ]
    },
    {
     "name": "stdout",
     "output_type": "stream",
     "text": [
      "MoviePy - Done.\n",
      "완료됬습니다.\n",
      "file name:vzoLGaCpn9U_5\n",
      "read new file\n",
      "   start    end  label\n",
      "0  14.83  15.68      0\n",
      "14.83 15.68 0\n"
     ]
    },
    {
     "name": "stderr",
     "output_type": "stream",
     "text": [
      "\r"
     ]
    },
    {
     "name": "stdout",
     "output_type": "stream",
     "text": [
      "MoviePy - Writing audio in ./data/audio_label_clip/negative\\negative_262.wav\n"
     ]
    },
    {
     "name": "stderr",
     "output_type": "stream",
     "text": [
      "                                                               "
     ]
    },
    {
     "name": "stdout",
     "output_type": "stream",
     "text": [
      "MoviePy - Done.\n",
      "완료됬습니다.\n",
      "file name:vzoLGaCpn9U_6\n",
      "read new file\n",
      "   start   end  label\n",
      "0  17.93  18.1      8\n",
      "17.93 18.1 8\n"
     ]
    },
    {
     "name": "stderr",
     "output_type": "stream",
     "text": [
      "\r"
     ]
    },
    {
     "name": "stdout",
     "output_type": "stream",
     "text": [
      "file name:vzoLGaCpn9U_7\n",
      "read new file\n",
      "   start    end  label\n",
      "0  22.31  23.12      0\n",
      "22.31 23.12 0\n",
      "MoviePy - Writing audio in ./data/audio_label_clip/negative\\negative_263.wav\n"
     ]
    },
    {
     "name": "stderr",
     "output_type": "stream",
     "text": [
      "                                                               "
     ]
    },
    {
     "name": "stdout",
     "output_type": "stream",
     "text": [
      "MoviePy - Done.\n",
      "완료됬습니다.\n",
      "file name:vzoLGaCpn9U_8\n",
      "read new file\n",
      "   start    end  label\n",
      "0  23.12  23.93     10\n",
      "23.12 23.93 10\n"
     ]
    },
    {
     "name": "stderr",
     "output_type": "stream",
     "text": [
      "\r"
     ]
    },
    {
     "name": "stdout",
     "output_type": "stream",
     "text": [
      "MoviePy - Writing audio in ./data/audio_label_clip/activate\\shi_83.wav\n"
     ]
    },
    {
     "name": "stderr",
     "output_type": "stream",
     "text": [
      "                                                               "
     ]
    },
    {
     "name": "stdout",
     "output_type": "stream",
     "text": [
      "MoviePy - Done.\n",
      "완료됬습니다.\n",
      "file name:vzoLGaCpn9U_9\n",
      "read new file\n",
      "   start    end  label\n",
      "0  25.23  25.57     10\n",
      "25.23 25.57 10\n"
     ]
    },
    {
     "name": "stderr",
     "output_type": "stream",
     "text": [
      "\r"
     ]
    },
    {
     "name": "stdout",
     "output_type": "stream",
     "text": [
      "MoviePy - Writing audio in ./data/audio_label_clip/activate\\shi_84.wav\n"
     ]
    },
    {
     "name": "stderr",
     "output_type": "stream",
     "text": [
      "                                                              "
     ]
    },
    {
     "name": "stdout",
     "output_type": "stream",
     "text": [
      "MoviePy - Done.\n",
      "완료됬습니다.\n",
      "file name:WVEOnGRNi3M_0\n",
      "read new file\n",
      "   start   end  label\n",
      "0   2.93  3.54     17\n",
      "2.93 3.54 17\n"
     ]
    },
    {
     "name": "stderr",
     "output_type": "stream",
     "text": [
      "\r"
     ]
    },
    {
     "name": "stdout",
     "output_type": "stream",
     "text": [
      "MoviePy - Writing audio in ./data/audio_label_clip/activate\\gae_29.wav\n"
     ]
    },
    {
     "name": "stderr",
     "output_type": "stream",
     "text": [
      "                                                               "
     ]
    },
    {
     "name": "stdout",
     "output_type": "stream",
     "text": [
      "MoviePy - Done.\n",
      "완료됬습니다.\n",
      "file name:WVEOnGRNi3M_1\n",
      "read new file\n",
      "   start   end  label\n",
      "0   5.58  6.54      0\n",
      "5.58 6.54 0\n"
     ]
    },
    {
     "name": "stderr",
     "output_type": "stream",
     "text": [
      "\r"
     ]
    },
    {
     "name": "stdout",
     "output_type": "stream",
     "text": [
      "MoviePy - Writing audio in ./data/audio_label_clip/negative\\negative_264.wav\n"
     ]
    },
    {
     "name": "stderr",
     "output_type": "stream",
     "text": [
      "                                                               "
     ]
    },
    {
     "name": "stdout",
     "output_type": "stream",
     "text": [
      "MoviePy - Done.\n",
      "완료됬습니다.\n",
      "file name:WVEOnGRNi3M_10\n",
      "read new file\n",
      "   start   end  label\n",
      "0  28.73  30.3      0\n",
      "28.73 30.3 0\n"
     ]
    },
    {
     "name": "stderr",
     "output_type": "stream",
     "text": [
      "\r"
     ]
    },
    {
     "name": "stdout",
     "output_type": "stream",
     "text": [
      "MoviePy - Writing audio in ./data/audio_label_clip/negative\\negative_265.wav\n"
     ]
    },
    {
     "name": "stderr",
     "output_type": "stream",
     "text": [
      "                                                               "
     ]
    },
    {
     "name": "stdout",
     "output_type": "stream",
     "text": [
      "MoviePy - Done.\n",
      "완료됬습니다.\n",
      "file name:WVEOnGRNi3M_11\n",
      "read new file\n",
      "   start    end  label\n",
      "0   30.3  32.17      0\n",
      "30.3 32.17 0\n"
     ]
    },
    {
     "name": "stderr",
     "output_type": "stream",
     "text": [
      "\r"
     ]
    },
    {
     "name": "stdout",
     "output_type": "stream",
     "text": [
      "MoviePy - Writing audio in ./data/audio_label_clip/negative\\negative_266.wav\n"
     ]
    },
    {
     "name": "stderr",
     "output_type": "stream",
     "text": [
      "                                                               \r"
     ]
    },
    {
     "name": "stdout",
     "output_type": "stream",
     "text": [
      "MoviePy - Done.\n",
      "완료됬습니다.\n",
      "file name:WVEOnGRNi3M_12\n",
      "read new file\n",
      "   start    end  label\n",
      "0  32.17  32.64      0\n",
      "32.17 32.64 0\n",
      "MoviePy - Writing audio in ./data/audio_label_clip/negative\\negative_267.wav\n"
     ]
    },
    {
     "name": "stderr",
     "output_type": "stream",
     "text": [
      "                                                               \r"
     ]
    },
    {
     "name": "stdout",
     "output_type": "stream",
     "text": [
      "MoviePy - Done.\n",
      "완료됬습니다.\n",
      "file name:WVEOnGRNi3M_2\n",
      "read new file\n",
      "   start   end  label\n",
      "0   6.67  7.07     17\n",
      "6.67 7.07 17\n",
      "MoviePy - Writing audio in ./data/audio_label_clip/activate\\gae_30.wav\n"
     ]
    },
    {
     "name": "stderr",
     "output_type": "stream",
     "text": [
      "                                                              "
     ]
    },
    {
     "name": "stdout",
     "output_type": "stream",
     "text": [
      "MoviePy - Done.\n",
      "완료됬습니다.\n",
      "file name:WVEOnGRNi3M_3\n",
      "read new file\n",
      "   start    end  label\n",
      "0   7.68  10.55      0\n",
      "7.68 10.55 0\n"
     ]
    },
    {
     "name": "stderr",
     "output_type": "stream",
     "text": [
      "\r"
     ]
    },
    {
     "name": "stdout",
     "output_type": "stream",
     "text": [
      "MoviePy - Writing audio in ./data/audio_label_clip/negative\\negative_268.wav\n"
     ]
    },
    {
     "name": "stderr",
     "output_type": "stream",
     "text": [
      "                                                               \r"
     ]
    },
    {
     "name": "stdout",
     "output_type": "stream",
     "text": [
      "MoviePy - Done.\n",
      "완료됬습니다.\n",
      "file name:WVEOnGRNi3M_4\n",
      "read new file\n",
      "   start    end  label\n",
      "0  11.32  11.56     12\n",
      "11.32 11.56 12\n",
      "MoviePy - Writing audio in ./data/audio_label_clip/activate\\sha_43.wav\n"
     ]
    },
    {
     "name": "stderr",
     "output_type": "stream",
     "text": [
      "                                                              "
     ]
    },
    {
     "name": "stdout",
     "output_type": "stream",
     "text": [
      "MoviePy - Done.\n",
      "완료됬습니다.\n",
      "file name:WVEOnGRNi3M_5\n",
      "read new file\n",
      "   start    end  label\n",
      "0  14.76  15.69      0\n",
      "14.76 15.69 0\n"
     ]
    },
    {
     "name": "stderr",
     "output_type": "stream",
     "text": [
      "\r"
     ]
    },
    {
     "name": "stdout",
     "output_type": "stream",
     "text": [
      "MoviePy - Writing audio in ./data/audio_label_clip/negative\\negative_269.wav\n"
     ]
    },
    {
     "name": "stderr",
     "output_type": "stream",
     "text": [
      "                                                               "
     ]
    },
    {
     "name": "stdout",
     "output_type": "stream",
     "text": [
      "MoviePy - Done."
     ]
    },
    {
     "name": "stderr",
     "output_type": "stream",
     "text": [
      "\r"
     ]
    },
    {
     "name": "stdout",
     "output_type": "stream",
     "text": [
      "\n",
      "완료됬습니다.\n",
      "file name:WVEOnGRNi3M_6\n",
      "read new file\n",
      "   start    end  label\n",
      "0  15.69  17.12      0\n",
      "15.69 17.12 0\n",
      "MoviePy - Writing audio in ./data/audio_label_clip/negative\\negative_270.wav\n"
     ]
    },
    {
     "name": "stderr",
     "output_type": "stream",
     "text": [
      "                                                               "
     ]
    },
    {
     "name": "stdout",
     "output_type": "stream",
     "text": [
      "MoviePy - Done.\n",
      "완료됬습니다.\n",
      "file name:WVEOnGRNi3M_7\n",
      "read new file\n",
      "    start    end  label\n",
      "0  17.359  19.53      0\n",
      "17.359 19.53 0\n"
     ]
    },
    {
     "name": "stderr",
     "output_type": "stream",
     "text": [
      "\r"
     ]
    },
    {
     "name": "stdout",
     "output_type": "stream",
     "text": [
      "MoviePy - Writing audio in ./data/audio_label_clip/negative\\negative_271.wav\n"
     ]
    },
    {
     "name": "stderr",
     "output_type": "stream",
     "text": [
      "                                                               \r"
     ]
    },
    {
     "name": "stdout",
     "output_type": "stream",
     "text": [
      "MoviePy - Done.\n",
      "완료됬습니다.\n",
      "file name:WVEOnGRNi3M_8\n",
      "read new file\n",
      "   start    end  label\n",
      "0  20.79  21.09      0\n",
      "20.79 21.09 0\n",
      "MoviePy - Writing audio in ./data/audio_label_clip/negative\\negative_272.wav\n"
     ]
    },
    {
     "name": "stderr",
     "output_type": "stream",
     "text": [
      "                                                              "
     ]
    },
    {
     "name": "stdout",
     "output_type": "stream",
     "text": [
      "MoviePy - Done.\n",
      "완료됬습니다.\n",
      "file name:WVEOnGRNi3M_9\n",
      "read new file\n",
      "   start    end  label\n",
      "0  23.71  26.75      0\n",
      "23.71 26.75 0\n"
     ]
    },
    {
     "name": "stderr",
     "output_type": "stream",
     "text": [
      "\r"
     ]
    },
    {
     "name": "stdout",
     "output_type": "stream",
     "text": [
      "MoviePy - Writing audio in ./data/audio_label_clip/negative\\negative_273.wav\n"
     ]
    },
    {
     "name": "stderr",
     "output_type": "stream",
     "text": [
      "                                                               \r"
     ]
    },
    {
     "name": "stdout",
     "output_type": "stream",
     "text": [
      "MoviePy - Done.\n",
      "완료됬습니다.\n",
      "file name:xEk7ltQ-Eek_0\n",
      "read new file\n",
      "   start    end  label\n",
      "0   0.06  2.159      0\n",
      "0.06 2.159 0\n",
      "MoviePy - Writing audio in ./data/audio_label_clip/negative\\negative_274.wav\n"
     ]
    },
    {
     "name": "stderr",
     "output_type": "stream",
     "text": [
      "                                                               "
     ]
    },
    {
     "name": "stdout",
     "output_type": "stream",
     "text": [
      "MoviePy - Done.\n",
      "완료됬습니다.\n",
      "file name:xEk7ltQ-Eek_1\n",
      "read new file\n",
      "   start   end  label\n",
      "0   2.37  5.52      0\n",
      "2.37 5.52 0\n"
     ]
    },
    {
     "name": "stderr",
     "output_type": "stream",
     "text": [
      "\r"
     ]
    },
    {
     "name": "stdout",
     "output_type": "stream",
     "text": [
      "MoviePy - Writing audio in ./data/audio_label_clip/negative\\negative_275.wav\n"
     ]
    },
    {
     "name": "stderr",
     "output_type": "stream",
     "text": [
      "                                                               \r"
     ]
    },
    {
     "name": "stdout",
     "output_type": "stream",
     "text": [
      "MoviePy - Done.\n",
      "완료됬습니다.\n",
      "file name:xEk7ltQ-Eek_10\n",
      "read new file\n",
      "   start    end  label\n",
      "0  31.09  32.62      0\n",
      "31.09 32.62 0\n",
      "MoviePy - Writing audio in ./data/audio_label_clip/negative\\negative_276.wav\n"
     ]
    },
    {
     "name": "stderr",
     "output_type": "stream",
     "text": [
      "                                                               \r"
     ]
    },
    {
     "name": "stdout",
     "output_type": "stream",
     "text": [
      "MoviePy - Done.\n",
      "완료됬습니다.\n",
      "file name:xEk7ltQ-Eek_11\n",
      "read new file\n",
      "   start    end  label\n",
      "0  33.68  34.56      0\n",
      "33.68 34.56 0\n",
      "MoviePy - Writing audio in ./data/audio_label_clip/negative\\negative_277.wav\n"
     ]
    },
    {
     "name": "stderr",
     "output_type": "stream",
     "text": [
      "                                                               \r"
     ]
    },
    {
     "name": "stdout",
     "output_type": "stream",
     "text": [
      "MoviePy - Done.\n",
      "완료됬습니다.\n",
      "file name:xEk7ltQ-Eek_2\n",
      "read new file\n",
      "   start    end  label\n",
      "0    9.0  11.23      0\n",
      "9.0 11.23 0\n",
      "MoviePy - Writing audio in ./data/audio_label_clip/negative\\negative_278.wav\n"
     ]
    },
    {
     "name": "stderr",
     "output_type": "stream",
     "text": [
      "                                                               "
     ]
    },
    {
     "name": "stdout",
     "output_type": "stream",
     "text": [
      "MoviePy - Done.\n",
      "완료됬습니다.\n",
      "file name:xEk7ltQ-Eek_3\n",
      "read new file\n",
      "   start    end  label\n",
      "0  12.25  13.05     10\n",
      "12.25 13.05 10\n"
     ]
    },
    {
     "name": "stderr",
     "output_type": "stream",
     "text": [
      "\r"
     ]
    },
    {
     "name": "stdout",
     "output_type": "stream",
     "text": [
      "MoviePy - Writing audio in ./data/audio_label_clip/activate\\shi_85.wav\n"
     ]
    },
    {
     "name": "stderr",
     "output_type": "stream",
     "text": [
      "                                                               \r"
     ]
    },
    {
     "name": "stdout",
     "output_type": "stream",
     "text": [
      "MoviePy - Done.\n",
      "완료됬습니다.\n",
      "file name:xEk7ltQ-Eek_4\n",
      "read new file\n",
      "   start    end  label\n",
      "0   15.9  19.05      0\n",
      "15.9 19.05 0\n",
      "MoviePy - Writing audio in ./data/audio_label_clip/negative\\negative_279.wav\n"
     ]
    },
    {
     "name": "stderr",
     "output_type": "stream",
     "text": [
      "                                                               "
     ]
    },
    {
     "name": "stdout",
     "output_type": "stream",
     "text": [
      "MoviePy - Done.\n",
      "완료됬습니다.\n",
      "file name:xEk7ltQ-Eek_5\n",
      "read new file\n",
      "   start    end  label\n",
      "0  19.39  21.76      0\n",
      "19.39 21.76 0\n"
     ]
    },
    {
     "name": "stderr",
     "output_type": "stream",
     "text": [
      "\r"
     ]
    },
    {
     "name": "stdout",
     "output_type": "stream",
     "text": [
      "MoviePy - Writing audio in ./data/audio_label_clip/negative\\negative_280.wav\n"
     ]
    },
    {
     "name": "stderr",
     "output_type": "stream",
     "text": [
      "                                                               \r"
     ]
    },
    {
     "name": "stdout",
     "output_type": "stream",
     "text": [
      "MoviePy - Done.\n",
      "완료됬습니다.\n",
      "file name:xEk7ltQ-Eek_6\n",
      "read new file\n",
      "   start    end  label\n",
      "0  21.86  25.33      0\n",
      "21.86 25.33 0\n",
      "MoviePy - Writing audio in ./data/audio_label_clip/negative\\negative_281.wav\n"
     ]
    },
    {
     "name": "stderr",
     "output_type": "stream",
     "text": [
      "                                                               \r"
     ]
    },
    {
     "name": "stdout",
     "output_type": "stream",
     "text": [
      "MoviePy - Done.\n",
      "완료됬습니다.\n",
      "file name:xEk7ltQ-Eek_7\n",
      "read new file\n",
      "   start    end  label\n",
      "0  25.59  28.03      0\n",
      "25.59 28.03 0\n",
      "MoviePy - Writing audio in ./data/audio_label_clip/negative\\negative_282.wav\n"
     ]
    },
    {
     "name": "stderr",
     "output_type": "stream",
     "text": [
      "                                                               \r"
     ]
    },
    {
     "name": "stdout",
     "output_type": "stream",
     "text": [
      "MoviePy - Done.\n",
      "완료됬습니다.\n",
      "file name:xEk7ltQ-Eek_8\n",
      "read new file\n",
      "   start    end  label\n",
      "0  28.03  28.88      0\n",
      "28.03 28.88 0\n",
      "MoviePy - Writing audio in ./data/audio_label_clip/negative\\negative_283.wav\n"
     ]
    },
    {
     "name": "stderr",
     "output_type": "stream",
     "text": [
      "                                                               "
     ]
    },
    {
     "name": "stdout",
     "output_type": "stream",
     "text": [
      "MoviePy - Done.\n",
      "완료됬습니다.\n",
      "file name:xEk7ltQ-Eek_9\n",
      "read new file\n",
      "   start    end  label\n",
      "0  29.34  30.87      0\n",
      "29.34 30.87 0\n"
     ]
    },
    {
     "name": "stderr",
     "output_type": "stream",
     "text": [
      "\r"
     ]
    },
    {
     "name": "stdout",
     "output_type": "stream",
     "text": [
      "MoviePy - Writing audio in ./data/audio_label_clip/negative\\negative_284.wav\n"
     ]
    },
    {
     "name": "stderr",
     "output_type": "stream",
     "text": [
      "                                                               "
     ]
    },
    {
     "name": "stdout",
     "output_type": "stream",
     "text": [
      "MoviePy - Done."
     ]
    },
    {
     "name": "stderr",
     "output_type": "stream",
     "text": [
      "\r"
     ]
    },
    {
     "name": "stdout",
     "output_type": "stream",
     "text": [
      "\n",
      "완료됬습니다.\n",
      "file name:xH5ANOiuoZg_0\n",
      "read new file\n",
      "   start   end  label\n",
      "0    1.4  1.79     10\n",
      "1.4 1.79 10\n",
      "MoviePy - Writing audio in ./data/audio_label_clip/activate\\shi_86.wav\n"
     ]
    },
    {
     "name": "stderr",
     "output_type": "stream",
     "text": [
      "                                                              "
     ]
    },
    {
     "name": "stdout",
     "output_type": "stream",
     "text": [
      "MoviePy - Done.\n",
      "완료됬습니다.\n",
      "file name:xH5ANOiuoZg_1\n",
      "read new file\n",
      "   start   end  label\n",
      "0   2.28  4.02      0\n",
      "2.28 4.02 0\n"
     ]
    },
    {
     "name": "stderr",
     "output_type": "stream",
     "text": [
      "\r"
     ]
    },
    {
     "name": "stdout",
     "output_type": "stream",
     "text": [
      "MoviePy - Writing audio in ./data/audio_label_clip/negative\\negative_285.wav\n"
     ]
    },
    {
     "name": "stderr",
     "output_type": "stream",
     "text": [
      "                                                               \r"
     ]
    },
    {
     "name": "stdout",
     "output_type": "stream",
     "text": [
      "MoviePy - Done.\n",
      "완료됬습니다.\n",
      "file name:xH5ANOiuoZg_2\n",
      "read new file\n",
      "   start   end  label\n",
      "0   4.02  4.33     12\n",
      "4.02 4.33 12\n",
      "MoviePy - Writing audio in ./data/audio_label_clip/activate\\sha_44.wav\n"
     ]
    },
    {
     "name": "stderr",
     "output_type": "stream",
     "text": [
      "                                                              "
     ]
    },
    {
     "name": "stdout",
     "output_type": "stream",
     "text": [
      "MoviePy - Done.\n",
      "완료됬습니다.\n",
      "file name:xH5ANOiuoZg_3\n",
      "read new file\n",
      "   start   end  label\n",
      "0   4.48  6.17      0\n",
      "4.48 6.17 0\n"
     ]
    },
    {
     "name": "stderr",
     "output_type": "stream",
     "text": [
      "\r"
     ]
    },
    {
     "name": "stdout",
     "output_type": "stream",
     "text": [
      "MoviePy - Writing audio in ./data/audio_label_clip/negative\\negative_286.wav\n"
     ]
    },
    {
     "name": "stderr",
     "output_type": "stream",
     "text": [
      "                                                               "
     ]
    },
    {
     "name": "stdout",
     "output_type": "stream",
     "text": [
      "MoviePy - Done.\n",
      "완료됬습니다.\n",
      "file name:xH5ANOiuoZg_4\n",
      "read new file\n"
     ]
    },
    {
     "name": "stderr",
     "output_type": "stream",
     "text": [
      "\r"
     ]
    },
    {
     "name": "stdout",
     "output_type": "stream",
     "text": [
      "   start   end  label\n",
      "0   6.17  7.85      0\n",
      "6.17 7.85 0\n",
      "MoviePy - Writing audio in ./data/audio_label_clip/negative\\negative_287.wav\n"
     ]
    },
    {
     "name": "stderr",
     "output_type": "stream",
     "text": [
      "                                                               \r"
     ]
    },
    {
     "name": "stdout",
     "output_type": "stream",
     "text": [
      "MoviePy - Done.\n",
      "완료됬습니다.\n",
      "file name:xH5ANOiuoZg_5\n",
      "read new file\n",
      "   start    end  label\n",
      "0  12.03  12.36     12\n",
      "12.03 12.36 12\n",
      "MoviePy - Writing audio in ./data/audio_label_clip/activate\\sha_45.wav\n"
     ]
    },
    {
     "name": "stderr",
     "output_type": "stream",
     "text": [
      "                                                              "
     ]
    },
    {
     "name": "stdout",
     "output_type": "stream",
     "text": [
      "MoviePy - Done.\n",
      "완료됬습니다.\n",
      "file name:xH5ANOiuoZg_6\n",
      "read new file\n",
      "   start    end  label\n",
      "0  14.06  14.49     13\n",
      "14.06 14.49 13\n"
     ]
    },
    {
     "name": "stderr",
     "output_type": "stream",
     "text": [
      "\r"
     ]
    },
    {
     "name": "stdout",
     "output_type": "stream",
     "text": [
      "MoviePy - Writing audio in ./data/audio_label_clip/activate\\byoung_9.wav\n"
     ]
    },
    {
     "name": "stderr",
     "output_type": "stream",
     "text": [
      "                                                               "
     ]
    },
    {
     "name": "stdout",
     "output_type": "stream",
     "text": [
      "MoviePy - Done.\n",
      "완료됬습니다.\n",
      "file name:xH5ANOiuoZg_7\n",
      "read new file\n",
      "   start    end  label\n",
      "0   14.7  16.46      0\n",
      "14.7 16.46 0\n"
     ]
    },
    {
     "name": "stderr",
     "output_type": "stream",
     "text": [
      "\r"
     ]
    },
    {
     "name": "stdout",
     "output_type": "stream",
     "text": [
      "MoviePy - Writing audio in ./data/audio_label_clip/negative\\negative_288.wav\n"
     ]
    },
    {
     "name": "stderr",
     "output_type": "stream",
     "text": [
      "                                                               "
     ]
    },
    {
     "name": "stdout",
     "output_type": "stream",
     "text": [
      "MoviePy - Done.\n",
      "완료됬습니다.\n",
      "file name:xH5ANOiuoZg_8\n",
      "read new file\n",
      "   start    end  label\n",
      "0  16.46  19.15      0\n",
      "16.46 19.15 0\n"
     ]
    },
    {
     "name": "stderr",
     "output_type": "stream",
     "text": [
      "\r"
     ]
    },
    {
     "name": "stdout",
     "output_type": "stream",
     "text": [
      "MoviePy - Writing audio in ./data/audio_label_clip/negative\\negative_289.wav\n"
     ]
    },
    {
     "name": "stderr",
     "output_type": "stream",
     "text": [
      "                                                               "
     ]
    },
    {
     "name": "stdout",
     "output_type": "stream",
     "text": [
      "MoviePy - Done.\n",
      "완료됬습니다.\n"
     ]
    },
    {
     "name": "stderr",
     "output_type": "stream",
     "text": [
      "\r"
     ]
    }
   ],
   "source": [
    "audio = []\n",
    "label = []\n",
    "#라벨링\n",
    "shi = 0\n",
    "jon = 0\n",
    "sha = 0\n",
    "byoung = 0\n",
    "sang = 0 \n",
    "do = 0\n",
    "mi = 0\n",
    "gae = 0\n",
    "jot = 0\n",
    "background = 0\n",
    "negative = 0\n",
    "count = 0\n",
    "x = 0\n",
    "\n",
    "# 이제 욕 추가될때마다 여기 counter 디렉터리에 추가해주면 됨\n",
    "counter = {\n",
    "    10: shi,\n",
    "    11: jon,\n",
    "    12: sha,\n",
    "    13: byoung,\n",
    "    14: do,\n",
    "    15: sang,\n",
    "    16: mi,\n",
    "    17: gae,\n",
    "    18: jot,\n",
    "    8: x,\n",
    "    9: background,\n",
    "    0: negative\n",
    "}\n",
    "\n",
    "for file in files:\n",
    "    try: \n",
    "        print(\"file name:\" + file)\n",
    "        text = './data/label/' + file + \".txt\"\n",
    "        aud = './data/label/' + file + \".wav\"\n",
    "        # 정규표현식 패턴\n",
    "        pattern = r\"^(.*?)_\\d+$\"\n",
    "        # 정규표현식 매칭\n",
    "        match = re.match(pattern, file)\n",
    "        raw_aud = './data/audio/' + str(match.group(1)) + \".wav\"\n",
    "\n",
    "        print(\"read new file\")\n",
    "        data = pd.read_csv(text, sep=\"\\t\", names=['start', 'end', 'label'])\n",
    "        print(data)\n",
    "        for i in range(len(data)):\n",
    "            lab = data.label[i]\n",
    "            print(data.start[i], data.end[i], data.label[i])\n",
    "            try:\n",
    "                start = float(data.start[i])\n",
    "                end = float(data.end[i])\n",
    "            except ValueError:\n",
    "                continue\n",
    "            if start >= end:\n",
    "                continue\n",
    "            if np.isnan(lab):\n",
    "                continue\n",
    "            full_audio = AudioFileClip(raw_aud)\n",
    "\n",
    "            # 각 라벨 이름 정의\n",
    "            lab_name = {\n",
    "                10: \"shi\",\n",
    "                11: \"jon\",\n",
    "                12: \"sha\",\n",
    "                13: \"byoung\",\n",
    "                14: \"do\",\n",
    "                15: \"sang\",\n",
    "                16: \"mi\",\n",
    "                17: \"gae\",\n",
    "                18: \"jot\",\n",
    "                8: \"x\",\n",
    "                9: \"background\",\n",
    "                0: \"negative\"\n",
    "            }[lab]\n",
    "            \n",
    "            lab_counter = counter[lab]\n",
    "            name = f\"{lab_name}_{lab_counter}\"\n",
    "            counter[lab] += 1\n",
    "\n",
    "            tmp_audio = full_audio.subclip(start, end)\n",
    "            \n",
    "            #라벨에 맞게 디렉터리 경로 초기화해주고\n",
    "            if lab == 10 or lab == 11 or lab == 12 or lab == 13 or lab == 14 or lab == 15 or lab == 16 or lab == 17 or lab == 18:\n",
    "                directory = activate_dir\n",
    "            elif lab == 9:\n",
    "                directory = background_dir\n",
    "            elif lab == 0:\n",
    "                directory = negative_dir\n",
    "            else:\n",
    "                continue\n",
    "            # 라벨에 맞는 디렉터리에 저장\n",
    "            name = os.path.join(directory, name + \".wav\")\n",
    "            try:\n",
    "                tmp_audio.write_audiofile(name)\n",
    "            except OSError:\n",
    "                print('oserror')\n",
    "                continue\n",
    "                \n",
    "            audio.append(name)\n",
    "            label.append(int(lab))\n",
    "            print('완료됬습니다.')\n",
    "        count += 1\n",
    "    except Exception as e:\n",
    "        pass\n",
    "\n",
    "save(audio, label)"
   ]
  },
  {
   "cell_type": "code",
   "execution_count": null,
   "metadata": {},
   "outputs": [],
   "source": []
  }
 ],
 "metadata": {
  "kernelspec": {
   "display_name": "Beeeeep_2",
   "language": "python",
   "name": "python3"
  },
  "language_info": {
   "codemirror_mode": {
    "name": "ipython",
    "version": 3
   },
   "file_extension": ".py",
   "mimetype": "text/x-python",
   "name": "python",
   "nbconvert_exporter": "python",
   "pygments_lexer": "ipython3",
   "version": "3.10.2"
  }
 },
 "nbformat": 4,
 "nbformat_minor": 2
}
