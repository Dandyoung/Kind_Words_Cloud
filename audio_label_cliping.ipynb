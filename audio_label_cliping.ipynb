{
 "cells": [
  {
   "cell_type": "code",
   "execution_count": 1,
   "metadata": {},
   "outputs": [],
   "source": [
    "## pip install moviepy==1.0.0\n",
    "\n",
    "import os\n",
    "import librosa\n",
    "import pandas as pd\n",
    "from moviepy.editor import *\n",
    "from tqdm import tqdm_notebook\n",
    "import numpy as np\n",
    "import re"
   ]
  },
  {
   "cell_type": "code",
   "execution_count": 2,
   "metadata": {},
   "outputs": [],
   "source": [
    "#from utils import make_dir\n",
    "def make_dir(dir_):\n",
    "    if not os.path.isdir(dir_):\n",
    "        os.mkdir(dir_)"
   ]
  },
  {
   "cell_type": "code",
   "execution_count": 3,
   "metadata": {},
   "outputs": [],
   "source": [
    "background_dir = './data/audio_label_clip/background'  # 배경 디렉터리 경로\n",
    "os.makedirs(background_dir, exist_ok=True)  # 배경 디렉터리 생성\n",
    "\n",
    "activate_dir = './data/audio_label_clip/activate'  # 배경 디렉터리 경로\n",
    "os.makedirs(activate_dir, exist_ok=True)  # 배경 디렉터리 생성\n",
    "\n",
    "negative_dir = './data/audio_label_clip/negative'  # 배경 디렉터리 경로\n",
    "os.makedirs(negative_dir, exist_ok=True)  # 배경 디렉터리 생성"
   ]
  },
  {
   "cell_type": "code",
   "execution_count": 4,
   "metadata": {},
   "outputs": [],
   "source": [
    "audio_label_clip_dir = os.path.join('.', 'data', 'audio_label_clip')\n",
    "make_dir(audio_label_clip_dir)"
   ]
  },
  {
   "cell_type": "code",
   "execution_count": 5,
   "metadata": {},
   "outputs": [],
   "source": [
    "def save(audios, label):\n",
    "    data = pd.DataFrame({\n",
    "        'audios':audios, 'label':label })\n",
    "    data.to_csv(audio_label_clip_dir+'/audio_label_clip.csv', index=False, encoding='euc-kr')"
   ]
  },
  {
   "cell_type": "code",
   "execution_count": 8,
   "metadata": {},
   "outputs": [
    {
     "name": "stdout",
     "output_type": "stream",
     "text": [
      "['7EoOqdul6Tk_0', '7EoOqdul6Tk_1', '7EoOqdul6Tk_10', '7EoOqdul6Tk_11', '7EoOqdul6Tk_12', '7EoOqdul6Tk_13', '7EoOqdul6Tk_14', '7EoOqdul6Tk_15', '7EoOqdul6Tk_16', '7EoOqdul6Tk_17', '7EoOqdul6Tk_18', '7EoOqdul6Tk_19', '7EoOqdul6Tk_2', '7EoOqdul6Tk_20', '7EoOqdul6Tk_21', '7EoOqdul6Tk_22', '7EoOqdul6Tk_23', '7EoOqdul6Tk_24', '7EoOqdul6Tk_25', '7EoOqdul6Tk_3', '7EoOqdul6Tk_4', '7EoOqdul6Tk_5', '7EoOqdul6Tk_6', '7EoOqdul6Tk_7', '7EoOqdul6Tk_8', '7EoOqdul6Tk_9']\n"
     ]
    }
   ],
   "source": [
    "## 레이블링 데이터 위치 : ./data/label\n",
    "files = []\n",
    "for file in os.listdir(os.path.join('.', 'data', 'label')):\n",
    "    _, file_id = os.path.split(file)\n",
    "    if file_id.endswith('txt'):\n",
    "        name = file_id.split(\".\")[0]\n",
    "        if(name not in files):\n",
    "            files.append(name)\n",
    "print(files)\n",
    "\n",
    "background_dir = './data/audio_label_clip/background'  # 배경 디렉터리 경로\n",
    "os.makedirs(background_dir, exist_ok=True)  # 배경 디렉터리 생성\n",
    "\n",
    "activate_dir = './data/audio_label_clip/activate'  # 배경 디렉터리 경로\n",
    "os.makedirs(activate_dir, exist_ok=True)  # 배경 디렉터리 생성\n",
    "\n",
    "negative_dir = './data/audio_label_clip/negative'  # 배경 디렉터리 경로\n",
    "os.makedirs(negative_dir, exist_ok=True)  # 배경 디렉터리 생성print(files)\n"
   ]
  },
  {
   "cell_type": "code",
   "execution_count": 6,
   "metadata": {},
   "outputs": [],
   "source": [
    "background_dir = './data/audio_label_clip_for_test/background'  # 배경 디렉터리 경로\n",
    "os.makedirs(background_dir, exist_ok=True)  # 배경 디렉터리 생성\n",
    "\n",
    "activate_dir = './data/audio_label_clip_for_test/activate'  # 배경 디렉터리 경로\n",
    "os.makedirs(activate_dir, exist_ok=True)  # 배경 디렉터리 생성\n",
    "\n",
    "negative_dir = './data/audio_label_clip_for_test/negative'  # 배경 디렉터리 경로\n",
    "os.makedirs(negative_dir, exist_ok=True)  # 배경 디렉터리 생성print(files)"
   ]
  },
  {
   "cell_type": "code",
   "execution_count": 9,
   "metadata": {
    "scrolled": true
   },
   "outputs": [
    {
     "name": "stdout",
     "output_type": "stream",
     "text": [
      "file name:7EoOqdul6Tk_0\n",
      "read new file\n",
      "   start    end  label\n",
      "0    0.0  2.159      0\n",
      "0.0 2.159 0\n"
     ]
    },
    {
     "name": "stderr",
     "output_type": "stream",
     "text": [
      "                                                                 "
     ]
    },
    {
     "name": "stdout",
     "output_type": "stream",
     "text": [
      "MoviePy - Writing audio in ./data/audio_label_clip/negative\\negative_0.wav\n",
      "MoviePy - Done.\n",
      "완료됬습니다.\n",
      "file name:7EoOqdul6Tk_1\n",
      "read new file\n",
      "   start    end  label\n",
      "0  2.159  3.959      0"
     ]
    },
    {
     "name": "stderr",
     "output_type": "stream",
     "text": [
      "\r"
     ]
    },
    {
     "name": "stdout",
     "output_type": "stream",
     "text": [
      "\n",
      "2.159 3.959 0\n"
     ]
    },
    {
     "name": "stderr",
     "output_type": "stream",
     "text": [
      "                                                               "
     ]
    },
    {
     "name": "stdout",
     "output_type": "stream",
     "text": [
      "MoviePy - Writing audio in ./data/audio_label_clip/negative\\negative_1.wav\n",
      "MoviePy - Done.\n",
      "완료됬습니다.\n",
      "file name:7EoOqdul6Tk_10\n",
      "read new file\n"
     ]
    },
    {
     "name": "stderr",
     "output_type": "stream",
     "text": [
      "\r"
     ]
    },
    {
     "name": "stdout",
     "output_type": "stream",
     "text": [
      "    start     end  label\n",
      "0  20.939  22.619      0\n",
      "20.939 22.619 0\n"
     ]
    },
    {
     "name": "stderr",
     "output_type": "stream",
     "text": [
      "chunk:   0%|          | 0/38 [00:00<?, ?it/s, now=None]"
     ]
    },
    {
     "name": "stdout",
     "output_type": "stream",
     "text": [
      "MoviePy - Writing audio in ./data/audio_label_clip/negative\\negative_2.wav\n"
     ]
    },
    {
     "name": "stderr",
     "output_type": "stream",
     "text": [
      "                                                               \r"
     ]
    },
    {
     "name": "stdout",
     "output_type": "stream",
     "text": [
      "MoviePy - Done.\n",
      "완료됬습니다.\n",
      "file name:7EoOqdul6Tk_11\n",
      "read new file\n",
      "    start    end  label\n",
      "0  22.619  24.24      0\n",
      "22.619 24.24 0\n"
     ]
    },
    {
     "name": "stderr",
     "output_type": "stream",
     "text": [
      "chunk:   8%|▊         | 3/36 [00:00<00:01, 25.86it/s, now=None]"
     ]
    },
    {
     "name": "stdout",
     "output_type": "stream",
     "text": [
      "MoviePy - Writing audio in ./data/audio_label_clip/negative\\negative_3.wav\n"
     ]
    },
    {
     "name": "stderr",
     "output_type": "stream",
     "text": [
      "                                                               \r"
     ]
    },
    {
     "name": "stdout",
     "output_type": "stream",
     "text": [
      "MoviePy - Done.\n",
      "완료됬습니다.\n",
      "file name:7EoOqdul6Tk_12\n",
      "read new file\n",
      "   start   end  label\n",
      "0  24.24  26.1      0\n",
      "24.24 26.1 0\n"
     ]
    },
    {
     "name": "stderr",
     "output_type": "stream",
     "text": [
      "                                                               "
     ]
    },
    {
     "name": "stdout",
     "output_type": "stream",
     "text": [
      "MoviePy - Writing audio in ./data/audio_label_clip/negative\\negative_4.wav\n",
      "MoviePy - Done."
     ]
    },
    {
     "name": "stderr",
     "output_type": "stream",
     "text": [
      "\r"
     ]
    },
    {
     "name": "stdout",
     "output_type": "stream",
     "text": [
      "\n",
      "완료됬습니다.\n",
      "file name:7EoOqdul6Tk_13\n",
      "read new file\n",
      "   start   end  label\n",
      "0   26.1  27.9      0\n",
      "26.1 27.9 0\n"
     ]
    },
    {
     "name": "stderr",
     "output_type": "stream",
     "text": [
      "chunk:   0%|          | 0/40 [00:00<?, ?it/s, now=None]"
     ]
    },
    {
     "name": "stdout",
     "output_type": "stream",
     "text": [
      "MoviePy - Writing audio in ./data/audio_label_clip/negative\\negative_5.wav\n"
     ]
    },
    {
     "name": "stderr",
     "output_type": "stream",
     "text": [
      "                                                               \r"
     ]
    },
    {
     "name": "stdout",
     "output_type": "stream",
     "text": [
      "MoviePy - Done.\n",
      "완료됬습니다.\n",
      "file name:7EoOqdul6Tk_14\n",
      "read new file\n",
      "   start    end  label\n",
      "0   27.9  30.48      0\n",
      "27.9 30.48 0\n"
     ]
    },
    {
     "name": "stderr",
     "output_type": "stream",
     "text": [
      "                                                               "
     ]
    },
    {
     "name": "stdout",
     "output_type": "stream",
     "text": [
      "MoviePy - Writing audio in ./data/audio_label_clip/negative\\negative_6.wav\n",
      "MoviePy - Done.\n",
      "완료됬습니다.\n",
      "file name:7EoOqdul6Tk_15\n",
      "read new file\n",
      "   start    end  label\n",
      "0  30.48  31.92      0"
     ]
    },
    {
     "name": "stderr",
     "output_type": "stream",
     "text": [
      "\r"
     ]
    },
    {
     "name": "stdout",
     "output_type": "stream",
     "text": [
      "\n",
      "30.48 31.92 0\n"
     ]
    },
    {
     "name": "stderr",
     "output_type": "stream",
     "text": [
      "chunk:   6%|▋         | 2/32 [00:00<00:02, 13.99it/s, now=None]"
     ]
    },
    {
     "name": "stdout",
     "output_type": "stream",
     "text": [
      "MoviePy - Writing audio in ./data/audio_label_clip/negative\\negative_7.wav\n"
     ]
    },
    {
     "name": "stderr",
     "output_type": "stream",
     "text": [
      "                                                               \r"
     ]
    },
    {
     "name": "stdout",
     "output_type": "stream",
     "text": [
      "MoviePy - Done.\n",
      "완료됬습니다.\n",
      "file name:7EoOqdul6Tk_16\n",
      "read new file\n",
      "   start    end  label\n",
      "0  31.92  33.54      0\n",
      "31.92 33.54 0\n"
     ]
    },
    {
     "name": "stderr",
     "output_type": "stream",
     "text": [
      "chunk:   6%|▌         | 2/36 [00:00<00:02, 13.79it/s, now=None]"
     ]
    },
    {
     "name": "stdout",
     "output_type": "stream",
     "text": [
      "MoviePy - Writing audio in ./data/audio_label_clip/negative\\negative_8.wav\n"
     ]
    },
    {
     "name": "stderr",
     "output_type": "stream",
     "text": [
      "                                                               \r"
     ]
    },
    {
     "name": "stdout",
     "output_type": "stream",
     "text": [
      "MoviePy - Done.\n",
      "완료됬습니다.\n",
      "file name:7EoOqdul6Tk_17\n",
      "read new file\n",
      "   start    end  label\n",
      "0  33.54  35.76     13\n",
      "33.54 35.76 13\n"
     ]
    },
    {
     "name": "stderr",
     "output_type": "stream",
     "text": [
      "chunk:   4%|▍         | 2/49 [00:00<00:03, 13.83it/s, now=None]"
     ]
    },
    {
     "name": "stdout",
     "output_type": "stream",
     "text": [
      "MoviePy - Writing audio in ./data/audio_label_clip/activate\\byoung_0.wav\n"
     ]
    },
    {
     "name": "stderr",
     "output_type": "stream",
     "text": [
      "                                                               \r"
     ]
    },
    {
     "name": "stdout",
     "output_type": "stream",
     "text": [
      "MoviePy - Done.\n",
      "완료됬습니다.\n",
      "file name:7EoOqdul6Tk_18\n",
      "read new file\n",
      "   start   end  label\n",
      "0  35.76  37.2      0\n",
      "35.76 37.2 0\n"
     ]
    },
    {
     "name": "stderr",
     "output_type": "stream",
     "text": [
      "chunk:   0%|          | 0/32 [00:00<?, ?it/s, now=None]"
     ]
    },
    {
     "name": "stdout",
     "output_type": "stream",
     "text": [
      "MoviePy - Writing audio in ./data/audio_label_clip/negative\\negative_9.wav\n"
     ]
    },
    {
     "name": "stderr",
     "output_type": "stream",
     "text": [
      "                                                               \r"
     ]
    },
    {
     "name": "stdout",
     "output_type": "stream",
     "text": [
      "MoviePy - Done.\n",
      "완료됬습니다.\n",
      "file name:7EoOqdul6Tk_19\n",
      "read new file\n",
      "   start    end  label\n",
      "0   37.2  38.46     10\n",
      "37.2 38.46 10\n"
     ]
    },
    {
     "name": "stderr",
     "output_type": "stream",
     "text": [
      "                                                               "
     ]
    },
    {
     "name": "stdout",
     "output_type": "stream",
     "text": [
      "MoviePy - Writing audio in ./data/audio_label_clip/activate\\shi_0.wav\n",
      "MoviePy - Done."
     ]
    },
    {
     "name": "stderr",
     "output_type": "stream",
     "text": [
      "\r"
     ]
    },
    {
     "name": "stdout",
     "output_type": "stream",
     "text": [
      "\n",
      "완료됬습니다.\n",
      "file name:7EoOqdul6Tk_2\n",
      "read new file\n",
      "   start  end  label\n",
      "0  3.959  5.4      0\n",
      "3.959 5.4 0\n"
     ]
    },
    {
     "name": "stderr",
     "output_type": "stream",
     "text": [
      "                                                                 "
     ]
    },
    {
     "name": "stdout",
     "output_type": "stream",
     "text": [
      "MoviePy - Writing audio in ./data/audio_label_clip/negative\\negative_10.wav\n",
      "MoviePy - Done.\n",
      "완료됬습니다.\n",
      "file name:7EoOqdul6Tk_20\n",
      "read new file\n",
      "   start    end  label\n",
      "0  38.46  40.68      0\n",
      "38.46 40.68 0\n"
     ]
    },
    {
     "name": "stderr",
     "output_type": "stream",
     "text": [
      "                                                               "
     ]
    },
    {
     "name": "stdout",
     "output_type": "stream",
     "text": [
      "MoviePy - Writing audio in ./data/audio_label_clip/negative\\negative_11.wav\n",
      "MoviePy - Done."
     ]
    },
    {
     "name": "stderr",
     "output_type": "stream",
     "text": [
      "\r"
     ]
    },
    {
     "name": "stdout",
     "output_type": "stream",
     "text": [
      "\n",
      "완료됬습니다.\n",
      "file name:7EoOqdul6Tk_21\n",
      "read new file\n",
      "   start    end  label\n",
      "0  40.68  42.36      0\n",
      "40.68 42.36 0\n"
     ]
    },
    {
     "name": "stderr",
     "output_type": "stream",
     "text": [
      "chunk:   5%|▌         | 2/38 [00:00<00:02, 14.23it/s, now=None]"
     ]
    },
    {
     "name": "stdout",
     "output_type": "stream",
     "text": [
      "MoviePy - Writing audio in ./data/audio_label_clip/negative\\negative_12.wav\n"
     ]
    },
    {
     "name": "stderr",
     "output_type": "stream",
     "text": [
      "                                                               \r"
     ]
    },
    {
     "name": "stdout",
     "output_type": "stream",
     "text": [
      "MoviePy - Done.\n",
      "완료됬습니다.\n",
      "file name:7EoOqdul6Tk_22\n",
      "read new file\n",
      "   start    end  label\n",
      "0  42.36  43.98      0\n",
      "42.36 43.98 0\n"
     ]
    },
    {
     "name": "stderr",
     "output_type": "stream",
     "text": [
      "chunk:   0%|          | 0/36 [00:00<?, ?it/s, now=None]"
     ]
    },
    {
     "name": "stdout",
     "output_type": "stream",
     "text": [
      "MoviePy - Writing audio in ./data/audio_label_clip/negative\\negative_13.wav\n"
     ]
    },
    {
     "name": "stderr",
     "output_type": "stream",
     "text": [
      "                                                               \r"
     ]
    },
    {
     "name": "stdout",
     "output_type": "stream",
     "text": [
      "MoviePy - Done.\n",
      "완료됬습니다.\n",
      "file name:7EoOqdul6Tk_23\n",
      "read new file\n",
      "   start    end  label\n",
      "0  43.98  44.76      0\n",
      "43.98 44.76 0\n"
     ]
    },
    {
     "name": "stderr",
     "output_type": "stream",
     "text": [
      "                                                               "
     ]
    },
    {
     "name": "stdout",
     "output_type": "stream",
     "text": [
      "MoviePy - Writing audio in ./data/audio_label_clip/negative\\negative_14.wav\n",
      "MoviePy - Done."
     ]
    },
    {
     "name": "stderr",
     "output_type": "stream",
     "text": [
      "\r"
     ]
    },
    {
     "name": "stdout",
     "output_type": "stream",
     "text": [
      "\n",
      "완료됬습니다.\n",
      "file name:7EoOqdul6Tk_24\n",
      "read new file\n",
      "   start     end  label\n",
      "0  44.76  46.379      0\n",
      "44.76 46.379 0\n"
     ]
    },
    {
     "name": "stderr",
     "output_type": "stream",
     "text": [
      "chunk:   0%|          | 0/36 [00:00<?, ?it/s, now=None]"
     ]
    },
    {
     "name": "stdout",
     "output_type": "stream",
     "text": [
      "MoviePy - Writing audio in ./data/audio_label_clip/negative\\negative_15.wav\n"
     ]
    },
    {
     "name": "stderr",
     "output_type": "stream",
     "text": [
      "                                                               \r"
     ]
    },
    {
     "name": "stdout",
     "output_type": "stream",
     "text": [
      "MoviePy - Done.\n",
      "완료됬습니다.\n",
      "file name:7EoOqdul6Tk_25\n",
      "read new file\n",
      "    start   end  label\n",
      "0  46.379  48.0      0\n",
      "46.379 48.0 0\n"
     ]
    },
    {
     "name": "stderr",
     "output_type": "stream",
     "text": [
      "chunk:   0%|          | 0/36 [00:00<?, ?it/s, now=None]"
     ]
    },
    {
     "name": "stdout",
     "output_type": "stream",
     "text": [
      "MoviePy - Writing audio in ./data/audio_label_clip/negative\\negative_16.wav\n"
     ]
    },
    {
     "name": "stderr",
     "output_type": "stream",
     "text": [
      "                                                                \r"
     ]
    },
    {
     "name": "stdout",
     "output_type": "stream",
     "text": [
      "MoviePy - Done.\n",
      "완료됬습니다.\n",
      "file name:7EoOqdul6Tk_3\n",
      "read new file\n",
      "   start   end  label\n",
      "0    5.4  7.98      0\n",
      "5.4 7.98 0\n"
     ]
    },
    {
     "name": "stderr",
     "output_type": "stream",
     "text": [
      "chunk:   0%|          | 0/57 [00:00<?, ?it/s, now=None]"
     ]
    },
    {
     "name": "stdout",
     "output_type": "stream",
     "text": [
      "MoviePy - Writing audio in ./data/audio_label_clip/negative\\negative_17.wav\n"
     ]
    },
    {
     "name": "stderr",
     "output_type": "stream",
     "text": [
      "                                                               \r"
     ]
    },
    {
     "name": "stdout",
     "output_type": "stream",
     "text": [
      "MoviePy - Done.\n",
      "완료됬습니다.\n",
      "file name:7EoOqdul6Tk_4\n",
      "read new file\n",
      "   start   end  label\n",
      "0   7.98  10.2      0\n",
      "7.98 10.2 0\n"
     ]
    },
    {
     "name": "stderr",
     "output_type": "stream",
     "text": [
      "chunk:   0%|          | 0/49 [00:00<?, ?it/s, now=None]"
     ]
    },
    {
     "name": "stdout",
     "output_type": "stream",
     "text": [
      "MoviePy - Writing audio in ./data/audio_label_clip/negative\\negative_18.wav\n"
     ]
    },
    {
     "name": "stderr",
     "output_type": "stream",
     "text": [
      "                                                               \r"
     ]
    },
    {
     "name": "stdout",
     "output_type": "stream",
     "text": [
      "MoviePy - Done.\n",
      "완료됬습니다.\n",
      "file name:7EoOqdul6Tk_5\n",
      "read new file\n",
      "   start   end  label\n",
      "0   10.2  12.9     11\n",
      "10.2 12.9 11\n"
     ]
    },
    {
     "name": "stderr",
     "output_type": "stream",
     "text": [
      "chunk:   0%|          | 0/60 [00:00<?, ?it/s, now=None]"
     ]
    },
    {
     "name": "stdout",
     "output_type": "stream",
     "text": [
      "MoviePy - Writing audio in ./data/audio_label_clip/activate\\jon_0.wav\n"
     ]
    },
    {
     "name": "stderr",
     "output_type": "stream",
     "text": [
      "                                                               \r"
     ]
    },
    {
     "name": "stdout",
     "output_type": "stream",
     "text": [
      "MoviePy - Done.\n",
      "완료됬습니다.\n",
      "file name:7EoOqdul6Tk_6\n",
      "read new file\n",
      "   start     end  label\n",
      "0   12.9  15.179      0\n",
      "12.9 15.179 0\n"
     ]
    },
    {
     "name": "stderr",
     "output_type": "stream",
     "text": [
      "                                                                 "
     ]
    },
    {
     "name": "stdout",
     "output_type": "stream",
     "text": [
      "MoviePy - Writing audio in ./data/audio_label_clip/negative\\negative_19.wav\n",
      "MoviePy - Done.\n",
      "완료됬습니다.\n",
      "file name:7EoOqdul6Tk_7\n",
      "read new file\n",
      "    start     end  label\n",
      "0  15.179  17.039      0\n",
      "15.179 17.039 0\n"
     ]
    },
    {
     "name": "stderr",
     "output_type": "stream",
     "text": [
      "chunk:   0%|          | 0/42 [00:00<?, ?it/s, now=None]"
     ]
    },
    {
     "name": "stdout",
     "output_type": "stream",
     "text": [
      "MoviePy - Writing audio in ./data/audio_label_clip/negative\\negative_20.wav\n"
     ]
    },
    {
     "name": "stderr",
     "output_type": "stream",
     "text": [
      "                                                               \r"
     ]
    },
    {
     "name": "stdout",
     "output_type": "stream",
     "text": [
      "MoviePy - Done.\n",
      "완료됬습니다.\n",
      "file name:7EoOqdul6Tk_8\n",
      "read new file\n",
      "    start    end  label\n",
      "0  17.039  18.84      0\n",
      "17.039 18.84 0\n"
     ]
    },
    {
     "name": "stderr",
     "output_type": "stream",
     "text": [
      "chunk:   0%|          | 0/40 [00:00<?, ?it/s, now=None]"
     ]
    },
    {
     "name": "stdout",
     "output_type": "stream",
     "text": [
      "MoviePy - Writing audio in ./data/audio_label_clip/negative\\negative_21.wav\n"
     ]
    },
    {
     "name": "stderr",
     "output_type": "stream",
     "text": [
      "                                                               \r"
     ]
    },
    {
     "name": "stdout",
     "output_type": "stream",
     "text": [
      "MoviePy - Done.\n",
      "완료됬습니다.\n",
      "file name:7EoOqdul6Tk_9\n",
      "read new file\n",
      "   start     end  label\n",
      "0  18.84  20.939      0\n",
      "18.84 20.939 0\n"
     ]
    },
    {
     "name": "stderr",
     "output_type": "stream",
     "text": [
      "                                                               "
     ]
    },
    {
     "name": "stdout",
     "output_type": "stream",
     "text": [
      "MoviePy - Writing audio in ./data/audio_label_clip/negative\\negative_22.wav\n",
      "MoviePy - Done.\n",
      "완료됬습니다.\n"
     ]
    },
    {
     "name": "stderr",
     "output_type": "stream",
     "text": [
      "\r"
     ]
    }
   ],
   "source": [
    "audio = []\n",
    "label = []\n",
    "#라벨링\n",
    "shi = 0\n",
    "jon = 0\n",
    "sha = 0\n",
    "byoung = 0\n",
    "sang = 0 \n",
    "do = 0\n",
    "mi = 0\n",
    "gae = 0\n",
    "background = 0\n",
    "negative = 0\n",
    "count = 0\n",
    "\n",
    "# 이제 욕 추가될때마다 여기 counter 디렉터리에 추가해주면 됨\n",
    "counter = {\n",
    "    10: shi,\n",
    "    11: jon,\n",
    "    12: sha,\n",
    "    13: byoung,\n",
    "    14: do,\n",
    "    15: sang,\n",
    "    16: mi,\n",
    "    17: gae,\n",
    "    9: background,\n",
    "    0: negative\n",
    "}\n",
    "\n",
    "for file in files:\n",
    "    print(\"file name:\" + file)\n",
    "    text = './data/label/' + file + \".txt\"\n",
    "    aud = './data/label/' + file + \".wav\"\n",
    "    # 정규표현식 패턴\n",
    "    pattern = r\"^(.*?)_\\d+$\"\n",
    "    # 정규표현식 매칭\n",
    "    match = re.match(pattern, file)\n",
    "    raw_aud = './data/audio/' + str(match.group(1)) + \".wav\"\n",
    "\n",
    "    print(\"read new file\")\n",
    "    data = pd.read_csv(text, sep=\"\\t\", names=['start', 'end', 'label'])\n",
    "    print(data)\n",
    "    for i in range(len(data)):\n",
    "        lab = data.label[i]\n",
    "        print(data.start[i], data.end[i], data.label[i])\n",
    "        try:\n",
    "            start = float(data.start[i])\n",
    "            end = float(data.end[i])\n",
    "        except ValueError:\n",
    "            continue\n",
    "        if start >= end:\n",
    "            continue\n",
    "        if np.isnan(lab):\n",
    "            continue\n",
    "        full_audio = AudioFileClip(raw_aud)\n",
    "\n",
    "        # 각 라벨 이름 정의\n",
    "        lab_name = {\n",
    "            10: \"shi\",\n",
    "            11: \"jon\",\n",
    "            12: \"sha\",\n",
    "            13: \"byoung\",\n",
    "            14: \"do\",\n",
    "            15: \"sang\",\n",
    "            16: \"mi\",\n",
    "            17: \"gae\",\n",
    "            9: \"background\",\n",
    "            0: \"negative\"\n",
    "        }[lab]\n",
    "        \n",
    "        lab_counter = counter[lab]\n",
    "        name = f\"{lab_name}_{lab_counter}\"\n",
    "        counter[lab] += 1\n",
    "\n",
    "        tmp_audio = full_audio.subclip(start, end)\n",
    "        \n",
    "        #라벨에 맞게 디렉터리 경로 초기화해주고\n",
    "        if lab == 10 or lab == 11 or lab == 12 or lab == 13 or lab == 14 or lab == 15 or lab == 16 or lab == 17:\n",
    "            directory = activate_dir\n",
    "        elif lab == 9:\n",
    "            directory = background_dir\n",
    "        elif lab == 0:\n",
    "            directory = negative_dir\n",
    "        else:\n",
    "            continue\n",
    "        # 라벨에 맞는 디렉터리에 저장\n",
    "        name = os.path.join(directory, name + \".wav\")\n",
    "        try:\n",
    "            tmp_audio.write_audiofile(name)\n",
    "        except OSError:\n",
    "            print('oserror')\n",
    "            continue\n",
    "            \n",
    "        audio.append(name)\n",
    "        label.append(int(lab))\n",
    "        print('완료됬습니다.')\n",
    "    count += 1\n",
    "\n",
    "save(audio, label)"
   ]
  },
  {
   "cell_type": "code",
   "execution_count": null,
   "metadata": {},
   "outputs": [],
   "source": []
  }
 ],
 "metadata": {
  "kernelspec": {
   "display_name": "Beeeeep_2",
   "language": "python",
   "name": "python3"
  },
  "language_info": {
   "codemirror_mode": {
    "name": "ipython",
    "version": 3
   },
   "file_extension": ".py",
   "mimetype": "text/x-python",
   "name": "python",
   "nbconvert_exporter": "python",
   "pygments_lexer": "ipython3",
   "version": "3.7.16"
  }
 },
 "nbformat": 4,
 "nbformat_minor": 2
}
